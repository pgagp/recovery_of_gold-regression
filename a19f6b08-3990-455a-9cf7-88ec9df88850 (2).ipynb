{
 "cells": [
  {
   "cell_type": "markdown",
   "metadata": {},
   "source": [
    "# Комментарий ревьюера\n",
    "<div class=\"alert alert-block alert-info\">\n",
    "Привет, Галина! Меня зовут Анвар Ганиев, и я буду проверять твой проект. Предлагаю общаться на «ты» :) Но если это не удобно - дай знать, и мы перейдем на \"вы\". Моя основная цель — не указать на совершенные тобою ошибки, а поделиться своим опытом и помочь тебе стать data scientist'ом.\n",
    "\n",
    "Видно, что ты старалась, делая проект. Все ключевые этапы в работе выполнены, так что в целом справиться с задачей тебе удалось. Есть ещё несколько аспектов, которые требуют твоего внимания. Комментарии по ним помечены <span style='color:Red'> красным цветом  </span>. Комментарии я буду оставлять под ячейками, к которым они относятся. А еще писать в заголовке v{номер версии}, чтобы знать, при какой проверке, я их оставлял. После их доработки проект будет принят. Осталось совсем немного, буду ждать твою работу на повторное ревью 🙂\n",
    "\n",
    "<span style='color:Green'> Зелёным цветом </span> отмечены удачные и элегантные решения, на которые можно опираться в будущих проектах. <span style='color:Gold'> Жёлтым цветом </span>выделено то, что в следующий раз можно сделать по-другому. Ты можешь учесть эти комментарии при выполнении будущих заданий или доработать проект сейчас (однако это не обязательно).\n",
    "\n",
    "Давай работать над проектом в диалоге: если ты что-то меняешь в проекте по моим рекомендациям — пиши об этом. Выбери для своих комментариев какой-то заметный цвет, так мне будет легче отследить изменения. Пожалуйста, не перемещай, не изменяй и не удаляй мои комментарии. Всё это поможет выполнить повторную проверку твоего проекта оперативнее\n",
    "</div>\n"
   ]
  },
  {
   "cell_type": "markdown",
   "metadata": {
    "toc": true
   },
   "source": [
    "<h1>Содержание<span class=\"tocSkip\"></span></h1>\n",
    "<div class=\"toc\"><ul class=\"toc-item\"><li><span><a href=\"#Подготовка-данных\" data-toc-modified-id=\"Подготовка-данных-1\"><span class=\"toc-item-num\">1&nbsp;&nbsp;</span>Подготовка данных</a></span><ul class=\"toc-item\"><li><span><a href=\"#Откройте-файлы-и-изучите-их.\" data-toc-modified-id=\"Откройте-файлы-и-изучите-их.-1.1\"><span class=\"toc-item-num\">1.1&nbsp;&nbsp;</span>Откройте файлы и изучите их.</a></span></li><li><span><a href=\"#-Комментарий-ревьюера-v1\" data-toc-modified-id=\"-Комментарий-ревьюера-v1-1.2\"><span class=\"toc-item-num\">1.2&nbsp;&nbsp;</span> Комментарий ревьюера v1</a></span></li><li><span><a href=\"#-Ответ-студента-\" data-toc-modified-id=\"-Ответ-студента--1.3\"><span class=\"toc-item-num\">1.3&nbsp;&nbsp;</span> Ответ студента </a></span></li><li><span><a href=\"#Проверьте,-что-эффективность-обогащения-рассчитана-правильно.\" data-toc-modified-id=\"Проверьте,-что-эффективность-обогащения-рассчитана-правильно.-1.4\"><span class=\"toc-item-num\">1.4&nbsp;&nbsp;</span>Проверьте, что эффективность обогащения рассчитана правильно.</a></span></li><li><span><a href=\"#-Комментарий-ревьюера-v1\" data-toc-modified-id=\"-Комментарий-ревьюера-v1-1.5\"><span class=\"toc-item-num\">1.5&nbsp;&nbsp;</span> Комментарий ревьюера v1</a></span></li><li><span><a href=\"#Проанализируйте-признаки,-недоступные-в-тестовой-выборке.-Что-это-за-параметры?-К-какому-типу-относятся?\" data-toc-modified-id=\"Проанализируйте-признаки,-недоступные-в-тестовой-выборке.-Что-это-за-параметры?-К-какому-типу-относятся?-1.6\"><span class=\"toc-item-num\">1.6&nbsp;&nbsp;</span>Проанализируйте признаки, недоступные в тестовой выборке. Что это за параметры? К какому типу относятся?</a></span></li><li><span><a href=\"#Проведите-предобработку-данных.\" data-toc-modified-id=\"Проведите-предобработку-данных.-1.7\"><span class=\"toc-item-num\">1.7&nbsp;&nbsp;</span>Проведите предобработку данных.</a></span></li><li><span><a href=\"#-Комментарий-ревьюера-v1\" data-toc-modified-id=\"-Комментарий-ревьюера-v1-1.8\"><span class=\"toc-item-num\">1.8&nbsp;&nbsp;</span> Комментарий ревьюера v1</a></span></li></ul></li><li><span><a href=\"#Анализ-данных\" data-toc-modified-id=\"Анализ-данных-2\"><span class=\"toc-item-num\">2&nbsp;&nbsp;</span>Анализ данных</a></span><ul class=\"toc-item\"><li><span><a href=\"#Посмотрите,-как-меняется-концентрация-металлов-(Au,-Ag,-Pb)-на-различных-этапах-очистки.-Опишите-выводы.\" data-toc-modified-id=\"Посмотрите,-как-меняется-концентрация-металлов-(Au,-Ag,-Pb)-на-различных-этапах-очистки.-Опишите-выводы.-2.1\"><span class=\"toc-item-num\">2.1&nbsp;&nbsp;</span>Посмотрите, как меняется концентрация металлов (Au, Ag, Pb) на различных этапах очистки. Опишите выводы.</a></span></li><li><span><a href=\"#Сравните-распределения-размеров-гранул-сырья-на-обучающей-и-тестовой-выборках.-Если-распределения-сильно-отличаются-друг-от-друга,-оценка-модели-будет-неправильной.\" data-toc-modified-id=\"Сравните-распределения-размеров-гранул-сырья-на-обучающей-и-тестовой-выборках.-Если-распределения-сильно-отличаются-друг-от-друга,-оценка-модели-будет-неправильной.-2.2\"><span class=\"toc-item-num\">2.2&nbsp;&nbsp;</span>Сравните распределения размеров гранул сырья на обучающей и тестовой выборках. Если распределения сильно отличаются друг от друга, оценка модели будет неправильной.</a></span></li><li><span><a href=\"#-Комментарий-ревьюера-v1\" data-toc-modified-id=\"-Комментарий-ревьюера-v1-2.3\"><span class=\"toc-item-num\">2.3&nbsp;&nbsp;</span> Комментарий ревьюера v1</a></span></li><li><span><a href=\"#Исследуйте-суммарную-концентрацию-всех-веществ-на-разных-стадиях:-в-сырье,-в-черновом-и-финальном-концентратах.\" data-toc-modified-id=\"Исследуйте-суммарную-концентрацию-всех-веществ-на-разных-стадиях:-в-сырье,-в-черновом-и-финальном-концентратах.-2.4\"><span class=\"toc-item-num\">2.4&nbsp;&nbsp;</span>Исследуйте суммарную концентрацию всех веществ на разных стадиях: в сырье, в черновом и финальном концентратах.</a></span></li><li><span><a href=\"#-Комментарий-ревьюера-v1\" data-toc-modified-id=\"-Комментарий-ревьюера-v1-2.5\"><span class=\"toc-item-num\">2.5&nbsp;&nbsp;</span> Комментарий ревьюера v1</a></span></li><li><span><a href=\"#-Ответ-студента-v1\" data-toc-modified-id=\"-Ответ-студента-v1-2.6\"><span class=\"toc-item-num\">2.6&nbsp;&nbsp;</span> Ответ студента v1</a></span></li><li><span><a href=\"#-Комментарий-ревьюера-v2\" data-toc-modified-id=\"-Комментарий-ревьюера-v2-2.7\"><span class=\"toc-item-num\">2.7&nbsp;&nbsp;</span> Комментарий ревьюера v2</a></span></li></ul></li><li><span><a href=\"#Модель\" data-toc-modified-id=\"Модель-3\"><span class=\"toc-item-num\">3&nbsp;&nbsp;</span>Модель</a></span><ul class=\"toc-item\"><li><span><a href=\"#Напишите-функцию-для-вычисления-итоговой-sMAPE.\" data-toc-modified-id=\"Напишите-функцию-для-вычисления-итоговой-sMAPE.-3.1\"><span class=\"toc-item-num\">3.1&nbsp;&nbsp;</span>Напишите функцию для вычисления итоговой sMAPE.</a></span></li><li><span><a href=\"#-Комментарий-ревьюера-v1\" data-toc-modified-id=\"-Комментарий-ревьюера-v1-3.2\"><span class=\"toc-item-num\">3.2&nbsp;&nbsp;</span> Комментарий ревьюера v1</a></span></li><li><span><a href=\"#Обучите-разные-модели-и-оцените-их-качество-кросс-валидацией.-Выберите-лучшую-модель-и-проверьте-её-на-тестовой-выборке.-Опишите-выводы.\" data-toc-modified-id=\"Обучите-разные-модели-и-оцените-их-качество-кросс-валидацией.-Выберите-лучшую-модель-и-проверьте-её-на-тестовой-выборке.-Опишите-выводы.-3.3\"><span class=\"toc-item-num\">3.3&nbsp;&nbsp;</span>Обучите разные модели и оцените их качество кросс-валидацией. Выберите лучшую модель и проверьте её на тестовой выборке. Опишите выводы.</a></span><ul class=\"toc-item\"><li><span><a href=\"#Подготовка-выборок\" data-toc-modified-id=\"Подготовка-выборок-3.3.1\"><span class=\"toc-item-num\">3.3.1&nbsp;&nbsp;</span>Подготовка выборок</a></span><ul class=\"toc-item\"><li><span><a href=\"#Для-тестовой-выборки\" data-toc-modified-id=\"Для-тестовой-выборки-3.3.1.1\"><span class=\"toc-item-num\">3.3.1.1&nbsp;&nbsp;</span>Для тестовой выборки</a></span></li><li><span><a href=\"#Для-прогноза-эффективности-обогащения-чернового-концентрата\" data-toc-modified-id=\"Для-прогноза-эффективности-обогащения-чернового-концентрата-3.3.1.2\"><span class=\"toc-item-num\">3.3.1.2&nbsp;&nbsp;</span>Для прогноза эффективности обогащения чернового концентрата</a></span></li></ul></li></ul></li><li><span><a href=\"#-Комментарий-ревьюера-v1\" data-toc-modified-id=\"-Комментарий-ревьюера-v1-3.4\"><span class=\"toc-item-num\">3.4&nbsp;&nbsp;</span> Комментарий ревьюера v1</a></span><ul class=\"toc-item\"><li><ul class=\"toc-item\"><li><span><a href=\"#Для-прогноза-эффективности-обогащения--финального-концентрата\" data-toc-modified-id=\"Для-прогноза-эффективности-обогащения--финального-концентрата-3.4.0.1\"><span class=\"toc-item-num\">3.4.0.1&nbsp;&nbsp;</span>Для прогноза эффективности обогащения  финального концентрата</a></span></li></ul></li><li><span><a href=\"#Обучение-моделей\" data-toc-modified-id=\"Обучение-моделей-3.4.1\"><span class=\"toc-item-num\">3.4.1&nbsp;&nbsp;</span>Обучение моделей</a></span><ul class=\"toc-item\"><li><span><a href=\"#CatBoostRegressor\" data-toc-modified-id=\"CatBoostRegressor-3.4.1.1\"><span class=\"toc-item-num\">3.4.1.1&nbsp;&nbsp;</span>CatBoostRegressor</a></span></li></ul></li></ul></li><li><span><a href=\"#-Комментарий-ревьюера-v1\" data-toc-modified-id=\"-Комментарий-ревьюера-v1-3.5\"><span class=\"toc-item-num\">3.5&nbsp;&nbsp;</span> Комментарий ревьюера v1</a></span><ul class=\"toc-item\"><li><ul class=\"toc-item\"><li><span><a href=\"#Линейная-регрессия\" data-toc-modified-id=\"Линейная-регрессия-3.5.0.1\"><span class=\"toc-item-num\">3.5.0.1&nbsp;&nbsp;</span>Линейная регрессия</a></span></li></ul></li></ul></li><li><span><a href=\"#-Комментарий-ревьюера-v1\" data-toc-modified-id=\"-Комментарий-ревьюера-v1-3.6\"><span class=\"toc-item-num\">3.6&nbsp;&nbsp;</span> Комментарий ревьюера v1</a></span><ul class=\"toc-item\"><li><ul class=\"toc-item\"><li><span><a href=\"#Проверка-лучшей-модели-на-тестовой-выборке\" data-toc-modified-id=\"Проверка-лучшей-модели-на-тестовой-выборке-3.6.0.1\"><span class=\"toc-item-num\">3.6.0.1&nbsp;&nbsp;</span>Проверка лучшей модели на тестовой выборке</a></span></li><li><span><a href=\"#Проверка-модели-на-вменяемость-(Dummy)\" data-toc-modified-id=\"Проверка-модели-на-вменяемость-(Dummy)-3.6.0.2\"><span class=\"toc-item-num\">3.6.0.2&nbsp;&nbsp;</span>Проверка модели на вменяемость (Dummy)</a></span></li></ul></li></ul></li><li><span><a href=\"#-Комментарий-ревьюера-v1\" data-toc-modified-id=\"-Комментарий-ревьюера-v1-3.7\"><span class=\"toc-item-num\">3.7&nbsp;&nbsp;</span> Комментарий ревьюера v1</a></span></li></ul></li><li><span><a href=\"#Вывод\" data-toc-modified-id=\"Вывод-4\"><span class=\"toc-item-num\">4&nbsp;&nbsp;</span>Вывод</a></span></li><li><span><a href=\"#Чек-лист-готовности-проекта\" data-toc-modified-id=\"Чек-лист-готовности-проекта-5\"><span class=\"toc-item-num\">5&nbsp;&nbsp;</span>Чек-лист готовности проекта</a></span><ul class=\"toc-item\"><li><span><a href=\"#-Итоговый-комментарий\" data-toc-modified-id=\"-Итоговый-комментарий-5.1\"><span class=\"toc-item-num\">5.1&nbsp;&nbsp;</span> Итоговый комментарий</a></span></li><li><span><a href=\"#-Комментарий-ревьюера-v2\" data-toc-modified-id=\"-Комментарий-ревьюера-v2-5.2\"><span class=\"toc-item-num\">5.2&nbsp;&nbsp;</span> Комментарий ревьюера v2</a></span></li></ul></li></ul></div>"
   ]
  },
  {
   "cell_type": "markdown",
   "metadata": {},
   "source": [
    "# Восстановление золота из руды"
   ]
  },
  {
   "cell_type": "markdown",
   "metadata": {},
   "source": [
    "Подготовьте прототип модели машинного обучения для «Цифры». Компания разрабатывает решения для эффективной работы промышленных предприятий.\n",
    "\n",
    "Модель должна предсказать коэффициент восстановления золота из золотосодержащей руды. Используйте данные с параметрами добычи и очистки. \n",
    "\n",
    "Модель поможет оптимизировать производство, чтобы не запускать предприятие с убыточными характеристиками.\n",
    "\n",
    "Вам нужно:\n",
    "\n",
    "1. Подготовить данные;\n",
    "2. Провести исследовательский анализ данных;\n",
    "3. Построить и обучить модель.\n",
    "\n",
    "Чтобы выполнить проект, обращайтесь к библиотекам *pandas*, *matplotlib* и *sklearn.* Вам поможет их документация."
   ]
  },
  {
   "cell_type": "markdown",
   "metadata": {},
   "source": [
    "## Подготовка данных"
   ]
  },
  {
   "cell_type": "markdown",
   "metadata": {},
   "source": [
    "### Откройте файлы и изучите их."
   ]
  },
  {
   "cell_type": "code",
   "execution_count": 1,
   "metadata": {},
   "outputs": [],
   "source": [
    "import pandas as pd\n",
    "import numpy as np\n",
    "import seaborn as sns\n",
    "import matplotlib.pyplot as plt\n",
    "from catboost import CatBoostRegressor\n",
    "from sklearn.metrics import mean_absolute_error, mean_squared_error, fbeta_score, make_scorer\n",
    "from sklearn.preprocessing import StandardScaler\n",
    "from sklearn.linear_model import LinearRegression\n",
    "from sklearn.model_selection import cross_val_score, GridSearchCV, RandomizedSearchCV\n",
    "from sklearn.dummy import DummyRegressor"
   ]
  },
  {
   "cell_type": "markdown",
   "metadata": {},
   "source": [
    "<div class=\"alert alert-success\"> ✅ \n",
    "<h3> Комментарий ревьюера v1</h3>\n",
    "\n",
    "Здорово, что все импорты находятся в одной ячейке. Если хочешь сделать ещё лучше, соблюдай стандарт PEP-8 =)\n",
    "Ссылка для ознакомления: https://pythonworld.ru/osnovy/pep-8-rukovodstvo-po-napisaniyu-koda-na-python.html#section-8\n"
   ]
  },
  {
   "cell_type": "markdown",
   "metadata": {},
   "source": [
    "<div class=\"alert alert-info\">  \n",
    "<h3> Ответ студента </h3> check"
   ]
  },
  {
   "cell_type": "code",
   "execution_count": 2,
   "metadata": {},
   "outputs": [],
   "source": [
    "full_data = pd.read_csv('/datasets/gold_recovery_full_new.csv')\n",
    "train_data = pd.read_csv('/datasets/gold_recovery_train_new.csv')\n",
    "test_data = pd.read_csv('/datasets/gold_recovery_test_new.csv')"
   ]
  },
  {
   "cell_type": "code",
   "execution_count": 3,
   "metadata": {},
   "outputs": [],
   "source": [
    "def review_of_data(data):\n",
    "    print(data.shape)\n",
    "    display(data.head(2))\n",
    "    print()\n",
    "    print('Явных дубликатов =', data.duplicated().sum())\n",
    "    print()\n",
    "    print('Пропусков = ', data.isna().sum().sum())\n",
    "    print()\n",
    "    print(data.info())"
   ]
  },
  {
   "cell_type": "code",
   "execution_count": 4,
   "metadata": {
    "scrolled": false
   },
   "outputs": [
    {
     "name": "stdout",
     "output_type": "stream",
     "text": [
      "(19439, 87)\n"
     ]
    },
    {
     "data": {
      "text/html": [
       "<div>\n",
       "<style scoped>\n",
       "    .dataframe tbody tr th:only-of-type {\n",
       "        vertical-align: middle;\n",
       "    }\n",
       "\n",
       "    .dataframe tbody tr th {\n",
       "        vertical-align: top;\n",
       "    }\n",
       "\n",
       "    .dataframe thead th {\n",
       "        text-align: right;\n",
       "    }\n",
       "</style>\n",
       "<table border=\"1\" class=\"dataframe\">\n",
       "  <thead>\n",
       "    <tr style=\"text-align: right;\">\n",
       "      <th></th>\n",
       "      <th>date</th>\n",
       "      <th>final.output.concentrate_ag</th>\n",
       "      <th>final.output.concentrate_pb</th>\n",
       "      <th>final.output.concentrate_sol</th>\n",
       "      <th>final.output.concentrate_au</th>\n",
       "      <th>final.output.recovery</th>\n",
       "      <th>final.output.tail_ag</th>\n",
       "      <th>final.output.tail_pb</th>\n",
       "      <th>final.output.tail_sol</th>\n",
       "      <th>final.output.tail_au</th>\n",
       "      <th>...</th>\n",
       "      <th>secondary_cleaner.state.floatbank4_a_air</th>\n",
       "      <th>secondary_cleaner.state.floatbank4_a_level</th>\n",
       "      <th>secondary_cleaner.state.floatbank4_b_air</th>\n",
       "      <th>secondary_cleaner.state.floatbank4_b_level</th>\n",
       "      <th>secondary_cleaner.state.floatbank5_a_air</th>\n",
       "      <th>secondary_cleaner.state.floatbank5_a_level</th>\n",
       "      <th>secondary_cleaner.state.floatbank5_b_air</th>\n",
       "      <th>secondary_cleaner.state.floatbank5_b_level</th>\n",
       "      <th>secondary_cleaner.state.floatbank6_a_air</th>\n",
       "      <th>secondary_cleaner.state.floatbank6_a_level</th>\n",
       "    </tr>\n",
       "  </thead>\n",
       "  <tbody>\n",
       "    <tr>\n",
       "      <th>0</th>\n",
       "      <td>2016-01-15 00:00:00</td>\n",
       "      <td>6.055403</td>\n",
       "      <td>9.889648</td>\n",
       "      <td>5.507324</td>\n",
       "      <td>42.192020</td>\n",
       "      <td>70.541216</td>\n",
       "      <td>10.411962</td>\n",
       "      <td>0.895447</td>\n",
       "      <td>16.904297</td>\n",
       "      <td>2.143149</td>\n",
       "      <td>...</td>\n",
       "      <td>14.016835</td>\n",
       "      <td>-502.488007</td>\n",
       "      <td>12.099931</td>\n",
       "      <td>-504.715942</td>\n",
       "      <td>9.925633</td>\n",
       "      <td>-498.310211</td>\n",
       "      <td>8.079666</td>\n",
       "      <td>-500.470978</td>\n",
       "      <td>14.151341</td>\n",
       "      <td>-605.841980</td>\n",
       "    </tr>\n",
       "    <tr>\n",
       "      <th>1</th>\n",
       "      <td>2016-01-15 01:00:00</td>\n",
       "      <td>6.029369</td>\n",
       "      <td>9.968944</td>\n",
       "      <td>5.257781</td>\n",
       "      <td>42.701629</td>\n",
       "      <td>69.266198</td>\n",
       "      <td>10.462676</td>\n",
       "      <td>0.927452</td>\n",
       "      <td>16.634514</td>\n",
       "      <td>2.224930</td>\n",
       "      <td>...</td>\n",
       "      <td>13.992281</td>\n",
       "      <td>-505.503262</td>\n",
       "      <td>11.950531</td>\n",
       "      <td>-501.331529</td>\n",
       "      <td>10.039245</td>\n",
       "      <td>-500.169983</td>\n",
       "      <td>7.984757</td>\n",
       "      <td>-500.582168</td>\n",
       "      <td>13.998353</td>\n",
       "      <td>-599.787184</td>\n",
       "    </tr>\n",
       "  </tbody>\n",
       "</table>\n",
       "<p>2 rows × 87 columns</p>\n",
       "</div>"
      ],
      "text/plain": [
       "                  date  final.output.concentrate_ag  \\\n",
       "0  2016-01-15 00:00:00                     6.055403   \n",
       "1  2016-01-15 01:00:00                     6.029369   \n",
       "\n",
       "   final.output.concentrate_pb  final.output.concentrate_sol  \\\n",
       "0                     9.889648                      5.507324   \n",
       "1                     9.968944                      5.257781   \n",
       "\n",
       "   final.output.concentrate_au  final.output.recovery  final.output.tail_ag  \\\n",
       "0                    42.192020              70.541216             10.411962   \n",
       "1                    42.701629              69.266198             10.462676   \n",
       "\n",
       "   final.output.tail_pb  final.output.tail_sol  final.output.tail_au  ...  \\\n",
       "0              0.895447              16.904297              2.143149  ...   \n",
       "1              0.927452              16.634514              2.224930  ...   \n",
       "\n",
       "   secondary_cleaner.state.floatbank4_a_air  \\\n",
       "0                                 14.016835   \n",
       "1                                 13.992281   \n",
       "\n",
       "   secondary_cleaner.state.floatbank4_a_level  \\\n",
       "0                                 -502.488007   \n",
       "1                                 -505.503262   \n",
       "\n",
       "   secondary_cleaner.state.floatbank4_b_air  \\\n",
       "0                                 12.099931   \n",
       "1                                 11.950531   \n",
       "\n",
       "   secondary_cleaner.state.floatbank4_b_level  \\\n",
       "0                                 -504.715942   \n",
       "1                                 -501.331529   \n",
       "\n",
       "   secondary_cleaner.state.floatbank5_a_air  \\\n",
       "0                                  9.925633   \n",
       "1                                 10.039245   \n",
       "\n",
       "   secondary_cleaner.state.floatbank5_a_level  \\\n",
       "0                                 -498.310211   \n",
       "1                                 -500.169983   \n",
       "\n",
       "   secondary_cleaner.state.floatbank5_b_air  \\\n",
       "0                                  8.079666   \n",
       "1                                  7.984757   \n",
       "\n",
       "   secondary_cleaner.state.floatbank5_b_level  \\\n",
       "0                                 -500.470978   \n",
       "1                                 -500.582168   \n",
       "\n",
       "   secondary_cleaner.state.floatbank6_a_air  \\\n",
       "0                                 14.151341   \n",
       "1                                 13.998353   \n",
       "\n",
       "   secondary_cleaner.state.floatbank6_a_level  \n",
       "0                                 -605.841980  \n",
       "1                                 -599.787184  \n",
       "\n",
       "[2 rows x 87 columns]"
      ]
     },
     "metadata": {},
     "output_type": "display_data"
    },
    {
     "name": "stdout",
     "output_type": "stream",
     "text": [
      "\n",
      "Явных дубликатов = 0\n",
      "\n",
      "Пропусков =  4481\n",
      "\n",
      "<class 'pandas.core.frame.DataFrame'>\n",
      "RangeIndex: 19439 entries, 0 to 19438\n",
      "Data columns (total 87 columns):\n",
      " #   Column                                              Non-Null Count  Dtype  \n",
      "---  ------                                              --------------  -----  \n",
      " 0   date                                                19439 non-null  object \n",
      " 1   final.output.concentrate_ag                         19438 non-null  float64\n",
      " 2   final.output.concentrate_pb                         19438 non-null  float64\n",
      " 3   final.output.concentrate_sol                        19228 non-null  float64\n",
      " 4   final.output.concentrate_au                         19439 non-null  float64\n",
      " 5   final.output.recovery                               19439 non-null  float64\n",
      " 6   final.output.tail_ag                                19438 non-null  float64\n",
      " 7   final.output.tail_pb                                19338 non-null  float64\n",
      " 8   final.output.tail_sol                               19433 non-null  float64\n",
      " 9   final.output.tail_au                                19439 non-null  float64\n",
      " 10  primary_cleaner.input.sulfate                       19415 non-null  float64\n",
      " 11  primary_cleaner.input.depressant                    19402 non-null  float64\n",
      " 12  primary_cleaner.input.feed_size                     19439 non-null  float64\n",
      " 13  primary_cleaner.input.xanthate                      19335 non-null  float64\n",
      " 14  primary_cleaner.output.concentrate_ag               19439 non-null  float64\n",
      " 15  primary_cleaner.output.concentrate_pb               19323 non-null  float64\n",
      " 16  primary_cleaner.output.concentrate_sol              19069 non-null  float64\n",
      " 17  primary_cleaner.output.concentrate_au               19439 non-null  float64\n",
      " 18  primary_cleaner.output.tail_ag                      19435 non-null  float64\n",
      " 19  primary_cleaner.output.tail_pb                      19418 non-null  float64\n",
      " 20  primary_cleaner.output.tail_sol                     19377 non-null  float64\n",
      " 21  primary_cleaner.output.tail_au                      19439 non-null  float64\n",
      " 22  primary_cleaner.state.floatbank8_a_air              19435 non-null  float64\n",
      " 23  primary_cleaner.state.floatbank8_a_level            19438 non-null  float64\n",
      " 24  primary_cleaner.state.floatbank8_b_air              19435 non-null  float64\n",
      " 25  primary_cleaner.state.floatbank8_b_level            19438 non-null  float64\n",
      " 26  primary_cleaner.state.floatbank8_c_air              19437 non-null  float64\n",
      " 27  primary_cleaner.state.floatbank8_c_level            19438 non-null  float64\n",
      " 28  primary_cleaner.state.floatbank8_d_air              19436 non-null  float64\n",
      " 29  primary_cleaner.state.floatbank8_d_level            19438 non-null  float64\n",
      " 30  rougher.calculation.sulfate_to_au_concentrate       19437 non-null  float64\n",
      " 31  rougher.calculation.floatbank10_sulfate_to_au_feed  19437 non-null  float64\n",
      " 32  rougher.calculation.floatbank11_sulfate_to_au_feed  19437 non-null  float64\n",
      " 33  rougher.calculation.au_pb_ratio                     19439 non-null  float64\n",
      " 34  rougher.input.feed_ag                               19439 non-null  float64\n",
      " 35  rougher.input.feed_pb                               19339 non-null  float64\n",
      " 36  rougher.input.feed_rate                             19428 non-null  float64\n",
      " 37  rougher.input.feed_size                             19294 non-null  float64\n",
      " 38  rougher.input.feed_sol                              19340 non-null  float64\n",
      " 39  rougher.input.feed_au                               19439 non-null  float64\n",
      " 40  rougher.input.floatbank10_sulfate                   19405 non-null  float64\n",
      " 41  rougher.input.floatbank10_xanthate                  19431 non-null  float64\n",
      " 42  rougher.input.floatbank11_sulfate                   19395 non-null  float64\n",
      " 43  rougher.input.floatbank11_xanthate                  18986 non-null  float64\n",
      " 44  rougher.output.concentrate_ag                       19439 non-null  float64\n",
      " 45  rougher.output.concentrate_pb                       19439 non-null  float64\n",
      " 46  rougher.output.concentrate_sol                      19416 non-null  float64\n",
      " 47  rougher.output.concentrate_au                       19439 non-null  float64\n",
      " 48  rougher.output.recovery                             19439 non-null  float64\n",
      " 49  rougher.output.tail_ag                              19438 non-null  float64\n",
      " 50  rougher.output.tail_pb                              19439 non-null  float64\n",
      " 51  rougher.output.tail_sol                             19439 non-null  float64\n",
      " 52  rougher.output.tail_au                              19439 non-null  float64\n",
      " 53  rougher.state.floatbank10_a_air                     19438 non-null  float64\n",
      " 54  rougher.state.floatbank10_a_level                   19438 non-null  float64\n",
      " 55  rougher.state.floatbank10_b_air                     19438 non-null  float64\n",
      " 56  rougher.state.floatbank10_b_level                   19438 non-null  float64\n",
      " 57  rougher.state.floatbank10_c_air                     19438 non-null  float64\n",
      " 58  rougher.state.floatbank10_c_level                   19438 non-null  float64\n",
      " 59  rougher.state.floatbank10_d_air                     19439 non-null  float64\n",
      " 60  rougher.state.floatbank10_d_level                   19439 non-null  float64\n",
      " 61  rougher.state.floatbank10_e_air                     19003 non-null  float64\n",
      " 62  rougher.state.floatbank10_e_level                   19439 non-null  float64\n",
      " 63  rougher.state.floatbank10_f_air                     19439 non-null  float64\n",
      " 64  rougher.state.floatbank10_f_level                   19439 non-null  float64\n",
      " 65  secondary_cleaner.output.tail_ag                    19437 non-null  float64\n",
      " 66  secondary_cleaner.output.tail_pb                    19427 non-null  float64\n",
      " 67  secondary_cleaner.output.tail_sol                   17691 non-null  float64\n",
      " 68  secondary_cleaner.output.tail_au                    19439 non-null  float64\n",
      " 69  secondary_cleaner.state.floatbank2_a_air            19219 non-null  float64\n",
      " 70  secondary_cleaner.state.floatbank2_a_level          19438 non-null  float64\n",
      " 71  secondary_cleaner.state.floatbank2_b_air            19416 non-null  float64\n",
      " 72  secondary_cleaner.state.floatbank2_b_level          19438 non-null  float64\n",
      " 73  secondary_cleaner.state.floatbank3_a_air            19426 non-null  float64\n",
      " 74  secondary_cleaner.state.floatbank3_a_level          19438 non-null  float64\n",
      " 75  secondary_cleaner.state.floatbank3_b_air            19438 non-null  float64\n",
      " 76  secondary_cleaner.state.floatbank3_b_level          19438 non-null  float64\n",
      " 77  secondary_cleaner.state.floatbank4_a_air            19433 non-null  float64\n",
      " 78  secondary_cleaner.state.floatbank4_a_level          19438 non-null  float64\n",
      " 79  secondary_cleaner.state.floatbank4_b_air            19438 non-null  float64\n",
      " 80  secondary_cleaner.state.floatbank4_b_level          19438 non-null  float64\n",
      " 81  secondary_cleaner.state.floatbank5_a_air            19438 non-null  float64\n",
      " 82  secondary_cleaner.state.floatbank5_a_level          19438 non-null  float64\n",
      " 83  secondary_cleaner.state.floatbank5_b_air            19438 non-null  float64\n",
      " 84  secondary_cleaner.state.floatbank5_b_level          19438 non-null  float64\n",
      " 85  secondary_cleaner.state.floatbank6_a_air            19437 non-null  float64\n",
      " 86  secondary_cleaner.state.floatbank6_a_level          19438 non-null  float64\n",
      "dtypes: float64(86), object(1)\n",
      "memory usage: 12.9+ MB\n",
      "None\n"
     ]
    }
   ],
   "source": [
    "review_of_data(full_data)"
   ]
  },
  {
   "cell_type": "code",
   "execution_count": 5,
   "metadata": {
    "scrolled": false
   },
   "outputs": [
    {
     "name": "stdout",
     "output_type": "stream",
     "text": [
      "(14149, 87)\n"
     ]
    },
    {
     "data": {
      "text/html": [
       "<div>\n",
       "<style scoped>\n",
       "    .dataframe tbody tr th:only-of-type {\n",
       "        vertical-align: middle;\n",
       "    }\n",
       "\n",
       "    .dataframe tbody tr th {\n",
       "        vertical-align: top;\n",
       "    }\n",
       "\n",
       "    .dataframe thead th {\n",
       "        text-align: right;\n",
       "    }\n",
       "</style>\n",
       "<table border=\"1\" class=\"dataframe\">\n",
       "  <thead>\n",
       "    <tr style=\"text-align: right;\">\n",
       "      <th></th>\n",
       "      <th>date</th>\n",
       "      <th>final.output.concentrate_ag</th>\n",
       "      <th>final.output.concentrate_pb</th>\n",
       "      <th>final.output.concentrate_sol</th>\n",
       "      <th>final.output.concentrate_au</th>\n",
       "      <th>final.output.recovery</th>\n",
       "      <th>final.output.tail_ag</th>\n",
       "      <th>final.output.tail_pb</th>\n",
       "      <th>final.output.tail_sol</th>\n",
       "      <th>final.output.tail_au</th>\n",
       "      <th>...</th>\n",
       "      <th>secondary_cleaner.state.floatbank4_a_air</th>\n",
       "      <th>secondary_cleaner.state.floatbank4_a_level</th>\n",
       "      <th>secondary_cleaner.state.floatbank4_b_air</th>\n",
       "      <th>secondary_cleaner.state.floatbank4_b_level</th>\n",
       "      <th>secondary_cleaner.state.floatbank5_a_air</th>\n",
       "      <th>secondary_cleaner.state.floatbank5_a_level</th>\n",
       "      <th>secondary_cleaner.state.floatbank5_b_air</th>\n",
       "      <th>secondary_cleaner.state.floatbank5_b_level</th>\n",
       "      <th>secondary_cleaner.state.floatbank6_a_air</th>\n",
       "      <th>secondary_cleaner.state.floatbank6_a_level</th>\n",
       "    </tr>\n",
       "  </thead>\n",
       "  <tbody>\n",
       "    <tr>\n",
       "      <th>0</th>\n",
       "      <td>2016-01-15 00:00:00</td>\n",
       "      <td>6.055403</td>\n",
       "      <td>9.889648</td>\n",
       "      <td>5.507324</td>\n",
       "      <td>42.192020</td>\n",
       "      <td>70.541216</td>\n",
       "      <td>10.411962</td>\n",
       "      <td>0.895447</td>\n",
       "      <td>16.904297</td>\n",
       "      <td>2.143149</td>\n",
       "      <td>...</td>\n",
       "      <td>14.016835</td>\n",
       "      <td>-502.488007</td>\n",
       "      <td>12.099931</td>\n",
       "      <td>-504.715942</td>\n",
       "      <td>9.925633</td>\n",
       "      <td>-498.310211</td>\n",
       "      <td>8.079666</td>\n",
       "      <td>-500.470978</td>\n",
       "      <td>14.151341</td>\n",
       "      <td>-605.841980</td>\n",
       "    </tr>\n",
       "    <tr>\n",
       "      <th>1</th>\n",
       "      <td>2016-01-15 01:00:00</td>\n",
       "      <td>6.029369</td>\n",
       "      <td>9.968944</td>\n",
       "      <td>5.257781</td>\n",
       "      <td>42.701629</td>\n",
       "      <td>69.266198</td>\n",
       "      <td>10.462676</td>\n",
       "      <td>0.927452</td>\n",
       "      <td>16.634514</td>\n",
       "      <td>2.224930</td>\n",
       "      <td>...</td>\n",
       "      <td>13.992281</td>\n",
       "      <td>-505.503262</td>\n",
       "      <td>11.950531</td>\n",
       "      <td>-501.331529</td>\n",
       "      <td>10.039245</td>\n",
       "      <td>-500.169983</td>\n",
       "      <td>7.984757</td>\n",
       "      <td>-500.582168</td>\n",
       "      <td>13.998353</td>\n",
       "      <td>-599.787184</td>\n",
       "    </tr>\n",
       "  </tbody>\n",
       "</table>\n",
       "<p>2 rows × 87 columns</p>\n",
       "</div>"
      ],
      "text/plain": [
       "                  date  final.output.concentrate_ag  \\\n",
       "0  2016-01-15 00:00:00                     6.055403   \n",
       "1  2016-01-15 01:00:00                     6.029369   \n",
       "\n",
       "   final.output.concentrate_pb  final.output.concentrate_sol  \\\n",
       "0                     9.889648                      5.507324   \n",
       "1                     9.968944                      5.257781   \n",
       "\n",
       "   final.output.concentrate_au  final.output.recovery  final.output.tail_ag  \\\n",
       "0                    42.192020              70.541216             10.411962   \n",
       "1                    42.701629              69.266198             10.462676   \n",
       "\n",
       "   final.output.tail_pb  final.output.tail_sol  final.output.tail_au  ...  \\\n",
       "0              0.895447              16.904297              2.143149  ...   \n",
       "1              0.927452              16.634514              2.224930  ...   \n",
       "\n",
       "   secondary_cleaner.state.floatbank4_a_air  \\\n",
       "0                                 14.016835   \n",
       "1                                 13.992281   \n",
       "\n",
       "   secondary_cleaner.state.floatbank4_a_level  \\\n",
       "0                                 -502.488007   \n",
       "1                                 -505.503262   \n",
       "\n",
       "   secondary_cleaner.state.floatbank4_b_air  \\\n",
       "0                                 12.099931   \n",
       "1                                 11.950531   \n",
       "\n",
       "   secondary_cleaner.state.floatbank4_b_level  \\\n",
       "0                                 -504.715942   \n",
       "1                                 -501.331529   \n",
       "\n",
       "   secondary_cleaner.state.floatbank5_a_air  \\\n",
       "0                                  9.925633   \n",
       "1                                 10.039245   \n",
       "\n",
       "   secondary_cleaner.state.floatbank5_a_level  \\\n",
       "0                                 -498.310211   \n",
       "1                                 -500.169983   \n",
       "\n",
       "   secondary_cleaner.state.floatbank5_b_air  \\\n",
       "0                                  8.079666   \n",
       "1                                  7.984757   \n",
       "\n",
       "   secondary_cleaner.state.floatbank5_b_level  \\\n",
       "0                                 -500.470978   \n",
       "1                                 -500.582168   \n",
       "\n",
       "   secondary_cleaner.state.floatbank6_a_air  \\\n",
       "0                                 14.151341   \n",
       "1                                 13.998353   \n",
       "\n",
       "   secondary_cleaner.state.floatbank6_a_level  \n",
       "0                                 -605.841980  \n",
       "1                                 -599.787184  \n",
       "\n",
       "[2 rows x 87 columns]"
      ]
     },
     "metadata": {},
     "output_type": "display_data"
    },
    {
     "name": "stdout",
     "output_type": "stream",
     "text": [
      "\n",
      "Явных дубликатов = 0\n",
      "\n",
      "Пропусков =  4100\n",
      "\n",
      "<class 'pandas.core.frame.DataFrame'>\n",
      "RangeIndex: 14149 entries, 0 to 14148\n",
      "Data columns (total 87 columns):\n",
      " #   Column                                              Non-Null Count  Dtype  \n",
      "---  ------                                              --------------  -----  \n",
      " 0   date                                                14149 non-null  object \n",
      " 1   final.output.concentrate_ag                         14148 non-null  float64\n",
      " 2   final.output.concentrate_pb                         14148 non-null  float64\n",
      " 3   final.output.concentrate_sol                        13938 non-null  float64\n",
      " 4   final.output.concentrate_au                         14149 non-null  float64\n",
      " 5   final.output.recovery                               14149 non-null  float64\n",
      " 6   final.output.tail_ag                                14149 non-null  float64\n",
      " 7   final.output.tail_pb                                14049 non-null  float64\n",
      " 8   final.output.tail_sol                               14144 non-null  float64\n",
      " 9   final.output.tail_au                                14149 non-null  float64\n",
      " 10  primary_cleaner.input.sulfate                       14129 non-null  float64\n",
      " 11  primary_cleaner.input.depressant                    14117 non-null  float64\n",
      " 12  primary_cleaner.input.feed_size                     14149 non-null  float64\n",
      " 13  primary_cleaner.input.xanthate                      14049 non-null  float64\n",
      " 14  primary_cleaner.output.concentrate_ag               14149 non-null  float64\n",
      " 15  primary_cleaner.output.concentrate_pb               14063 non-null  float64\n",
      " 16  primary_cleaner.output.concentrate_sol              13863 non-null  float64\n",
      " 17  primary_cleaner.output.concentrate_au               14149 non-null  float64\n",
      " 18  primary_cleaner.output.tail_ag                      14148 non-null  float64\n",
      " 19  primary_cleaner.output.tail_pb                      14134 non-null  float64\n",
      " 20  primary_cleaner.output.tail_sol                     14103 non-null  float64\n",
      " 21  primary_cleaner.output.tail_au                      14149 non-null  float64\n",
      " 22  primary_cleaner.state.floatbank8_a_air              14145 non-null  float64\n",
      " 23  primary_cleaner.state.floatbank8_a_level            14148 non-null  float64\n",
      " 24  primary_cleaner.state.floatbank8_b_air              14145 non-null  float64\n",
      " 25  primary_cleaner.state.floatbank8_b_level            14148 non-null  float64\n",
      " 26  primary_cleaner.state.floatbank8_c_air              14147 non-null  float64\n",
      " 27  primary_cleaner.state.floatbank8_c_level            14148 non-null  float64\n",
      " 28  primary_cleaner.state.floatbank8_d_air              14146 non-null  float64\n",
      " 29  primary_cleaner.state.floatbank8_d_level            14148 non-null  float64\n",
      " 30  rougher.calculation.sulfate_to_au_concentrate       14148 non-null  float64\n",
      " 31  rougher.calculation.floatbank10_sulfate_to_au_feed  14148 non-null  float64\n",
      " 32  rougher.calculation.floatbank11_sulfate_to_au_feed  14148 non-null  float64\n",
      " 33  rougher.calculation.au_pb_ratio                     14149 non-null  float64\n",
      " 34  rougher.input.feed_ag                               14149 non-null  float64\n",
      " 35  rougher.input.feed_pb                               14049 non-null  float64\n",
      " 36  rougher.input.feed_rate                             14141 non-null  float64\n",
      " 37  rougher.input.feed_size                             14005 non-null  float64\n",
      " 38  rougher.input.feed_sol                              14071 non-null  float64\n",
      " 39  rougher.input.feed_au                               14149 non-null  float64\n",
      " 40  rougher.input.floatbank10_sulfate                   14120 non-null  float64\n",
      " 41  rougher.input.floatbank10_xanthate                  14141 non-null  float64\n",
      " 42  rougher.input.floatbank11_sulfate                   14113 non-null  float64\n",
      " 43  rougher.input.floatbank11_xanthate                  13721 non-null  float64\n",
      " 44  rougher.output.concentrate_ag                       14149 non-null  float64\n",
      " 45  rougher.output.concentrate_pb                       14149 non-null  float64\n",
      " 46  rougher.output.concentrate_sol                      14127 non-null  float64\n",
      " 47  rougher.output.concentrate_au                       14149 non-null  float64\n",
      " 48  rougher.output.recovery                             14149 non-null  float64\n",
      " 49  rougher.output.tail_ag                              14148 non-null  float64\n",
      " 50  rougher.output.tail_pb                              14149 non-null  float64\n",
      " 51  rougher.output.tail_sol                             14149 non-null  float64\n",
      " 52  rougher.output.tail_au                              14149 non-null  float64\n",
      " 53  rougher.state.floatbank10_a_air                     14148 non-null  float64\n",
      " 54  rougher.state.floatbank10_a_level                   14148 non-null  float64\n",
      " 55  rougher.state.floatbank10_b_air                     14148 non-null  float64\n",
      " 56  rougher.state.floatbank10_b_level                   14148 non-null  float64\n",
      " 57  rougher.state.floatbank10_c_air                     14148 non-null  float64\n",
      " 58  rougher.state.floatbank10_c_level                   14148 non-null  float64\n",
      " 59  rougher.state.floatbank10_d_air                     14149 non-null  float64\n",
      " 60  rougher.state.floatbank10_d_level                   14149 non-null  float64\n",
      " 61  rougher.state.floatbank10_e_air                     13713 non-null  float64\n",
      " 62  rougher.state.floatbank10_e_level                   14149 non-null  float64\n",
      " 63  rougher.state.floatbank10_f_air                     14149 non-null  float64\n",
      " 64  rougher.state.floatbank10_f_level                   14149 non-null  float64\n",
      " 65  secondary_cleaner.output.tail_ag                    14147 non-null  float64\n",
      " 66  secondary_cleaner.output.tail_pb                    14139 non-null  float64\n",
      " 67  secondary_cleaner.output.tail_sol                   12544 non-null  float64\n",
      " 68  secondary_cleaner.output.tail_au                    14149 non-null  float64\n",
      " 69  secondary_cleaner.state.floatbank2_a_air            13932 non-null  float64\n",
      " 70  secondary_cleaner.state.floatbank2_a_level          14148 non-null  float64\n",
      " 71  secondary_cleaner.state.floatbank2_b_air            14128 non-null  float64\n",
      " 72  secondary_cleaner.state.floatbank2_b_level          14148 non-null  float64\n",
      " 73  secondary_cleaner.state.floatbank3_a_air            14145 non-null  float64\n",
      " 74  secondary_cleaner.state.floatbank3_a_level          14148 non-null  float64\n",
      " 75  secondary_cleaner.state.floatbank3_b_air            14148 non-null  float64\n",
      " 76  secondary_cleaner.state.floatbank3_b_level          14148 non-null  float64\n",
      " 77  secondary_cleaner.state.floatbank4_a_air            14143 non-null  float64\n",
      " 78  secondary_cleaner.state.floatbank4_a_level          14148 non-null  float64\n",
      " 79  secondary_cleaner.state.floatbank4_b_air            14148 non-null  float64\n",
      " 80  secondary_cleaner.state.floatbank4_b_level          14148 non-null  float64\n",
      " 81  secondary_cleaner.state.floatbank5_a_air            14148 non-null  float64\n",
      " 82  secondary_cleaner.state.floatbank5_a_level          14148 non-null  float64\n",
      " 83  secondary_cleaner.state.floatbank5_b_air            14148 non-null  float64\n",
      " 84  secondary_cleaner.state.floatbank5_b_level          14148 non-null  float64\n",
      " 85  secondary_cleaner.state.floatbank6_a_air            14147 non-null  float64\n",
      " 86  secondary_cleaner.state.floatbank6_a_level          14148 non-null  float64\n",
      "dtypes: float64(86), object(1)\n",
      "memory usage: 9.4+ MB\n",
      "None\n"
     ]
    }
   ],
   "source": [
    "review_of_data(train_data)"
   ]
  },
  {
   "cell_type": "code",
   "execution_count": 6,
   "metadata": {},
   "outputs": [
    {
     "name": "stdout",
     "output_type": "stream",
     "text": [
      "(5290, 53)\n"
     ]
    },
    {
     "data": {
      "text/html": [
       "<div>\n",
       "<style scoped>\n",
       "    .dataframe tbody tr th:only-of-type {\n",
       "        vertical-align: middle;\n",
       "    }\n",
       "\n",
       "    .dataframe tbody tr th {\n",
       "        vertical-align: top;\n",
       "    }\n",
       "\n",
       "    .dataframe thead th {\n",
       "        text-align: right;\n",
       "    }\n",
       "</style>\n",
       "<table border=\"1\" class=\"dataframe\">\n",
       "  <thead>\n",
       "    <tr style=\"text-align: right;\">\n",
       "      <th></th>\n",
       "      <th>date</th>\n",
       "      <th>primary_cleaner.input.sulfate</th>\n",
       "      <th>primary_cleaner.input.depressant</th>\n",
       "      <th>primary_cleaner.input.feed_size</th>\n",
       "      <th>primary_cleaner.input.xanthate</th>\n",
       "      <th>primary_cleaner.state.floatbank8_a_air</th>\n",
       "      <th>primary_cleaner.state.floatbank8_a_level</th>\n",
       "      <th>primary_cleaner.state.floatbank8_b_air</th>\n",
       "      <th>primary_cleaner.state.floatbank8_b_level</th>\n",
       "      <th>primary_cleaner.state.floatbank8_c_air</th>\n",
       "      <th>...</th>\n",
       "      <th>secondary_cleaner.state.floatbank4_a_air</th>\n",
       "      <th>secondary_cleaner.state.floatbank4_a_level</th>\n",
       "      <th>secondary_cleaner.state.floatbank4_b_air</th>\n",
       "      <th>secondary_cleaner.state.floatbank4_b_level</th>\n",
       "      <th>secondary_cleaner.state.floatbank5_a_air</th>\n",
       "      <th>secondary_cleaner.state.floatbank5_a_level</th>\n",
       "      <th>secondary_cleaner.state.floatbank5_b_air</th>\n",
       "      <th>secondary_cleaner.state.floatbank5_b_level</th>\n",
       "      <th>secondary_cleaner.state.floatbank6_a_air</th>\n",
       "      <th>secondary_cleaner.state.floatbank6_a_level</th>\n",
       "    </tr>\n",
       "  </thead>\n",
       "  <tbody>\n",
       "    <tr>\n",
       "      <th>0</th>\n",
       "      <td>2016-09-01 00:59:59</td>\n",
       "      <td>210.800909</td>\n",
       "      <td>14.993118</td>\n",
       "      <td>8.08</td>\n",
       "      <td>1.005021</td>\n",
       "      <td>1398.981301</td>\n",
       "      <td>-500.225577</td>\n",
       "      <td>1399.144926</td>\n",
       "      <td>-499.919735</td>\n",
       "      <td>1400.102998</td>\n",
       "      <td>...</td>\n",
       "      <td>12.023554</td>\n",
       "      <td>-497.795834</td>\n",
       "      <td>8.016656</td>\n",
       "      <td>-501.289139</td>\n",
       "      <td>7.946562</td>\n",
       "      <td>-432.317850</td>\n",
       "      <td>4.872511</td>\n",
       "      <td>-500.037437</td>\n",
       "      <td>26.705889</td>\n",
       "      <td>-499.709414</td>\n",
       "    </tr>\n",
       "    <tr>\n",
       "      <th>1</th>\n",
       "      <td>2016-09-01 01:59:59</td>\n",
       "      <td>215.392455</td>\n",
       "      <td>14.987471</td>\n",
       "      <td>8.08</td>\n",
       "      <td>0.990469</td>\n",
       "      <td>1398.777912</td>\n",
       "      <td>-500.057435</td>\n",
       "      <td>1398.055362</td>\n",
       "      <td>-499.778182</td>\n",
       "      <td>1396.151033</td>\n",
       "      <td>...</td>\n",
       "      <td>12.058140</td>\n",
       "      <td>-498.695773</td>\n",
       "      <td>8.130979</td>\n",
       "      <td>-499.634209</td>\n",
       "      <td>7.958270</td>\n",
       "      <td>-525.839648</td>\n",
       "      <td>4.878850</td>\n",
       "      <td>-500.162375</td>\n",
       "      <td>25.019940</td>\n",
       "      <td>-499.819438</td>\n",
       "    </tr>\n",
       "  </tbody>\n",
       "</table>\n",
       "<p>2 rows × 53 columns</p>\n",
       "</div>"
      ],
      "text/plain": [
       "                  date  primary_cleaner.input.sulfate  \\\n",
       "0  2016-09-01 00:59:59                     210.800909   \n",
       "1  2016-09-01 01:59:59                     215.392455   \n",
       "\n",
       "   primary_cleaner.input.depressant  primary_cleaner.input.feed_size  \\\n",
       "0                         14.993118                             8.08   \n",
       "1                         14.987471                             8.08   \n",
       "\n",
       "   primary_cleaner.input.xanthate  primary_cleaner.state.floatbank8_a_air  \\\n",
       "0                        1.005021                             1398.981301   \n",
       "1                        0.990469                             1398.777912   \n",
       "\n",
       "   primary_cleaner.state.floatbank8_a_level  \\\n",
       "0                               -500.225577   \n",
       "1                               -500.057435   \n",
       "\n",
       "   primary_cleaner.state.floatbank8_b_air  \\\n",
       "0                             1399.144926   \n",
       "1                             1398.055362   \n",
       "\n",
       "   primary_cleaner.state.floatbank8_b_level  \\\n",
       "0                               -499.919735   \n",
       "1                               -499.778182   \n",
       "\n",
       "   primary_cleaner.state.floatbank8_c_air  ...  \\\n",
       "0                             1400.102998  ...   \n",
       "1                             1396.151033  ...   \n",
       "\n",
       "   secondary_cleaner.state.floatbank4_a_air  \\\n",
       "0                                 12.023554   \n",
       "1                                 12.058140   \n",
       "\n",
       "   secondary_cleaner.state.floatbank4_a_level  \\\n",
       "0                                 -497.795834   \n",
       "1                                 -498.695773   \n",
       "\n",
       "   secondary_cleaner.state.floatbank4_b_air  \\\n",
       "0                                  8.016656   \n",
       "1                                  8.130979   \n",
       "\n",
       "   secondary_cleaner.state.floatbank4_b_level  \\\n",
       "0                                 -501.289139   \n",
       "1                                 -499.634209   \n",
       "\n",
       "   secondary_cleaner.state.floatbank5_a_air  \\\n",
       "0                                  7.946562   \n",
       "1                                  7.958270   \n",
       "\n",
       "   secondary_cleaner.state.floatbank5_a_level  \\\n",
       "0                                 -432.317850   \n",
       "1                                 -525.839648   \n",
       "\n",
       "   secondary_cleaner.state.floatbank5_b_air  \\\n",
       "0                                  4.872511   \n",
       "1                                  4.878850   \n",
       "\n",
       "   secondary_cleaner.state.floatbank5_b_level  \\\n",
       "0                                 -500.037437   \n",
       "1                                 -500.162375   \n",
       "\n",
       "   secondary_cleaner.state.floatbank6_a_air  \\\n",
       "0                                 26.705889   \n",
       "1                                 25.019940   \n",
       "\n",
       "   secondary_cleaner.state.floatbank6_a_level  \n",
       "0                                 -499.709414  \n",
       "1                                 -499.819438  \n",
       "\n",
       "[2 rows x 53 columns]"
      ]
     },
     "metadata": {},
     "output_type": "display_data"
    },
    {
     "name": "stdout",
     "output_type": "stream",
     "text": [
      "\n",
      "Явных дубликатов = 0\n",
      "\n",
      "Пропусков =  90\n",
      "\n",
      "<class 'pandas.core.frame.DataFrame'>\n",
      "RangeIndex: 5290 entries, 0 to 5289\n",
      "Data columns (total 53 columns):\n",
      " #   Column                                      Non-Null Count  Dtype  \n",
      "---  ------                                      --------------  -----  \n",
      " 0   date                                        5290 non-null   object \n",
      " 1   primary_cleaner.input.sulfate               5286 non-null   float64\n",
      " 2   primary_cleaner.input.depressant            5285 non-null   float64\n",
      " 3   primary_cleaner.input.feed_size             5290 non-null   float64\n",
      " 4   primary_cleaner.input.xanthate              5286 non-null   float64\n",
      " 5   primary_cleaner.state.floatbank8_a_air      5290 non-null   float64\n",
      " 6   primary_cleaner.state.floatbank8_a_level    5290 non-null   float64\n",
      " 7   primary_cleaner.state.floatbank8_b_air      5290 non-null   float64\n",
      " 8   primary_cleaner.state.floatbank8_b_level    5290 non-null   float64\n",
      " 9   primary_cleaner.state.floatbank8_c_air      5290 non-null   float64\n",
      " 10  primary_cleaner.state.floatbank8_c_level    5290 non-null   float64\n",
      " 11  primary_cleaner.state.floatbank8_d_air      5290 non-null   float64\n",
      " 12  primary_cleaner.state.floatbank8_d_level    5290 non-null   float64\n",
      " 13  rougher.input.feed_ag                       5290 non-null   float64\n",
      " 14  rougher.input.feed_pb                       5290 non-null   float64\n",
      " 15  rougher.input.feed_rate                     5287 non-null   float64\n",
      " 16  rougher.input.feed_size                     5289 non-null   float64\n",
      " 17  rougher.input.feed_sol                      5269 non-null   float64\n",
      " 18  rougher.input.feed_au                       5290 non-null   float64\n",
      " 19  rougher.input.floatbank10_sulfate           5285 non-null   float64\n",
      " 20  rougher.input.floatbank10_xanthate          5290 non-null   float64\n",
      " 21  rougher.input.floatbank11_sulfate           5282 non-null   float64\n",
      " 22  rougher.input.floatbank11_xanthate          5265 non-null   float64\n",
      " 23  rougher.state.floatbank10_a_air             5290 non-null   float64\n",
      " 24  rougher.state.floatbank10_a_level           5290 non-null   float64\n",
      " 25  rougher.state.floatbank10_b_air             5290 non-null   float64\n",
      " 26  rougher.state.floatbank10_b_level           5290 non-null   float64\n",
      " 27  rougher.state.floatbank10_c_air             5290 non-null   float64\n",
      " 28  rougher.state.floatbank10_c_level           5290 non-null   float64\n",
      " 29  rougher.state.floatbank10_d_air             5290 non-null   float64\n",
      " 30  rougher.state.floatbank10_d_level           5290 non-null   float64\n",
      " 31  rougher.state.floatbank10_e_air             5290 non-null   float64\n",
      " 32  rougher.state.floatbank10_e_level           5290 non-null   float64\n",
      " 33  rougher.state.floatbank10_f_air             5290 non-null   float64\n",
      " 34  rougher.state.floatbank10_f_level           5290 non-null   float64\n",
      " 35  secondary_cleaner.state.floatbank2_a_air    5287 non-null   float64\n",
      " 36  secondary_cleaner.state.floatbank2_a_level  5290 non-null   float64\n",
      " 37  secondary_cleaner.state.floatbank2_b_air    5288 non-null   float64\n",
      " 38  secondary_cleaner.state.floatbank2_b_level  5290 non-null   float64\n",
      " 39  secondary_cleaner.state.floatbank3_a_air    5281 non-null   float64\n",
      " 40  secondary_cleaner.state.floatbank3_a_level  5290 non-null   float64\n",
      " 41  secondary_cleaner.state.floatbank3_b_air    5290 non-null   float64\n",
      " 42  secondary_cleaner.state.floatbank3_b_level  5290 non-null   float64\n",
      " 43  secondary_cleaner.state.floatbank4_a_air    5290 non-null   float64\n",
      " 44  secondary_cleaner.state.floatbank4_a_level  5290 non-null   float64\n",
      " 45  secondary_cleaner.state.floatbank4_b_air    5290 non-null   float64\n",
      " 46  secondary_cleaner.state.floatbank4_b_level  5290 non-null   float64\n",
      " 47  secondary_cleaner.state.floatbank5_a_air    5290 non-null   float64\n",
      " 48  secondary_cleaner.state.floatbank5_a_level  5290 non-null   float64\n",
      " 49  secondary_cleaner.state.floatbank5_b_air    5290 non-null   float64\n",
      " 50  secondary_cleaner.state.floatbank5_b_level  5290 non-null   float64\n",
      " 51  secondary_cleaner.state.floatbank6_a_air    5290 non-null   float64\n",
      " 52  secondary_cleaner.state.floatbank6_a_level  5290 non-null   float64\n",
      "dtypes: float64(52), object(1)\n",
      "memory usage: 2.1+ MB\n",
      "None\n"
     ]
    }
   ],
   "source": [
    "review_of_data(test_data)"
   ]
  },
  {
   "cell_type": "markdown",
   "metadata": {},
   "source": [
    "### Проверьте, что эффективность обогащения рассчитана правильно. \n",
    "- Вычислите её на обучающей выборке для признака rougher.output.recovery. \n",
    "- Найдите MAE между вашими расчётами и значением признака. Опишите выводы."
   ]
  },
  {
   "cell_type": "code",
   "execution_count": 7,
   "metadata": {
    "scrolled": true
   },
   "outputs": [
    {
     "name": "stdout",
     "output_type": "stream",
     "text": [
      "Эффективность обогащения рассчитана правильно\n",
      "\n",
      "MAE =  9.73512347450521e-15\n"
     ]
    }
   ],
   "source": [
    "#recovery (rougher.output.recovery) = (C * (F - T)) / (F * (C - T)) * 100\n",
    "C = train_data['rougher.output.concentrate_au']\n",
    "F = train_data['rougher.input.feed_au']\n",
    "T = train_data['rougher.output.tail_au']\n",
    "\n",
    "train_data['rec_check'] = (C * (F - T)) / (F * (C - T)) * 100\n",
    "if train_data['rougher.output.recovery'].sum() - train_data['rec_check'].sum() == 0:\n",
    "    print('Эффективность обогащения рассчитана правильно')\n",
    "else:\n",
    "    print('Эффективность обогащения рассчитана неправильно!')\n",
    "\n",
    "print()\n",
    "print('MAE = ', mean_absolute_error(train_data['rougher.output.recovery'], train_data['rec_check']))"
   ]
  },
  {
   "cell_type": "markdown",
   "metadata": {},
   "source": [
    "<div class=\"alert alert-success\"> ✅ \n",
    "<h3> Комментарий ревьюера v1</h3>\n",
    "\n",
    "\n",
    "\n",
    "Верно, полученное значение оказалось в достаточной степени маленьким, чтобы можно было утверждать о правильности рассчёта.\n"
   ]
  },
  {
   "cell_type": "markdown",
   "metadata": {},
   "source": [
    "### Проанализируйте признаки, недоступные в тестовой выборке. Что это за параметры? К какому типу относятся?"
   ]
  },
  {
   "cell_type": "code",
   "execution_count": 8,
   "metadata": {},
   "outputs": [
    {
     "data": {
      "text/plain": [
       "Index(['final.output.concentrate_ag', 'final.output.concentrate_au',\n",
       "       'final.output.concentrate_pb', 'final.output.concentrate_sol',\n",
       "       'final.output.recovery', 'final.output.tail_ag', 'final.output.tail_au',\n",
       "       'final.output.tail_pb', 'final.output.tail_sol',\n",
       "       'primary_cleaner.output.concentrate_ag',\n",
       "       'primary_cleaner.output.concentrate_au',\n",
       "       'primary_cleaner.output.concentrate_pb',\n",
       "       'primary_cleaner.output.concentrate_sol',\n",
       "       'primary_cleaner.output.tail_ag', 'primary_cleaner.output.tail_au',\n",
       "       'primary_cleaner.output.tail_pb', 'primary_cleaner.output.tail_sol',\n",
       "       'rougher.calculation.au_pb_ratio',\n",
       "       'rougher.calculation.floatbank10_sulfate_to_au_feed',\n",
       "       'rougher.calculation.floatbank11_sulfate_to_au_feed',\n",
       "       'rougher.calculation.sulfate_to_au_concentrate',\n",
       "       'rougher.output.concentrate_ag', 'rougher.output.concentrate_au',\n",
       "       'rougher.output.concentrate_pb', 'rougher.output.concentrate_sol',\n",
       "       'rougher.output.recovery', 'rougher.output.tail_ag',\n",
       "       'rougher.output.tail_au', 'rougher.output.tail_pb',\n",
       "       'rougher.output.tail_sol', 'secondary_cleaner.output.tail_ag',\n",
       "       'secondary_cleaner.output.tail_au', 'secondary_cleaner.output.tail_pb',\n",
       "       'secondary_cleaner.output.tail_sol'],\n",
       "      dtype='object')"
      ]
     },
     "execution_count": 8,
     "metadata": {},
     "output_type": "execute_result"
    }
   ],
   "source": [
    "full_data.columns.difference(test_data.columns)"
   ]
  },
  {
   "cell_type": "markdown",
   "metadata": {},
   "source": [
    "Недоступны признаки, которые неизвестны на момент старта процесса. Также 2 целевых признака rougher.output.recovery и final.output.recovery"
   ]
  },
  {
   "cell_type": "markdown",
   "metadata": {},
   "source": [
    "### Проведите предобработку данных."
   ]
  },
  {
   "cell_type": "markdown",
   "metadata": {},
   "source": [
    "В датасетах довольно много пропусков, необходимо их обработать, удаление не подходит из-за большого количества пропусков. Медианное значение некорректно скажется на дальшейшем анализе и обучении моделей. Поэтому буду использовать замену методом fillna(method='ffill')"
   ]
  },
  {
   "cell_type": "code",
   "execution_count": 9,
   "metadata": {},
   "outputs": [
    {
     "data": {
      "text/plain": [
       "0"
      ]
     },
     "execution_count": 9,
     "metadata": {},
     "output_type": "execute_result"
    }
   ],
   "source": [
    "full_data = full_data.fillna(method='ffill')\n",
    "full_data.isna().sum().sum()"
   ]
  },
  {
   "cell_type": "code",
   "execution_count": 10,
   "metadata": {},
   "outputs": [
    {
     "data": {
      "text/plain": [
       "0"
      ]
     },
     "execution_count": 10,
     "metadata": {},
     "output_type": "execute_result"
    }
   ],
   "source": [
    "train_data = train_data.fillna(method='ffill')\n",
    "train_data.isna().sum().sum()"
   ]
  },
  {
   "cell_type": "code",
   "execution_count": 11,
   "metadata": {},
   "outputs": [
    {
     "data": {
      "text/plain": [
       "0"
      ]
     },
     "execution_count": 11,
     "metadata": {},
     "output_type": "execute_result"
    }
   ],
   "source": [
    "test_data = test_data.fillna(method='ffill')\n",
    "test_data.isna().sum().sum()"
   ]
  },
  {
   "cell_type": "markdown",
   "metadata": {},
   "source": [
    "<div class=\"alert alert-success\"> ✅ \n",
    "<h3> Комментарий ревьюера v1</h3>\n",
    "\n",
    "\n",
    "\n",
    "Хорошо, что внимательно читаешь задание =) Тут было бы неправильно заполнять медианой или средним, так как значения фичей сильно зависят от этапа обработки"
   ]
  },
  {
   "cell_type": "markdown",
   "metadata": {},
   "source": [
    "## Анализ данных"
   ]
  },
  {
   "cell_type": "markdown",
   "metadata": {},
   "source": [
    "### Посмотрите, как меняется концентрация металлов (Au, Ag, Pb) на различных этапах очистки. Опишите выводы."
   ]
  },
  {
   "cell_type": "code",
   "execution_count": 12,
   "metadata": {},
   "outputs": [
    {
     "data": {
      "image/png": "[encoded data removed]",
      "text/plain": [
       "<Figure size 432x288 with 1 Axes>"
      ]
     },
     "metadata": {
      "needs_background": "light"
     },
     "output_type": "display_data"
    }
   ],
   "source": [
    "# Au (Aurum, золото)\n",
    "au = train_data[['rougher.output.concentrate_au' ,'primary_cleaner.output.concentrate_au', \n",
    "                 'secondary_cleaner.output.tail_au']]\n",
    "sns.histplot(data=au)\n",
    "sns.set(rc={'figure.figsize':(15, 5)})"
   ]
  },
  {
   "cell_type": "code",
   "execution_count": 13,
   "metadata": {},
   "outputs": [
    {
     "data": {
      "image/png": "[encoded data removed]",
      "text/plain": [
       "<Figure size 1080x360 with 1 Axes>"
      ]
     },
     "metadata": {},
     "output_type": "display_data"
    }
   ],
   "source": [
    "# Ag (Argentum, серебро)\n",
    "ag = train_data[['rougher.output.concentrate_ag' ,'primary_cleaner.output.concentrate_ag', \n",
    "                 'secondary_cleaner.output.tail_ag']]\n",
    "sns.histplot(data=ag)\n",
    "sns.set(rc={'figure.figsize':(15, 5)})"
   ]
  },
  {
   "cell_type": "code",
   "execution_count": 14,
   "metadata": {},
   "outputs": [
    {
     "data": {
      "image/png": "[encoded data removed]",
      "text/plain": [
       "<Figure size 1080x360 with 1 Axes>"
      ]
     },
     "metadata": {},
     "output_type": "display_data"
    }
   ],
   "source": [
    "# Pb (Plumbum, свинец)\n",
    "pb = train_data[['rougher.output.concentrate_pb', 'primary_cleaner.output.concentrate_pb', \n",
    "                'secondary_cleaner.output.tail_pb']]\n",
    "sns.histplot(data=pb)\n",
    "sns.set(rc={'figure.figsize':(15, 5)})"
   ]
  },
  {
   "cell_type": "markdown",
   "metadata": {},
   "source": [
    "По графику видно, что концентрация металлов на разных этапах чистки разная. Концентрация золота и свинца сокращается после второй чистки, а концентрация серебра наоборот увеличивается."
   ]
  },
  {
   "cell_type": "markdown",
   "metadata": {},
   "source": [
    "### Сравните распределения размеров гранул сырья на обучающей и тестовой выборках. Если распределения сильно отличаются друг от друга, оценка модели будет неправильной."
   ]
  },
  {
   "cell_type": "code",
   "execution_count": 15,
   "metadata": {},
   "outputs": [
    {
     "data": {
      "image/png": "[encoded data removed]",
      "text/plain": [
       "<Figure size 864x360 with 1 Axes>"
      ]
     },
     "metadata": {},
     "output_type": "display_data"
    }
   ],
   "source": [
    "train_feed_size = train_data['rougher.input.feed_size']\n",
    "test_feed_size = test_data['rougher.input.feed_size']\n",
    "\n",
    "train_feed_size.plot(kind = 'kde', figsize = (12,5), label = 'train')\n",
    "test_feed_size.plot(kind = 'kde', figsize = (12,5), label = 'test')\n",
    "plt.legend()\n",
    "plt.xlim(0,100)\n",
    "plt.show()"
   ]
  },
  {
   "cell_type": "code",
   "execution_count": 16,
   "metadata": {},
   "outputs": [
    {
     "data": {
      "text/plain": [
       "count    14149.000000\n",
       "mean        60.239856\n",
       "std         23.005310\n",
       "min          9.659576\n",
       "25%         48.966751\n",
       "50%         55.269784\n",
       "75%         66.007526\n",
       "max        484.967466\n",
       "Name: rougher.input.feed_size, dtype: float64"
      ]
     },
     "execution_count": 16,
     "metadata": {},
     "output_type": "execute_result"
    }
   ],
   "source": [
    "train_feed_size.describe()"
   ]
  },
  {
   "cell_type": "code",
   "execution_count": 17,
   "metadata": {},
   "outputs": [
    {
     "data": {
      "text/plain": [
       "count    5290.000000\n",
       "mean       55.952754\n",
       "std        19.080334\n",
       "min         0.046369\n",
       "25%        43.906504\n",
       "50%        50.846843\n",
       "75%        62.451165\n",
       "max       392.494040\n",
       "Name: rougher.input.feed_size, dtype: float64"
      ]
     },
     "execution_count": 17,
     "metadata": {},
     "output_type": "execute_result"
    }
   ],
   "source": [
    "test_feed_size.describe()"
   ]
  },
  {
   "cell_type": "markdown",
   "metadata": {},
   "source": [
    "Распределения размеров гранул сырья на обучающей и тестовой выборках немного различаются, но не сильно."
   ]
  },
  {
   "cell_type": "markdown",
   "metadata": {},
   "source": [
    "<div class=\"alert alert-success\"> ✅ \n",
    "<h3> Комментарий ревьюера v1</h3>\n",
    "\n",
    "Хорошо, что построила масштабированные графики (`kde`), так как количество данных в train/test датасетах отличается.\n",
    "\n",
    "Кстати, если тут провести ttest для этих выборок, то он скажет, что средние сильно отличаются и эти выборки из разных ГС. Но тут уже ничего не поделать, придется у заказчиков просить новые данные.\n"
   ]
  },
  {
   "cell_type": "markdown",
   "metadata": {},
   "source": [
    "### Исследуйте суммарную концентрацию всех веществ на разных стадиях: в сырье, в черновом и финальном концентратах."
   ]
  },
  {
   "cell_type": "code",
   "execution_count": 18,
   "metadata": {},
   "outputs": [
    {
     "data": {
      "image/png": "[encoded data removed]",
      "text/plain": [
       "<Figure size 1080x360 with 1 Axes>"
      ]
     },
     "metadata": {},
     "output_type": "display_data"
    }
   ],
   "source": [
    "# сырье\n",
    "rougher_input = train_data[['rougher.input.feed_ag', 'rougher.input.feed_pb', \n",
    "                'rougher.input.feed_sol', 'rougher.input.feed_au']]\n",
    "sns.boxplot(data=rougher_input)\n",
    "sns.set(rc={'figure.figsize':(15, 10)})"
   ]
  },
  {
   "cell_type": "code",
   "execution_count": 19,
   "metadata": {},
   "outputs": [
    {
     "data": {
      "text/plain": [
       "array([[<AxesSubplot:title={'center':'rougher.input.feed_ag'}>,\n",
       "        <AxesSubplot:title={'center':'rougher.input.feed_pb'}>],\n",
       "       [<AxesSubplot:title={'center':'rougher.input.feed_sol'}>,\n",
       "        <AxesSubplot:title={'center':'rougher.input.feed_au'}>]],\n",
       "      dtype=object)"
      ]
     },
     "execution_count": 19,
     "metadata": {},
     "output_type": "execute_result"
    },
    {
     "data": {
      "image/png": "[encoded data removed]",
      "text/plain": [
       "<Figure size 1080x720 with 4 Axes>"
      ]
     },
     "metadata": {},
     "output_type": "display_data"
    }
   ],
   "source": [
    "rougher_input.hist(bins = 30)"
   ]
  },
  {
   "cell_type": "markdown",
   "metadata": {},
   "source": [
    "По графикам видно, что есть выбросы ближе к 0. Думаю, что их нужно удалить т.к. от основного распределения они далеко."
   ]
  },
  {
   "cell_type": "code",
   "execution_count": 20,
   "metadata": {},
   "outputs": [],
   "source": [
    "train_data = train_data.drop(index = train_data[train_data['rougher.input.feed_ag'] < 2].index, axis = 0)\n",
    "train_data = train_data.drop(index = train_data[train_data['rougher.input.feed_pb'] < 1].index, axis = 0)\n",
    "train_data = train_data.drop(index = train_data[train_data['rougher.input.feed_sol'] < 10].index, axis = 0)\n",
    "train_data = train_data.drop(index = train_data[train_data['rougher.input.feed_au'] < 2].index, axis = 0)"
   ]
  },
  {
   "cell_type": "code",
   "execution_count": 21,
   "metadata": {},
   "outputs": [
    {
     "data": {
      "image/png": "[encoded data removed]",
      "text/plain": [
       "<Figure size 1080x720 with 1 Axes>"
      ]
     },
     "metadata": {},
     "output_type": "display_data"
    }
   ],
   "source": [
    "# черновом концентратах\n",
    "rougher_output = train_data[['rougher.output.concentrate_ag', 'rougher.output.concentrate_pb', \n",
    "                'rougher.output.concentrate_sol', 'rougher.output.concentrate_au']]\n",
    "sns.boxplot(data=rougher_output)\n",
    "sns.set(rc={'figure.figsize':(15, 10)})"
   ]
  },
  {
   "cell_type": "code",
   "execution_count": 22,
   "metadata": {},
   "outputs": [
    {
     "data": {
      "text/plain": [
       "array([[<AxesSubplot:title={'center':'rougher.output.concentrate_ag'}>,\n",
       "        <AxesSubplot:title={'center':'rougher.output.concentrate_pb'}>],\n",
       "       [<AxesSubplot:title={'center':'rougher.output.concentrate_sol'}>,\n",
       "        <AxesSubplot:title={'center':'rougher.output.concentrate_au'}>]],\n",
       "      dtype=object)"
      ]
     },
     "execution_count": 22,
     "metadata": {},
     "output_type": "execute_result"
    },
    {
     "data": {
      "image/png": "[encoded data removed]",
      "text/plain": [
       "<Figure size 1080x720 with 4 Axes>"
      ]
     },
     "metadata": {},
     "output_type": "display_data"
    }
   ],
   "source": [
    "rougher_output.hist(bins = 30)"
   ]
  },
  {
   "cell_type": "code",
   "execution_count": 23,
   "metadata": {},
   "outputs": [],
   "source": [
    "train_data = train_data.drop(index = train_data[train_data['rougher.output.concentrate_ag'] < 5].index, axis = 0)\n",
    "train_data = train_data.drop(index = train_data[train_data['rougher.output.concentrate_pb'] < 2].index, axis = 0)\n",
    "train_data = train_data.drop(index = train_data[train_data['rougher.output.concentrate_sol'] < 10].index, axis = 0)\n",
    "train_data = train_data.drop(index = train_data[train_data['rougher.output.concentrate_au'] < 5].index, axis = 0)"
   ]
  },
  {
   "cell_type": "code",
   "execution_count": 24,
   "metadata": {},
   "outputs": [
    {
     "data": {
      "image/png": "[encoded data removed]",
      "text/plain": [
       "<Figure size 1080x720 with 1 Axes>"
      ]
     },
     "metadata": {},
     "output_type": "display_data"
    }
   ],
   "source": [
    "# финальном концентратах\n",
    "final_output = train_data[['final.output.concentrate_ag', 'final.output.concentrate_pb', \n",
    "                'final.output.concentrate_sol', 'final.output.concentrate_au']]\n",
    "sns.boxplot(data=rougher_input)\n",
    "sns.set(rc={'figure.figsize':(15, 10)})"
   ]
  },
  {
   "cell_type": "code",
   "execution_count": 25,
   "metadata": {},
   "outputs": [
    {
     "data": {
      "text/plain": [
       "array([[<AxesSubplot:title={'center':'final.output.concentrate_ag'}>,\n",
       "        <AxesSubplot:title={'center':'final.output.concentrate_pb'}>],\n",
       "       [<AxesSubplot:title={'center':'final.output.concentrate_sol'}>,\n",
       "        <AxesSubplot:title={'center':'final.output.concentrate_au'}>]],\n",
       "      dtype=object)"
      ]
     },
     "execution_count": 25,
     "metadata": {},
     "output_type": "execute_result"
    },
    {
     "data": {
      "image/png": "[encoded data removed]",
      "text/plain": [
       "<Figure size 1080x720 with 4 Axes>"
      ]
     },
     "metadata": {},
     "output_type": "display_data"
    }
   ],
   "source": [
    "final_output.hist(bins = 30)"
   ]
  },
  {
   "cell_type": "markdown",
   "metadata": {},
   "source": [
    "<div class=\"alert alert-danger\"> ❌\n",
    "\n",
    "<h3> Комментарий ревьюера v1</h3>\n",
    "\n",
    "На таком виде графиков не видно распределения значений. Спойлер тут есть выбросы, и с ними надо что-то сделать =) Поэтому, пожалуйста, построй гистограммы для суммарных концетраций веществ и реши, что делать с выбросами"
   ]
  },
  {
   "cell_type": "markdown",
   "metadata": {},
   "source": [
    "<div class=\"alert alert-info\"> \n",
    "\n",
    "<h3> Ответ студента v1</h3>\n",
    "\n",
    "Да, не так поняла формулировку \"Исследуйте суммарную концентрацию всех веществ\""
   ]
  },
  {
   "cell_type": "code",
   "execution_count": 26,
   "metadata": {},
   "outputs": [],
   "source": [
    "train_data = train_data.drop(index = train_data[train_data['final.output.concentrate_ag'] < 1].index, axis = 0)\n",
    "train_data = train_data.drop(index = train_data[train_data['final.output.concentrate_pb'] < 1].index, axis = 0)\n",
    "train_data = train_data.drop(index = train_data[train_data['final.output.concentrate_sol'] < 10].index, axis = 0)\n",
    "train_data = train_data.drop(index = train_data[train_data['final.output.concentrate_au'] < 1].index, axis = 0)"
   ]
  },
  {
   "cell_type": "markdown",
   "metadata": {},
   "source": [
    "убрать выбросы также стоит в тестовой выборке"
   ]
  },
  {
   "cell_type": "code",
   "execution_count": 27,
   "metadata": {},
   "outputs": [],
   "source": [
    "test_data = test_data.drop(index = test_data[test_data['rougher.input.feed_pb'] < 1].index, axis = 0)\n",
    "test_data = test_data.drop(index = test_data[test_data['rougher.input.feed_au'] < 1].index, axis = 0)\n",
    "test_data = test_data.drop(index = test_data[test_data['rougher.input.feed_ag'] < 1].index, axis = 0)\n",
    "test_data = test_data.drop(index = test_data[test_data['rougher.input.feed_sol'] < 1].index, axis = 0)"
   ]
  },
  {
   "cell_type": "markdown",
   "metadata": {},
   "source": [
    "<div class=\"alert alert-success\"> ✅ \n",
    "<h3> Комментарий ревьюера v2</h3>\n",
    "\n",
    "👍"
   ]
  },
  {
   "cell_type": "markdown",
   "metadata": {},
   "source": [
    "## Модель"
   ]
  },
  {
   "cell_type": "markdown",
   "metadata": {},
   "source": [
    "### Напишите функцию для вычисления итоговой sMAPE."
   ]
  },
  {
   "cell_type": "code",
   "execution_count": 28,
   "metadata": {},
   "outputs": [],
   "source": [
    "def sMAPE(target, prediction):\n",
    "    return 1 / len(target) * np.sum(2 * np.abs(prediction - target) / (np.abs(target) + np.abs(prediction))*100)"
   ]
  },
  {
   "cell_type": "code",
   "execution_count": 29,
   "metadata": {},
   "outputs": [],
   "source": [
    "def total_sMAPE(rougher_smape, final_smape):\n",
    "    return (0.25 * rougher_smape) + (0.75 * final_smape)"
   ]
  },
  {
   "cell_type": "markdown",
   "metadata": {},
   "source": [
    "<div class=\"alert alert-success\"> ✅ \n",
    "<h3> Комментарий ревьюера v1</h3>\n",
    "\n",
    "Хорошо, что делаешь все рассчеты векторно, а не в цикле. Иначе это будет занимать достаточно много времени.\n",
    "    "
   ]
  },
  {
   "cell_type": "markdown",
   "metadata": {},
   "source": [
    "### Обучите разные модели и оцените их качество кросс-валидацией. Выберите лучшую модель и проверьте её на тестовой выборке. Опишите выводы."
   ]
  },
  {
   "cell_type": "markdown",
   "metadata": {},
   "source": [
    "Имеем 2 целевых признака:\n",
    "- эффективность обогащения чернового концентрата rougher.output.recovery;\n",
    "- эффективность обогащения финального концентрата final.output.recovery.\n",
    "\n",
    "Соответственно для них формируем необходимые признаки (features) и также для тестовой выборки"
   ]
  },
  {
   "cell_type": "markdown",
   "metadata": {},
   "source": [
    "#### Подготовка выборок"
   ]
  },
  {
   "cell_type": "markdown",
   "metadata": {},
   "source": [
    "Так как таргет мы берем из полного датасета, то для начала необходимо отобрать столько же данных сколько содержится в тестовых признаках. Буду это делать через метод loc, необходимо столбец date сделать индексом в двух датасетах."
   ]
  },
  {
   "cell_type": "code",
   "execution_count": 30,
   "metadata": {},
   "outputs": [],
   "source": [
    "full_data = full_data.set_index('date')"
   ]
  },
  {
   "cell_type": "code",
   "execution_count": 31,
   "metadata": {},
   "outputs": [],
   "source": [
    "test_data = test_data.set_index('date')"
   ]
  },
  {
   "cell_type": "markdown",
   "metadata": {},
   "source": [
    "##### Для тестовой выборки"
   ]
  },
  {
   "cell_type": "code",
   "execution_count": 32,
   "metadata": {},
   "outputs": [
    {
     "data": {
      "text/plain": [
       "(5180, 1)"
      ]
     },
     "execution_count": 32,
     "metadata": {},
     "output_type": "execute_result"
    }
   ],
   "source": [
    "rougher_target_test = full_data['rougher.output.recovery'].loc[test_data.index]\n",
    "rougher_target_test = pd.DataFrame(rougher_target_test[rougher_target_test != 0].dropna(axis=0))\n",
    "rougher_target_test.shape"
   ]
  },
  {
   "cell_type": "code",
   "execution_count": 33,
   "metadata": {},
   "outputs": [
    {
     "data": {
      "text/plain": [
       "Index(['rougher.input.feed_ag', 'rougher.input.feed_pb',\n",
       "       'rougher.input.feed_rate', 'rougher.input.feed_size',\n",
       "       'rougher.input.feed_sol', 'rougher.input.feed_au',\n",
       "       'rougher.input.floatbank10_sulfate',\n",
       "       'rougher.input.floatbank10_xanthate',\n",
       "       'rougher.input.floatbank11_sulfate',\n",
       "       'rougher.input.floatbank11_xanthate', 'rougher.state.floatbank10_a_air',\n",
       "       'rougher.state.floatbank10_a_level', 'rougher.state.floatbank10_b_air',\n",
       "       'rougher.state.floatbank10_b_level', 'rougher.state.floatbank10_c_air',\n",
       "       'rougher.state.floatbank10_c_level', 'rougher.state.floatbank10_d_air',\n",
       "       'rougher.state.floatbank10_d_level', 'rougher.state.floatbank10_e_air',\n",
       "       'rougher.state.floatbank10_e_level', 'rougher.state.floatbank10_f_air',\n",
       "       'rougher.state.floatbank10_f_level'],\n",
       "      dtype='object')"
      ]
     },
     "execution_count": 33,
     "metadata": {},
     "output_type": "execute_result"
    }
   ],
   "source": [
    "rougher_features_test = pd.DataFrame()\n",
    "for col in list(test_data.columns):\n",
    "    if 'rougher.' in col:\n",
    "        rougher_features_test = pd.concat([rougher_features_test, test_data[col]], axis=1)\n",
    "rougher_features_test.columns"
   ]
  },
  {
   "cell_type": "code",
   "execution_count": 34,
   "metadata": {},
   "outputs": [
    {
     "data": {
      "text/plain": [
       "(5180, 22)"
      ]
     },
     "execution_count": 34,
     "metadata": {},
     "output_type": "execute_result"
    }
   ],
   "source": [
    "rougher_features_test = rougher_features_test.loc[rougher_target_test.index].reset_index(drop=True)\n",
    "rougher_features_test.shape"
   ]
  },
  {
   "cell_type": "markdown",
   "metadata": {},
   "source": [
    "<div class=\"alert alert-info\">\n",
    "    Надеюсь корректно так делать иначе модель переобучается (("
   ]
  },
  {
   "cell_type": "code",
   "execution_count": 35,
   "metadata": {},
   "outputs": [],
   "source": [
    "final_features_test = test_data.drop(rougher_features_test, axis=1)"
   ]
  },
  {
   "cell_type": "code",
   "execution_count": 36,
   "metadata": {},
   "outputs": [
    {
     "data": {
      "text/plain": [
       "(5239, 1)"
      ]
     },
     "execution_count": 36,
     "metadata": {},
     "output_type": "execute_result"
    }
   ],
   "source": [
    "final_target_test = full_data['final.output.recovery'].loc[test_data.index]\n",
    "final_target_test = pd.DataFrame(final_target_test[final_target_test!=0].dropna(axis=0))\n",
    "final_target_test.shape"
   ]
  },
  {
   "cell_type": "code",
   "execution_count": 37,
   "metadata": {},
   "outputs": [
    {
     "data": {
      "text/plain": [
       "(5239, 30)"
      ]
     },
     "execution_count": 37,
     "metadata": {},
     "output_type": "execute_result"
    }
   ],
   "source": [
    "final_features_test = final_features_test.loc[final_target_test.index].reset_index(drop=True)\n",
    "final_features_test.shape"
   ]
  },
  {
   "cell_type": "code",
   "execution_count": 38,
   "metadata": {},
   "outputs": [],
   "source": [
    "rougher_target_test = rougher_target_test.reset_index(drop=True)\n",
    "final_target_test = final_target_test.reset_index(drop=True)"
   ]
  },
  {
   "cell_type": "markdown",
   "metadata": {},
   "source": [
    "<div class=\"alert alert-info\">\n",
    "    Также размеры получились разные из-за удаления 0 показателей."
   ]
  },
  {
   "cell_type": "markdown",
   "metadata": {},
   "source": [
    "##### Для прогноза эффективности обогащения чернового концентрата"
   ]
  },
  {
   "cell_type": "markdown",
   "metadata": {},
   "source": [
    "формирую новый датасет с нужными признаками в т.ч. удаляю столбцы с типом параметра output"
   ]
  },
  {
   "cell_type": "markdown",
   "metadata": {},
   "source": [
    "<div class=\"alert alert-success\"> ✅ \n",
    "<h3> Комментарий ревьюера v1</h3>\n",
    "\n",
    "Правильно, нельзя обучать на признаках, которые затем не будут доступны на тестах\n"
   ]
  },
  {
   "cell_type": "code",
   "execution_count": 39,
   "metadata": {},
   "outputs": [],
   "source": [
    "test_data = test_data.reset_index()\n",
    "full_data = full_data.reset_index()"
   ]
  },
  {
   "cell_type": "code",
   "execution_count": 40,
   "metadata": {},
   "outputs": [],
   "source": [
    "rougher_features_train = pd.DataFrame()\n",
    "for col in list(train_data.columns):\n",
    "    if 'rougher.' in col:\n",
    "        if 'output' not in col:\n",
    "            if 'calculation' not in col:\n",
    "                rougher_features_train = pd.concat([rougher_features_train, train_data[col]], axis=1)"
   ]
  },
  {
   "cell_type": "code",
   "execution_count": 41,
   "metadata": {},
   "outputs": [
    {
     "data": {
      "text/plain": [
       "Index(['rougher.input.feed_ag', 'rougher.input.feed_pb',\n",
       "       'rougher.input.feed_rate', 'rougher.input.feed_size',\n",
       "       'rougher.input.feed_sol', 'rougher.input.feed_au',\n",
       "       'rougher.input.floatbank10_sulfate',\n",
       "       'rougher.input.floatbank10_xanthate',\n",
       "       'rougher.input.floatbank11_sulfate',\n",
       "       'rougher.input.floatbank11_xanthate', 'rougher.state.floatbank10_a_air',\n",
       "       'rougher.state.floatbank10_a_level', 'rougher.state.floatbank10_b_air',\n",
       "       'rougher.state.floatbank10_b_level', 'rougher.state.floatbank10_c_air',\n",
       "       'rougher.state.floatbank10_c_level', 'rougher.state.floatbank10_d_air',\n",
       "       'rougher.state.floatbank10_d_level', 'rougher.state.floatbank10_e_air',\n",
       "       'rougher.state.floatbank10_e_level', 'rougher.state.floatbank10_f_air',\n",
       "       'rougher.state.floatbank10_f_level'],\n",
       "      dtype='object')"
      ]
     },
     "execution_count": 41,
     "metadata": {},
     "output_type": "execute_result"
    }
   ],
   "source": [
    "rougher_features_train.columns"
   ]
  },
  {
   "cell_type": "code",
   "execution_count": 42,
   "metadata": {},
   "outputs": [],
   "source": [
    "rougher_target_train = train_data['rougher.output.recovery']"
   ]
  },
  {
   "cell_type": "markdown",
   "metadata": {},
   "source": [
    "##### Для прогноза эффективности обогащения  финального концентрата"
   ]
  },
  {
   "cell_type": "markdown",
   "metadata": {},
   "source": [
    "формирую датасет с ненужными признаками и создаю новый на основании обучающей выборки за исключиением ранее сформированного датасета"
   ]
  },
  {
   "cell_type": "code",
   "execution_count": 43,
   "metadata": {},
   "outputs": [],
   "source": [
    "tt = pd.DataFrame()\n",
    "for col in list(train_data.columns):\n",
    "    if 'output.' in col:\n",
    "        tt = pd.concat([tt, train_data[col]], axis=1)\n",
    "    elif 'date'in col:\n",
    "        tt = pd.concat([tt, train_data[col]], axis=1)"
   ]
  },
  {
   "cell_type": "code",
   "execution_count": 44,
   "metadata": {},
   "outputs": [
    {
     "data": {
      "text/plain": [
       "Index(['primary_cleaner.input.sulfate', 'primary_cleaner.input.depressant',\n",
       "       'primary_cleaner.input.feed_size', 'primary_cleaner.input.xanthate',\n",
       "       'primary_cleaner.state.floatbank8_a_air',\n",
       "       'primary_cleaner.state.floatbank8_a_level',\n",
       "       'primary_cleaner.state.floatbank8_b_air',\n",
       "       'primary_cleaner.state.floatbank8_b_level',\n",
       "       'primary_cleaner.state.floatbank8_c_air',\n",
       "       'primary_cleaner.state.floatbank8_c_level',\n",
       "       'primary_cleaner.state.floatbank8_d_air',\n",
       "       'primary_cleaner.state.floatbank8_d_level',\n",
       "       'rougher.calculation.sulfate_to_au_concentrate',\n",
       "       'rougher.calculation.floatbank10_sulfate_to_au_feed',\n",
       "       'rougher.calculation.floatbank11_sulfate_to_au_feed',\n",
       "       'rougher.calculation.au_pb_ratio',\n",
       "       'secondary_cleaner.state.floatbank2_a_air',\n",
       "       'secondary_cleaner.state.floatbank2_a_level',\n",
       "       'secondary_cleaner.state.floatbank2_b_air',\n",
       "       'secondary_cleaner.state.floatbank2_b_level',\n",
       "       'secondary_cleaner.state.floatbank3_a_air',\n",
       "       'secondary_cleaner.state.floatbank3_a_level',\n",
       "       'secondary_cleaner.state.floatbank3_b_air',\n",
       "       'secondary_cleaner.state.floatbank3_b_level',\n",
       "       'secondary_cleaner.state.floatbank4_a_air',\n",
       "       'secondary_cleaner.state.floatbank4_a_level',\n",
       "       'secondary_cleaner.state.floatbank4_b_air',\n",
       "       'secondary_cleaner.state.floatbank4_b_level',\n",
       "       'secondary_cleaner.state.floatbank5_a_air',\n",
       "       'secondary_cleaner.state.floatbank5_a_level',\n",
       "       'secondary_cleaner.state.floatbank5_b_air',\n",
       "       'secondary_cleaner.state.floatbank5_b_level',\n",
       "       'secondary_cleaner.state.floatbank6_a_air',\n",
       "       'secondary_cleaner.state.floatbank6_a_level', 'rec_check'],\n",
       "      dtype='object')"
      ]
     },
     "execution_count": 44,
     "metadata": {},
     "output_type": "execute_result"
    }
   ],
   "source": [
    "final_features_train = train_data.drop(rougher_features_train, axis=1)\n",
    "final_features_train = final_features_train.drop(tt, axis=1)\n",
    "final_features_train.columns"
   ]
  },
  {
   "cell_type": "code",
   "execution_count": 45,
   "metadata": {},
   "outputs": [],
   "source": [
    "final_target_train = train_data['final.output.recovery']"
   ]
  },
  {
   "cell_type": "markdown",
   "metadata": {},
   "source": [
    "#### Обучение моделей"
   ]
  },
  {
   "cell_type": "markdown",
   "metadata": {},
   "source": [
    "##### CatBoostRegressor"
   ]
  },
  {
   "cell_type": "code",
   "execution_count": 46,
   "metadata": {},
   "outputs": [],
   "source": [
    "def scorer(model, features, target):\n",
    "    prediction = model.predict(features)\n",
    "    smape = 1 / len(target) * np.sum(2 * np.abs(prediction - target) / (np.abs(target) + np.abs(prediction))*100)\n",
    "    return smape\n",
    "\n",
    "scorer = make_scorer(sMAPE, greater_is_better=False)"
   ]
  },
  {
   "cell_type": "code",
   "execution_count": 47,
   "metadata": {},
   "outputs": [
    {
     "name": "stdout",
     "output_type": "stream",
     "text": [
      "-4.806770835571208\n",
      "{'depth': 4, 'iterations': 10, 'l2_leaf_reg': 1, 'learning_rate': 0.15}\n"
     ]
    }
   ],
   "source": [
    "params = {'depth': [4, 7, 10],\n",
    "          'learning_rate': [0.03, 0.1, 0.15],\n",
    "          'l2_leaf_reg': [1, 4, 9],\n",
    "          'iterations': [10, 100]}\n",
    "\n",
    "\n",
    "model = CatBoostRegressor()\n",
    "cb_model = GridSearchCV(model, params, scoring= scorer, cv=3)\n",
    "cb_model.fit(rougher_features_train, rougher_target_train, verbose=False)\n",
    "cb_model.best_score_\n",
    "\n",
    "print(cb_model.best_score_)  \n",
    "print(cb_model.best_params_)"
   ]
  },
  {
   "cell_type": "code",
   "execution_count": 48,
   "metadata": {},
   "outputs": [
    {
     "name": "stdout",
     "output_type": "stream",
     "text": [
      "-5.6412782632365195\n",
      "{'depth': 4, 'iterations': 100, 'l2_leaf_reg': 9, 'learning_rate': 0.03}\n"
     ]
    }
   ],
   "source": [
    "params = {'depth': [4, 7, 10],\n",
    "          'learning_rate': [0.03, 0.1, 0.15],\n",
    "          'l2_leaf_reg': [1, 4, 9],\n",
    "          'iterations': [10, 100]}\n",
    "\n",
    "\n",
    "model = CatBoostRegressor()\n",
    "final_cb_model = GridSearchCV(model, params, scoring= scorer, cv=3)\n",
    "final_cb_model.fit(final_features_train, final_target_train, verbose=False)\n",
    "\n",
    "print(final_cb_model.best_score_)\n",
    "print(final_cb_model.best_params_)"
   ]
  },
  {
   "cell_type": "code",
   "execution_count": 49,
   "metadata": {},
   "outputs": [
    {
     "name": "stdout",
     "output_type": "stream",
     "text": [
      "-5.432651406320192\n"
     ]
    }
   ],
   "source": [
    "print(total_sMAPE(cb_model.best_score_, final_cb_model.best_score_))"
   ]
  },
  {
   "cell_type": "markdown",
   "metadata": {},
   "source": [
    "<div class=\"alert alert-warning\"> ⚠️\n",
    "\n",
    "<h3> Комментарий ревьюера v1</h3>\n",
    "\n",
    "Масштабирование в основном нужно в алгоритмах, основанных на \"расстоянии между признаками\" (Евклидово расстояние). И еще нейронные сети требуют масштабирования для быстрой сходимости. Случайный лес - это модель, основанная на дереве, и, следовательно, не требует масштабирования объектов. Этот алгоритм требует разбиения на разделы, даже если ты применишь нормализацию, то в целом результат будет таким же.\n"
   ]
  },
  {
   "cell_type": "markdown",
   "metadata": {},
   "source": [
    "##### Линейная регрессия"
   ]
  },
  {
   "cell_type": "code",
   "execution_count": 50,
   "metadata": {},
   "outputs": [],
   "source": [
    "def transform(features):\n",
    "    scaler = StandardScaler()\n",
    "    scaler.fit(features)\n",
    "    features = scaler.transform(features)"
   ]
  },
  {
   "cell_type": "code",
   "execution_count": 51,
   "metadata": {},
   "outputs": [],
   "source": [
    "transform(rougher_features_train)\n",
    "transform(rougher_features_test)\n",
    "transform(final_features_train)\n",
    "transform(final_features_test)"
   ]
  },
  {
   "cell_type": "code",
   "execution_count": 52,
   "metadata": {},
   "outputs": [
    {
     "name": "stdout",
     "output_type": "stream",
     "text": [
      "-4.870701702519106\n"
     ]
    }
   ],
   "source": [
    "model_lr = LinearRegression(n_jobs=-1)\n",
    "model_lr.fit(rougher_features_train, rougher_target_train)\n",
    "scores_lg = cross_val_score(model_lr, rougher_features_train, rougher_target_train, cv=5, scoring = scorer)\n",
    "rougher_smape_lr = scores_lg.mean()\n",
    "print(rougher_smape_lr)"
   ]
  },
  {
   "cell_type": "code",
   "execution_count": 53,
   "metadata": {},
   "outputs": [
    {
     "name": "stdout",
     "output_type": "stream",
     "text": [
      "-5.988837075170166\n"
     ]
    }
   ],
   "source": [
    "model_lr = LinearRegression(n_jobs=-1)\n",
    "model_lr.fit(final_features_train, final_target_train)\n",
    "scores_lg = cross_val_score(model_lr, final_features_train, final_target_train, cv=5, scoring = scorer)\n",
    "final_smape_lr = scores_lg.mean()\n",
    "print(final_smape_lr)"
   ]
  },
  {
   "cell_type": "code",
   "execution_count": 54,
   "metadata": {},
   "outputs": [
    {
     "name": "stdout",
     "output_type": "stream",
     "text": [
      "-5.709303232007401\n"
     ]
    }
   ],
   "source": [
    "print(total_sMAPE(rougher_smape_lr, final_smape_lr))"
   ]
  },
  {
   "cell_type": "markdown",
   "metadata": {},
   "source": [
    "<div class=\"alert alert-warning\"> ⚠️\n",
    "\n",
    "<h3> Комментарий ревьюера v1</h3>\n",
    "\n",
    "Я бы для такой задачки еще использовал catboost. Советую почитать-поразбираться, как эта штука запускается. Примерно так же, как рандом форест, на самом деле. И еще он может \"съесть\" категориальные фичи (например, страну и тп). Оставлю ссылочку на статью на Хабре:\n",
    "https://habr.com/ru/company/otus/blog/527554/\n",
    "\n",
    "Lasso, Ridge\n",
    "Еще можно попробовать регрессионые модели с регуляризацией: Ridge, Lasso. Они отличаются только тем, что у одной модели L1, а у второй L2 регуляризация. И еще есть ElasticNet с комбинацией L1 и L2\n",
    "\n"
   ]
  },
  {
   "cell_type": "markdown",
   "metadata": {},
   "source": [
    "##### Проверка лучшей модели на тестовой выборке"
   ]
  },
  {
   "cell_type": "code",
   "execution_count": 55,
   "metadata": {},
   "outputs": [
    {
     "data": {
      "text/plain": [
       "0       89.993421\n",
       "1       88.089657\n",
       "2       88.412756\n",
       "3       87.360133\n",
       "4       83.236367\n",
       "          ...    \n",
       "5175    95.172585\n",
       "5176    94.575036\n",
       "5177    93.018138\n",
       "5178    92.599042\n",
       "5179    91.177695\n",
       "Name: rougher.output.recovery, Length: 5180, dtype: float64"
      ]
     },
     "execution_count": 55,
     "metadata": {},
     "output_type": "execute_result"
    }
   ],
   "source": [
    "rougher_target_test1 = pd.Series(rougher_target_test['rougher.output.recovery'])\n",
    "rougher_target_test1"
   ]
  },
  {
   "cell_type": "code",
   "execution_count": 56,
   "metadata": {},
   "outputs": [],
   "source": [
    "final_target_test1 = pd.Series(final_target_test['final.output.recovery'])"
   ]
  },
  {
   "cell_type": "markdown",
   "metadata": {},
   "source": [
    "<div class=\"alert alert-info\">\n",
    "    Выдавал ошибку, если тагрет оставить как дф\n",
    "    \n",
    "    \n",
    "    \"ValueError: Unable to coerce to Series, length must be 1: given 1747\""
   ]
  },
  {
   "cell_type": "code",
   "execution_count": 57,
   "metadata": {},
   "outputs": [
    {
     "name": "stdout",
     "output_type": "stream",
     "text": [
      "-4.463254903582311\n"
     ]
    }
   ],
   "source": [
    "rougher_model_cb = CatBoostRegressor(depth=4, iterations=10, l2_leaf_reg=1, learning_rate=0.15, verbose=False, random_state=1234)\n",
    "scores_rougher_test = cross_val_score(rougher_model_cb, rougher_features_test, rougher_target_test1, cv=3, scoring = scorer)\n",
    "print(scores_rougher_test.mean())"
   ]
  },
  {
   "cell_type": "code",
   "execution_count": 58,
   "metadata": {},
   "outputs": [
    {
     "name": "stdout",
     "output_type": "stream",
     "text": [
      "-7.696827075556388\n"
     ]
    }
   ],
   "source": [
    "final_model_cb = CatBoostRegressor(depth=4, iterations=100, l2_leaf_reg=9, learning_rate=0.03, verbose=False, random_state=1234)\n",
    "scores_final_test = cross_val_score(final_model_cb, final_features_test, final_target_test1, cv=3, scoring = scorer)\n",
    "print(scores_final_test.mean())"
   ]
  },
  {
   "cell_type": "code",
   "execution_count": 59,
   "metadata": {},
   "outputs": [
    {
     "name": "stdout",
     "output_type": "stream",
     "text": [
      "-6.888434032562868\n"
     ]
    }
   ],
   "source": [
    "print(total_sMAPE(scores_rougher_test.mean(), scores_final_test.mean()))"
   ]
  },
  {
   "cell_type": "markdown",
   "metadata": {},
   "source": [
    "##### Проверка модели на вменяемость (Dummy)"
   ]
  },
  {
   "cell_type": "code",
   "execution_count": 60,
   "metadata": {},
   "outputs": [
    {
     "name": "stdout",
     "output_type": "stream",
     "text": [
      "-5.7110862135562455\n"
     ]
    }
   ],
   "source": [
    "constant_rougher = DummyRegressor(strategy='median')\n",
    "constant_rougher.fit(rougher_features_train, rougher_target_train)\n",
    "constant_rougher_pred = constant_rougher.predict(rougher_features_test)\n",
    "scores_constant = cross_val_score(constant_rougher, rougher_features_train, rougher_target_train, cv=3, scoring = scorer)\n",
    "constant_smape_rougher = scores_constant.mean()\n",
    "print(constant_smape_rougher)"
   ]
  },
  {
   "cell_type": "markdown",
   "metadata": {},
   "source": [
    "<div class=\"alert alert-success\"> ✅ \n",
    "<h3> Комментарий ревьюера v1</h3>\n",
    "\n",
    "Здорово, что сравниваешь модель с константной! Из одного значения метрики не ясно, насколько адекватны предсказания моделей\n"
   ]
  },
  {
   "cell_type": "code",
   "execution_count": 61,
   "metadata": {},
   "outputs": [
    {
     "name": "stdout",
     "output_type": "stream",
     "text": [
      "-7.522721077897123\n"
     ]
    }
   ],
   "source": [
    "constant_final = DummyRegressor(strategy='median')\n",
    "constant_final.fit(final_features_train, final_target_train)\n",
    "constant_final_pred = constant_rougher.predict(final_features_test)\n",
    "scores_constant = cross_val_score(constant_rougher, final_features_train, final_target_train, cv=3, scoring = scorer)\n",
    "constant_smape_final = scores_constant.mean()\n",
    "print(constant_smape_final)"
   ]
  },
  {
   "cell_type": "code",
   "execution_count": 62,
   "metadata": {},
   "outputs": [
    {
     "name": "stdout",
     "output_type": "stream",
     "text": [
      "Выбранная модель вменяемая !\n"
     ]
    }
   ],
   "source": [
    "if total_sMAPE(constant_smape_rougher, constant_smape_final) < total_sMAPE(scores_rougher_test.mean(), scores_final_test.mean()):\n",
    "    print('Выбранная модель вменяемая !')\n",
    "else:\n",
    "    print('Неудачно выбрали модель!')"
   ]
  },
  {
   "cell_type": "markdown",
   "metadata": {},
   "source": [
    "отрицательные значения из-за greater_is_better=False"
   ]
  },
  {
   "cell_type": "markdown",
   "metadata": {},
   "source": [
    "## Вывод"
   ]
  },
  {
   "cell_type": "markdown",
   "metadata": {},
   "source": [
    "В данном проекте проведена подготовка данных, осуществелен исследовательский анализ данных, построены и обучены модели. Лучшая модель была проверена на тестовой валидации. Модель CatBoostRegressor с параметрами depth=4, iterations=10, l2_leaf_reg=1, learning_rate=0.15 подходит для предсказания коэффициента восстановления золота из золотосодержащей руды. "
   ]
  },
  {
   "cell_type": "markdown",
   "metadata": {},
   "source": [
    "<div class=\"alert alert-block alert-info\">\n",
    "    Спасибо! 😇"
   ]
  },
  {
   "cell_type": "markdown",
   "metadata": {},
   "source": [
    "## Чек-лист готовности проекта"
   ]
  },
  {
   "cell_type": "markdown",
   "metadata": {},
   "source": [
    "- [x]  Jupyter Notebook открыт\n",
    "- [x]  Весь код выполняется без ошибок\n",
    "- [x]  Ячейки с кодом расположены в порядке выполнения\n",
    "- [x]  Выполнен шаг 1: данные подготовлены\n",
    "    - [x]  Проверена формула вычисления эффективности обогащения\n",
    "    - [x]  Проанализированы признаки, недоступные в тестовой выборке\n",
    "    - [x]  Проведена предобработка данных\n",
    "- [x]  Выполнен шаг 2: данные проанализированы\n",
    "    - [x]  Исследовано изменение концентрации элементов на каждом этапе\n",
    "    - [x]  Проанализированы распределения размеров гранул на обучающей и тестовой выборках\n",
    "    - [x]  Исследованы суммарные концентрации\n",
    "- [x]  Выполнен шаг 3: построена модель прогнозирования\n",
    "    - [x]  Написана функция для вычисления итогового *sMAPE*\n",
    "    - [x]  Обучено и проверено несколько моделей\n",
    "    - [x]  Выбрана лучшая модель, её качество проверено на тестовой выборке"
   ]
  },
  {
   "cell_type": "markdown",
   "metadata": {},
   "source": [
    "<div class=\"alert alert-block alert-info\">\n",
    "<h3> Итоговый комментарий</h3>\n",
    "\n",
    "Большое спасибо за проделанную работу. Видно, что приложено много усилий. Работа в целом и каждый шаг в отдельности сделаны хорошо. Я оставил несколько советов, надеюсь они будут учтены в этом или будущих проектах. Осталось построить гистограммы при анализе суммарной концетрации веществ, разобраться с выбросами =) Затем я приму проект\n",
    "\n"
   ]
  },
  {
   "cell_type": "markdown",
   "metadata": {},
   "source": [
    "<div class=\"alert alert-success\"> ✅ \n",
    "<h3> Комментарий ревьюера v2</h3>\n",
    "\n",
    "Теперь все хорошо =) Удачи в следующих проектах!"
   ]
  }
 ],
 "metadata": {
  "ExecuteTimeLog": [
   {
    "duration": 350,
    "start_time": "2022-05-18T13:18:01.355Z"
   },
   {
    "duration": 3073,
    "start_time": "2022-05-18T13:20:30.309Z"
   },
   {
    "duration": 7,
    "start_time": "2022-05-18T13:31:48.250Z"
   },
   {
    "duration": 21,
    "start_time": "2022-05-18T13:31:59.948Z"
   },
   {
    "duration": 664,
    "start_time": "2022-05-19T16:31:03.453Z"
   },
   {
    "duration": 3360,
    "start_time": "2022-05-19T16:31:04.955Z"
   },
   {
    "duration": 3,
    "start_time": "2022-05-19T16:36:00.552Z"
   },
   {
    "duration": 142,
    "start_time": "2022-05-19T16:36:17.925Z"
   },
   {
    "duration": 3,
    "start_time": "2022-05-19T16:37:27.109Z"
   },
   {
    "duration": 71,
    "start_time": "2022-05-19T16:37:29.064Z"
   },
   {
    "duration": 7,
    "start_time": "2022-05-19T16:37:40.860Z"
   },
   {
    "duration": 10,
    "start_time": "2022-05-19T16:37:53.188Z"
   },
   {
    "duration": 10,
    "start_time": "2022-05-19T16:38:02.212Z"
   },
   {
    "duration": 9,
    "start_time": "2022-05-19T16:38:11.988Z"
   },
   {
    "duration": 4,
    "start_time": "2022-05-19T16:38:54.652Z"
   },
   {
    "duration": 135,
    "start_time": "2022-05-19T16:38:55.313Z"
   },
   {
    "duration": 3,
    "start_time": "2022-05-19T16:39:15.216Z"
   },
   {
    "duration": 138,
    "start_time": "2022-05-19T16:39:15.714Z"
   },
   {
    "duration": 4,
    "start_time": "2022-05-19T16:39:25.491Z"
   },
   {
    "duration": 129,
    "start_time": "2022-05-19T16:39:26.757Z"
   },
   {
    "duration": 158,
    "start_time": "2022-05-19T16:39:45.953Z"
   },
   {
    "duration": 49,
    "start_time": "2022-05-19T16:40:11.213Z"
   },
   {
    "duration": 55,
    "start_time": "2022-05-19T17:02:48.145Z"
   },
   {
    "duration": 8,
    "start_time": "2022-05-19T17:16:19.370Z"
   },
   {
    "duration": 404,
    "start_time": "2022-05-19T17:16:39.032Z"
   },
   {
    "duration": 6,
    "start_time": "2022-05-19T17:16:46.550Z"
   },
   {
    "duration": 10,
    "start_time": "2022-05-19T17:17:11.081Z"
   },
   {
    "duration": 7,
    "start_time": "2022-05-19T17:19:20.620Z"
   },
   {
    "duration": 882,
    "start_time": "2022-05-19T17:21:57.415Z"
   },
   {
    "duration": 7,
    "start_time": "2022-05-19T17:37:29.100Z"
   },
   {
    "duration": 11,
    "start_time": "2022-05-19T17:39:49.054Z"
   },
   {
    "duration": 10,
    "start_time": "2022-05-19T17:40:04.697Z"
   },
   {
    "duration": 11,
    "start_time": "2022-05-19T17:40:17.779Z"
   },
   {
    "duration": 44,
    "start_time": "2022-05-19T17:48:39.963Z"
   },
   {
    "duration": 9,
    "start_time": "2022-05-19T17:48:58.744Z"
   },
   {
    "duration": 5,
    "start_time": "2022-05-19T17:53:55.147Z"
   },
   {
    "duration": 8,
    "start_time": "2022-05-19T18:31:48.555Z"
   },
   {
    "duration": 9,
    "start_time": "2022-05-19T18:31:59.028Z"
   },
   {
    "duration": 40,
    "start_time": "2022-05-19T18:32:49.977Z"
   },
   {
    "duration": 4,
    "start_time": "2022-05-19T18:33:51.185Z"
   },
   {
    "duration": 21,
    "start_time": "2022-05-19T18:34:21.220Z"
   },
   {
    "duration": 17,
    "start_time": "2022-05-19T18:34:22.318Z"
   },
   {
    "duration": 8,
    "start_time": "2022-05-19T18:34:23.163Z"
   },
   {
    "duration": 19,
    "start_time": "2022-05-19T18:51:46.260Z"
   },
   {
    "duration": 4,
    "start_time": "2022-05-19T18:54:33.697Z"
   },
   {
    "duration": 1115,
    "start_time": "2022-05-19T18:54:52.706Z"
   },
   {
    "duration": 72656,
    "start_time": "2022-05-19T18:55:03.793Z"
   },
   {
    "duration": 4,
    "start_time": "2022-05-19T18:56:54.139Z"
   },
   {
    "duration": 660,
    "start_time": "2022-05-19T18:57:26.381Z"
   },
   {
    "duration": 31,
    "start_time": "2022-05-19T18:58:05.450Z"
   },
   {
    "duration": 1358,
    "start_time": "2022-05-19T18:58:17.598Z"
   },
   {
    "duration": 9,
    "start_time": "2022-05-19T19:00:34.906Z"
   },
   {
    "duration": 400,
    "start_time": "2022-05-19T19:02:25.452Z"
   },
   {
    "duration": 308,
    "start_time": "2022-05-19T19:02:53.092Z"
   },
   {
    "duration": 386,
    "start_time": "2022-05-19T19:03:17.885Z"
   },
   {
    "duration": 420,
    "start_time": "2022-05-19T19:05:38.566Z"
   },
   {
    "duration": 474,
    "start_time": "2022-05-19T19:05:49.208Z"
   },
   {
    "duration": 497,
    "start_time": "2022-05-19T19:06:06.154Z"
   },
   {
    "duration": 3,
    "start_time": "2022-05-19T19:06:45.253Z"
   },
   {
    "duration": 454,
    "start_time": "2022-05-19T19:07:08.208Z"
   },
   {
    "duration": 475,
    "start_time": "2022-05-19T19:08:24.442Z"
   },
   {
    "duration": 478,
    "start_time": "2022-05-19T19:09:14.690Z"
   },
   {
    "duration": 14,
    "start_time": "2022-05-19T19:15:26.989Z"
   },
   {
    "duration": 237,
    "start_time": "2022-05-19T19:19:57.546Z"
   },
   {
    "duration": 525,
    "start_time": "2022-05-19T19:21:37.454Z"
   },
   {
    "duration": 392,
    "start_time": "2022-05-19T19:22:43.346Z"
   },
   {
    "duration": 2313,
    "start_time": "2022-05-19T19:22:58.640Z"
   },
   {
    "duration": 823,
    "start_time": "2022-05-19T19:23:16.923Z"
   },
   {
    "duration": 765,
    "start_time": "2022-05-19T19:23:35.498Z"
   },
   {
    "duration": 451,
    "start_time": "2022-05-19T19:23:41.827Z"
   },
   {
    "duration": 248,
    "start_time": "2022-05-19T19:25:11.109Z"
   },
   {
    "duration": 236,
    "start_time": "2022-05-19T19:25:20.889Z"
   },
   {
    "duration": 232,
    "start_time": "2022-05-19T19:25:28.027Z"
   },
   {
    "duration": 6,
    "start_time": "2022-05-19T19:28:41.006Z"
   },
   {
    "duration": 353,
    "start_time": "2022-05-19T19:29:58.156Z"
   },
   {
    "duration": 148,
    "start_time": "2022-05-19T19:30:20.216Z"
   },
   {
    "duration": 362,
    "start_time": "2022-05-19T19:30:26.088Z"
   },
   {
    "duration": 836,
    "start_time": "2022-05-19T19:30:49.399Z"
   },
   {
    "duration": 601,
    "start_time": "2022-05-19T19:34:28.498Z"
   },
   {
    "duration": 857,
    "start_time": "2022-05-19T19:34:42.992Z"
   },
   {
    "duration": 661,
    "start_time": "2022-05-19T19:35:17.399Z"
   },
   {
    "duration": 799,
    "start_time": "2022-05-19T19:36:48.751Z"
   },
   {
    "duration": 810,
    "start_time": "2022-05-19T19:37:13.450Z"
   },
   {
    "duration": 1010,
    "start_time": "2022-05-19T19:37:58.958Z"
   },
   {
    "duration": 26,
    "start_time": "2022-05-19T19:39:48.375Z"
   },
   {
    "duration": 462,
    "start_time": "2022-05-19T19:39:58.919Z"
   },
   {
    "duration": 764,
    "start_time": "2022-05-19T19:40:17.668Z"
   },
   {
    "duration": 778,
    "start_time": "2022-05-19T19:40:47.608Z"
   },
   {
    "duration": 802,
    "start_time": "2022-05-19T19:40:55.609Z"
   },
   {
    "duration": 1069,
    "start_time": "2022-05-19T19:41:04.855Z"
   },
   {
    "duration": 164,
    "start_time": "2022-05-19T19:45:49.318Z"
   },
   {
    "duration": 513,
    "start_time": "2022-05-19T19:46:20.621Z"
   },
   {
    "duration": 179,
    "start_time": "2022-05-19T19:46:34.269Z"
   },
   {
    "duration": 1053,
    "start_time": "2022-05-19T19:46:42.264Z"
   },
   {
    "duration": 609,
    "start_time": "2022-05-19T19:46:55.011Z"
   },
   {
    "duration": 2,
    "start_time": "2022-05-19T19:47:08.102Z"
   },
   {
    "duration": 653,
    "start_time": "2022-05-19T19:47:13.865Z"
   },
   {
    "duration": 632,
    "start_time": "2022-05-19T19:47:44.253Z"
   },
   {
    "duration": 592,
    "start_time": "2022-05-19T19:47:51.620Z"
   },
   {
    "duration": 9,
    "start_time": "2022-05-19T19:48:32.697Z"
   },
   {
    "duration": 649,
    "start_time": "2022-05-19T19:49:27.572Z"
   },
   {
    "duration": 640,
    "start_time": "2022-05-19T19:50:40.564Z"
   },
   {
    "duration": 3,
    "start_time": "2022-05-19T19:51:25.909Z"
   },
   {
    "duration": 669,
    "start_time": "2022-05-19T19:51:27.293Z"
   },
   {
    "duration": 3,
    "start_time": "2022-05-19T19:51:47.545Z"
   },
   {
    "duration": 8,
    "start_time": "2022-05-19T19:52:22.306Z"
   },
   {
    "duration": 4,
    "start_time": "2022-05-19T20:15:22.088Z"
   },
   {
    "duration": 738,
    "start_time": "2022-05-19T20:15:22.847Z"
   },
   {
    "duration": 3,
    "start_time": "2022-05-19T20:15:24.565Z"
   },
   {
    "duration": 145,
    "start_time": "2022-05-19T20:15:25.199Z"
   },
   {
    "duration": 156,
    "start_time": "2022-05-19T20:15:25.741Z"
   },
   {
    "duration": 53,
    "start_time": "2022-05-19T20:15:26.224Z"
   },
   {
    "duration": 11,
    "start_time": "2022-05-19T20:15:29.516Z"
   },
   {
    "duration": 5,
    "start_time": "2022-05-19T20:15:30.790Z"
   },
   {
    "duration": 4,
    "start_time": "2022-05-19T20:15:32.800Z"
   },
   {
    "duration": 17,
    "start_time": "2022-05-19T20:15:33.473Z"
   },
   {
    "duration": 18,
    "start_time": "2022-05-19T20:15:33.994Z"
   },
   {
    "duration": 7,
    "start_time": "2022-05-19T20:15:36.955Z"
   },
   {
    "duration": 3,
    "start_time": "2022-05-19T20:15:58.318Z"
   },
   {
    "duration": 643,
    "start_time": "2022-05-19T20:15:59.040Z"
   },
   {
    "duration": 3,
    "start_time": "2022-05-19T20:16:00.369Z"
   },
   {
    "duration": 130,
    "start_time": "2022-05-19T20:16:01.117Z"
   },
   {
    "duration": 170,
    "start_time": "2022-05-19T20:16:01.860Z"
   },
   {
    "duration": 53,
    "start_time": "2022-05-19T20:16:02.576Z"
   },
   {
    "duration": 11,
    "start_time": "2022-05-19T20:16:05.745Z"
   },
   {
    "duration": 4,
    "start_time": "2022-05-19T20:16:08.170Z"
   },
   {
    "duration": 3,
    "start_time": "2022-05-19T20:16:10.645Z"
   },
   {
    "duration": 20,
    "start_time": "2022-05-19T20:16:11.855Z"
   },
   {
    "duration": 20,
    "start_time": "2022-05-19T20:16:18.144Z"
   },
   {
    "duration": 8,
    "start_time": "2022-05-19T20:16:18.798Z"
   },
   {
    "duration": 3,
    "start_time": "2022-05-19T20:17:09.450Z"
   },
   {
    "duration": 20,
    "start_time": "2022-05-19T20:17:10.149Z"
   },
   {
    "duration": 15,
    "start_time": "2022-05-19T20:17:10.961Z"
   },
   {
    "duration": 7,
    "start_time": "2022-05-19T20:17:11.405Z"
   },
   {
    "duration": 1620,
    "start_time": "2022-05-20T11:04:44.152Z"
   },
   {
    "duration": 1528,
    "start_time": "2022-05-20T11:04:47.212Z"
   },
   {
    "duration": 3,
    "start_time": "2022-05-20T11:04:51.284Z"
   },
   {
    "duration": 253,
    "start_time": "2022-05-20T11:04:52.470Z"
   },
   {
    "duration": 178,
    "start_time": "2022-05-20T11:04:53.093Z"
   },
   {
    "duration": 59,
    "start_time": "2022-05-20T11:04:53.614Z"
   },
   {
    "duration": 12,
    "start_time": "2022-05-20T11:04:56.204Z"
   },
   {
    "duration": 5,
    "start_time": "2022-05-20T11:04:57.269Z"
   },
   {
    "duration": 3,
    "start_time": "2022-05-20T11:04:59.320Z"
   },
   {
    "duration": 22,
    "start_time": "2022-05-20T11:04:59.851Z"
   },
   {
    "duration": 25,
    "start_time": "2022-05-20T11:05:00.453Z"
   },
   {
    "duration": 8,
    "start_time": "2022-05-20T11:05:01.029Z"
   },
   {
    "duration": 42,
    "start_time": "2022-05-20T11:05:53.061Z"
   },
   {
    "duration": 22,
    "start_time": "2022-05-20T11:06:13.545Z"
   },
   {
    "duration": 933,
    "start_time": "2022-05-20T18:53:27.993Z"
   },
   {
    "duration": 1677,
    "start_time": "2022-05-20T18:53:29.759Z"
   },
   {
    "duration": 4,
    "start_time": "2022-05-20T18:53:32.299Z"
   },
   {
    "duration": 159,
    "start_time": "2022-05-20T18:53:32.999Z"
   },
   {
    "duration": 194,
    "start_time": "2022-05-20T18:53:33.626Z"
   },
   {
    "duration": 53,
    "start_time": "2022-05-20T18:53:34.209Z"
   },
   {
    "duration": 12,
    "start_time": "2022-05-20T18:53:36.548Z"
   },
   {
    "duration": 6,
    "start_time": "2022-05-20T18:53:38.906Z"
   },
   {
    "duration": 3,
    "start_time": "2022-05-20T18:53:41.744Z"
   },
   {
    "duration": 22,
    "start_time": "2022-05-20T18:53:42.837Z"
   },
   {
    "duration": 28,
    "start_time": "2022-05-20T18:53:43.549Z"
   },
   {
    "duration": 7,
    "start_time": "2022-05-20T18:53:44.000Z"
   },
   {
    "duration": 24,
    "start_time": "2022-05-20T18:53:45.628Z"
   },
   {
    "duration": 591,
    "start_time": "2022-05-20T18:53:54.712Z"
   },
   {
    "duration": 3,
    "start_time": "2022-05-20T18:54:23.015Z"
   },
   {
    "duration": 21,
    "start_time": "2022-05-20T18:54:29.985Z"
   },
   {
    "duration": 14,
    "start_time": "2022-05-20T18:54:30.800Z"
   },
   {
    "duration": 7,
    "start_time": "2022-05-20T18:54:31.504Z"
   },
   {
    "duration": 18,
    "start_time": "2022-05-20T18:54:32.313Z"
   },
   {
    "duration": 493,
    "start_time": "2022-05-20T18:54:42.308Z"
   },
   {
    "duration": 493,
    "start_time": "2022-05-20T18:54:55.297Z"
   },
   {
    "duration": 512,
    "start_time": "2022-05-20T18:55:02.336Z"
   },
   {
    "duration": 912,
    "start_time": "2022-05-20T18:55:06.428Z"
   },
   {
    "duration": 847,
    "start_time": "2022-05-20T18:55:10.433Z"
   },
   {
    "duration": 127,
    "start_time": "2022-05-20T18:55:14.398Z"
   },
   {
    "duration": 752,
    "start_time": "2022-05-20T18:55:47.328Z"
   },
   {
    "duration": 13,
    "start_time": "2022-05-20T18:55:49.151Z"
   },
   {
    "duration": 11,
    "start_time": "2022-05-20T18:55:49.983Z"
   },
   {
    "duration": 484,
    "start_time": "2022-05-20T18:55:56.619Z"
   },
   {
    "duration": 521,
    "start_time": "2022-05-20T18:56:52.822Z"
   },
   {
    "duration": 17,
    "start_time": "2022-05-20T18:57:30.699Z"
   },
   {
    "duration": 413,
    "start_time": "2022-05-20T19:08:15.279Z"
   },
   {
    "duration": 427,
    "start_time": "2022-05-20T19:10:43.503Z"
   },
   {
    "duration": 255,
    "start_time": "2022-05-20T19:11:07.775Z"
   },
   {
    "duration": 431,
    "start_time": "2022-05-20T19:11:17.624Z"
   },
   {
    "duration": 22,
    "start_time": "2022-05-20T19:11:47.897Z"
   },
   {
    "duration": 17,
    "start_time": "2022-05-20T19:12:22.932Z"
   },
   {
    "duration": 535,
    "start_time": "2022-05-20T19:12:41.774Z"
   },
   {
    "duration": 509,
    "start_time": "2022-05-20T19:13:03.667Z"
   },
   {
    "duration": 588,
    "start_time": "2022-05-20T19:15:08.605Z"
   },
   {
    "duration": 540,
    "start_time": "2022-05-20T19:17:31.076Z"
   },
   {
    "duration": 573,
    "start_time": "2022-05-20T19:17:57.667Z"
   },
   {
    "duration": 588,
    "start_time": "2022-05-20T19:18:07.923Z"
   },
   {
    "duration": 566,
    "start_time": "2022-05-20T19:18:13.186Z"
   },
   {
    "duration": 536,
    "start_time": "2022-05-20T19:18:16.744Z"
   },
   {
    "duration": 528,
    "start_time": "2022-05-20T19:18:44.248Z"
   },
   {
    "duration": 557,
    "start_time": "2022-05-20T19:18:49.843Z"
   },
   {
    "duration": 530,
    "start_time": "2022-05-20T19:18:53.276Z"
   },
   {
    "duration": 500,
    "start_time": "2022-05-20T19:18:57.452Z"
   },
   {
    "duration": 254,
    "start_time": "2022-05-20T19:24:42.070Z"
   },
   {
    "duration": 157,
    "start_time": "2022-05-20T19:31:16.843Z"
   },
   {
    "duration": 169,
    "start_time": "2022-05-20T19:31:38.749Z"
   },
   {
    "duration": 168,
    "start_time": "2022-05-20T19:31:51.554Z"
   },
   {
    "duration": 11,
    "start_time": "2022-05-20T19:32:21.829Z"
   },
   {
    "duration": 0,
    "start_time": "2022-05-20T19:33:48.910Z"
   },
   {
    "duration": 168,
    "start_time": "2022-05-20T19:38:04.988Z"
   },
   {
    "duration": 136,
    "start_time": "2022-05-20T19:39:29.680Z"
   },
   {
    "duration": 508,
    "start_time": "2022-05-20T19:39:43.822Z"
   },
   {
    "duration": 444,
    "start_time": "2022-05-20T19:43:12.462Z"
   },
   {
    "duration": 718,
    "start_time": "2022-05-20T19:43:19.809Z"
   },
   {
    "duration": 748,
    "start_time": "2022-05-20T19:43:38.591Z"
   },
   {
    "duration": 4,
    "start_time": "2022-05-20T20:06:31.537Z"
   },
   {
    "duration": 3,
    "start_time": "2022-05-20T20:07:39.752Z"
   },
   {
    "duration": 18,
    "start_time": "2022-05-20T20:38:05.769Z"
   },
   {
    "duration": 11,
    "start_time": "2022-05-20T20:48:43.181Z"
   },
   {
    "duration": 4,
    "start_time": "2022-05-20T20:51:00.989Z"
   },
   {
    "duration": 3,
    "start_time": "2022-05-20T20:51:12.526Z"
   },
   {
    "duration": 3,
    "start_time": "2022-05-20T20:51:23.173Z"
   },
   {
    "duration": 3,
    "start_time": "2022-05-20T20:51:25.419Z"
   },
   {
    "duration": 4,
    "start_time": "2022-05-20T20:51:45.387Z"
   },
   {
    "duration": 4,
    "start_time": "2022-05-20T20:52:23.557Z"
   },
   {
    "duration": 5,
    "start_time": "2022-05-20T20:52:24.583Z"
   },
   {
    "duration": 10,
    "start_time": "2022-05-20T20:56:31.984Z"
   },
   {
    "duration": 11,
    "start_time": "2022-05-20T21:00:06.700Z"
   },
   {
    "duration": 4,
    "start_time": "2022-05-20T21:04:00.510Z"
   },
   {
    "duration": 4,
    "start_time": "2022-05-20T21:04:07.752Z"
   },
   {
    "duration": 3,
    "start_time": "2022-05-20T21:04:19.139Z"
   },
   {
    "duration": 4,
    "start_time": "2022-05-20T21:04:21.482Z"
   },
   {
    "duration": 239,
    "start_time": "2022-05-20T21:05:11.263Z"
   },
   {
    "duration": 36,
    "start_time": "2022-05-20T21:05:12.687Z"
   },
   {
    "duration": 15,
    "start_time": "2022-05-20T21:05:27.229Z"
   },
   {
    "duration": 224,
    "start_time": "2022-05-20T21:06:12.978Z"
   },
   {
    "duration": 14,
    "start_time": "2022-05-20T21:06:13.801Z"
   },
   {
    "duration": 5,
    "start_time": "2022-05-20T21:07:53.146Z"
   },
   {
    "duration": 4,
    "start_time": "2022-05-20T21:09:19.516Z"
   },
   {
    "duration": 6,
    "start_time": "2022-05-20T21:09:26.556Z"
   },
   {
    "duration": 9,
    "start_time": "2022-05-20T21:10:18.697Z"
   },
   {
    "duration": 12,
    "start_time": "2022-05-20T21:13:16.141Z"
   },
   {
    "duration": 5,
    "start_time": "2022-05-20T21:13:24.096Z"
   },
   {
    "duration": 15,
    "start_time": "2022-05-20T21:13:46.982Z"
   },
   {
    "duration": 35,
    "start_time": "2022-05-20T21:19:31.402Z"
   },
   {
    "duration": 184,
    "start_time": "2022-05-20T21:19:38.399Z"
   },
   {
    "duration": 5,
    "start_time": "2022-05-20T21:19:40.960Z"
   },
   {
    "duration": 151,
    "start_time": "2022-05-20T21:21:46.786Z"
   },
   {
    "duration": 17,
    "start_time": "2022-05-20T21:21:57.591Z"
   },
   {
    "duration": 39,
    "start_time": "2022-05-20T21:23:34.792Z"
   },
   {
    "duration": 204,
    "start_time": "2022-05-20T21:23:40.919Z"
   },
   {
    "duration": 4,
    "start_time": "2022-05-20T21:23:43.035Z"
   },
   {
    "duration": 12,
    "start_time": "2022-05-20T21:24:22.274Z"
   },
   {
    "duration": 12,
    "start_time": "2022-05-20T21:24:37.184Z"
   },
   {
    "duration": 158,
    "start_time": "2022-05-20T21:24:54.659Z"
   },
   {
    "duration": 5,
    "start_time": "2022-05-20T21:25:24.791Z"
   },
   {
    "duration": 123,
    "start_time": "2022-05-20T21:25:49.303Z"
   },
   {
    "duration": 4,
    "start_time": "2022-05-20T21:25:49.970Z"
   },
   {
    "duration": 4,
    "start_time": "2022-05-20T21:26:04.663Z"
   },
   {
    "duration": 31,
    "start_time": "2022-05-20T21:28:10.441Z"
   },
   {
    "duration": 13,
    "start_time": "2022-05-20T21:28:17.672Z"
   },
   {
    "duration": 48,
    "start_time": "2022-05-20T21:28:29.789Z"
   },
   {
    "duration": 4,
    "start_time": "2022-05-20T21:28:45.357Z"
   },
   {
    "duration": 1178,
    "start_time": "2022-05-20T21:29:42.309Z"
   },
   {
    "duration": 1592,
    "start_time": "2022-05-20T21:29:44.035Z"
   },
   {
    "duration": 4,
    "start_time": "2022-05-20T21:29:46.305Z"
   },
   {
    "duration": 226,
    "start_time": "2022-05-20T21:29:46.941Z"
   },
   {
    "duration": 173,
    "start_time": "2022-05-20T21:29:47.396Z"
   },
   {
    "duration": 53,
    "start_time": "2022-05-20T21:29:47.787Z"
   },
   {
    "duration": 11,
    "start_time": "2022-05-20T21:29:49.359Z"
   },
   {
    "duration": 5,
    "start_time": "2022-05-20T21:29:50.390Z"
   },
   {
    "duration": 3,
    "start_time": "2022-05-20T21:29:52.448Z"
   },
   {
    "duration": 23,
    "start_time": "2022-05-20T21:29:52.944Z"
   },
   {
    "duration": 22,
    "start_time": "2022-05-20T21:29:53.488Z"
   },
   {
    "duration": 9,
    "start_time": "2022-05-20T21:29:53.995Z"
   },
   {
    "duration": 419,
    "start_time": "2022-05-20T21:29:55.257Z"
   },
   {
    "duration": 726,
    "start_time": "2022-05-20T21:29:55.923Z"
   },
   {
    "duration": 718,
    "start_time": "2022-05-20T21:29:56.651Z"
   },
   {
    "duration": 853,
    "start_time": "2022-05-20T21:29:59.127Z"
   },
   {
    "duration": 10,
    "start_time": "2022-05-20T21:30:00.619Z"
   },
   {
    "duration": 9,
    "start_time": "2022-05-20T21:30:01.436Z"
   },
   {
    "duration": 526,
    "start_time": "2022-05-20T21:30:03.385Z"
   },
   {
    "duration": 502,
    "start_time": "2022-05-20T21:30:03.946Z"
   },
   {
    "duration": 499,
    "start_time": "2022-05-20T21:30:05.589Z"
   },
   {
    "duration": 3,
    "start_time": "2022-05-20T21:30:08.133Z"
   },
   {
    "duration": 3,
    "start_time": "2022-05-20T21:30:08.920Z"
   },
   {
    "duration": 113,
    "start_time": "2022-05-20T21:30:10.576Z"
   },
   {
    "duration": 5,
    "start_time": "2022-05-20T21:30:11.313Z"
   },
   {
    "duration": 3,
    "start_time": "2022-05-20T21:30:11.932Z"
   },
   {
    "duration": 8509,
    "start_time": "2022-05-20T21:30:14.812Z"
   },
   {
    "duration": 127,
    "start_time": "2022-05-20T21:31:49.433Z"
   },
   {
    "duration": 5,
    "start_time": "2022-05-20T21:31:53.746Z"
   },
   {
    "duration": 153,
    "start_time": "2022-05-20T21:33:03.039Z"
   },
   {
    "duration": 160,
    "start_time": "2022-05-20T21:33:08.995Z"
   },
   {
    "duration": 10,
    "start_time": "2022-05-20T21:33:11.913Z"
   },
   {
    "duration": 18,
    "start_time": "2022-05-20T21:33:28.550Z"
   },
   {
    "duration": 6,
    "start_time": "2022-05-20T21:33:46.478Z"
   },
   {
    "duration": 9,
    "start_time": "2022-05-20T21:33:57.594Z"
   },
   {
    "duration": 11,
    "start_time": "2022-05-20T21:34:08.313Z"
   },
   {
    "duration": 63,
    "start_time": "2022-05-20T21:34:45.937Z"
   },
   {
    "duration": 49,
    "start_time": "2022-05-20T21:34:55.707Z"
   },
   {
    "duration": 588,
    "start_time": "2022-05-20T21:35:43.179Z"
   },
   {
    "duration": 9,
    "start_time": "2022-05-20T21:35:47.440Z"
   },
   {
    "duration": 26,
    "start_time": "2022-05-20T21:35:57.722Z"
   },
   {
    "duration": 13,
    "start_time": "2022-05-20T21:36:04.492Z"
   },
   {
    "duration": 129,
    "start_time": "2022-05-20T21:36:12.634Z"
   },
   {
    "duration": 13,
    "start_time": "2022-05-20T21:36:14.905Z"
   },
   {
    "duration": 17,
    "start_time": "2022-05-20T21:36:30.301Z"
   },
   {
    "duration": 148,
    "start_time": "2022-05-20T21:37:16.347Z"
   },
   {
    "duration": 10,
    "start_time": "2022-05-20T21:37:19.733Z"
   },
   {
    "duration": 11,
    "start_time": "2022-05-20T21:37:45.221Z"
   },
   {
    "duration": 165,
    "start_time": "2022-05-20T21:37:56.059Z"
   },
   {
    "duration": 11,
    "start_time": "2022-05-20T21:37:56.934Z"
   },
   {
    "duration": 146,
    "start_time": "2022-05-20T21:38:01.795Z"
   },
   {
    "duration": 5,
    "start_time": "2022-05-20T21:38:02.876Z"
   },
   {
    "duration": 2,
    "start_time": "2022-05-20T21:38:03.841Z"
   },
   {
    "duration": 167,
    "start_time": "2022-05-20T21:38:05.950Z"
   },
   {
    "duration": 11,
    "start_time": "2022-05-20T21:38:06.980Z"
   },
   {
    "duration": 8,
    "start_time": "2022-05-20T21:38:34.601Z"
   },
   {
    "duration": 11,
    "start_time": "2022-05-20T21:39:03.483Z"
   },
   {
    "duration": 5,
    "start_time": "2022-05-20T21:40:31.372Z"
   },
   {
    "duration": 28,
    "start_time": "2022-05-20T21:45:41.276Z"
   },
   {
    "duration": 13,
    "start_time": "2022-05-20T21:46:59.416Z"
   },
   {
    "duration": 13,
    "start_time": "2022-05-20T21:52:08.888Z"
   },
   {
    "duration": 3,
    "start_time": "2022-05-20T21:52:21.998Z"
   },
   {
    "duration": 3,
    "start_time": "2022-05-20T21:52:26.378Z"
   },
   {
    "duration": 9,
    "start_time": "2022-05-20T21:52:29.421Z"
   },
   {
    "duration": 3,
    "start_time": "2022-05-20T21:53:13.378Z"
   },
   {
    "duration": 25,
    "start_time": "2022-05-20T21:53:17.817Z"
   },
   {
    "duration": 12,
    "start_time": "2022-05-20T21:54:32.629Z"
   },
   {
    "duration": 1476,
    "start_time": "2022-05-21T10:18:09.584Z"
   },
   {
    "duration": 3268,
    "start_time": "2022-05-21T10:18:11.929Z"
   },
   {
    "duration": 4,
    "start_time": "2022-05-21T10:18:15.199Z"
   },
   {
    "duration": 139,
    "start_time": "2022-05-21T10:18:15.204Z"
   },
   {
    "duration": 176,
    "start_time": "2022-05-21T10:18:15.345Z"
   },
   {
    "duration": 54,
    "start_time": "2022-05-21T10:18:15.524Z"
   },
   {
    "duration": 13,
    "start_time": "2022-05-21T10:18:17.810Z"
   },
   {
    "duration": 7,
    "start_time": "2022-05-21T10:18:19.060Z"
   },
   {
    "duration": 4,
    "start_time": "2022-05-21T10:18:21.205Z"
   },
   {
    "duration": 26,
    "start_time": "2022-05-21T10:18:21.759Z"
   },
   {
    "duration": 25,
    "start_time": "2022-05-21T10:18:22.286Z"
   },
   {
    "duration": 8,
    "start_time": "2022-05-21T10:18:22.768Z"
   },
   {
    "duration": 365,
    "start_time": "2022-05-21T10:18:24.506Z"
   },
   {
    "duration": 621,
    "start_time": "2022-05-21T10:18:25.824Z"
   },
   {
    "duration": 618,
    "start_time": "2022-05-21T10:18:27.671Z"
   },
   {
    "duration": 751,
    "start_time": "2022-05-21T10:18:30.299Z"
   },
   {
    "duration": 10,
    "start_time": "2022-05-21T10:18:31.663Z"
   },
   {
    "duration": 12,
    "start_time": "2022-05-21T10:18:33.065Z"
   },
   {
    "duration": 467,
    "start_time": "2022-05-21T10:18:35.066Z"
   },
   {
    "duration": 439,
    "start_time": "2022-05-21T10:18:36.226Z"
   },
   {
    "duration": 517,
    "start_time": "2022-05-21T10:18:37.064Z"
   },
   {
    "duration": 3,
    "start_time": "2022-05-21T10:18:39.670Z"
   },
   {
    "duration": 3,
    "start_time": "2022-05-21T10:18:40.303Z"
   },
   {
    "duration": 99,
    "start_time": "2022-05-21T10:18:42.591Z"
   },
   {
    "duration": 4,
    "start_time": "2022-05-21T10:18:44.462Z"
   },
   {
    "duration": 3,
    "start_time": "2022-05-21T10:18:45.275Z"
   },
   {
    "duration": 146,
    "start_time": "2022-05-21T10:18:49.561Z"
   },
   {
    "duration": 14,
    "start_time": "2022-05-21T10:18:50.468Z"
   },
   {
    "duration": 133,
    "start_time": "2022-05-21T10:18:51.435Z"
   },
   {
    "duration": 18,
    "start_time": "2022-05-21T10:19:16.440Z"
   },
   {
    "duration": 11,
    "start_time": "2022-05-21T10:19:31.280Z"
   },
   {
    "duration": 3,
    "start_time": "2022-05-21T10:19:34.136Z"
   },
   {
    "duration": 62,
    "start_time": "2022-05-21T10:28:21.473Z"
   },
   {
    "duration": 46,
    "start_time": "2022-05-21T10:28:32.485Z"
   },
   {
    "duration": 3,
    "start_time": "2022-05-21T10:32:02.709Z"
   },
   {
    "duration": 18,
    "start_time": "2022-05-21T10:32:03.737Z"
   },
   {
    "duration": 5,
    "start_time": "2022-05-21T10:32:42.589Z"
   },
   {
    "duration": 18,
    "start_time": "2022-05-21T10:40:43.136Z"
   },
   {
    "duration": 10,
    "start_time": "2022-05-21T10:41:54.712Z"
   },
   {
    "duration": 8,
    "start_time": "2022-05-21T10:42:36.376Z"
   },
   {
    "duration": 3,
    "start_time": "2022-05-21T10:44:20.174Z"
   },
   {
    "duration": 212,
    "start_time": "2022-05-21T10:44:21.609Z"
   },
   {
    "duration": 15,
    "start_time": "2022-05-21T10:44:22.182Z"
   },
   {
    "duration": 3,
    "start_time": "2022-05-21T10:44:22.708Z"
   },
   {
    "duration": 46,
    "start_time": "2022-05-21T10:44:23.895Z"
   },
   {
    "duration": 3,
    "start_time": "2022-05-21T10:44:24.538Z"
   },
   {
    "duration": 4,
    "start_time": "2022-05-21T10:44:25.589Z"
   },
   {
    "duration": 21,
    "start_time": "2022-05-21T10:44:27.378Z"
   },
   {
    "duration": 7,
    "start_time": "2022-05-21T10:44:32.940Z"
   },
   {
    "duration": 10,
    "start_time": "2022-05-21T10:48:08.178Z"
   },
   {
    "duration": 9,
    "start_time": "2022-05-21T10:48:40.528Z"
   },
   {
    "duration": 8,
    "start_time": "2022-05-21T10:49:13.473Z"
   },
   {
    "duration": 10,
    "start_time": "2022-05-21T10:49:20.194Z"
   },
   {
    "duration": 103,
    "start_time": "2022-05-21T10:49:36.201Z"
   },
   {
    "duration": 5,
    "start_time": "2022-05-21T10:49:38.881Z"
   },
   {
    "duration": 30,
    "start_time": "2022-05-21T10:49:46.777Z"
   },
   {
    "duration": 5,
    "start_time": "2022-05-21T10:49:53.125Z"
   },
   {
    "duration": 108,
    "start_time": "2022-05-21T10:50:14.946Z"
   },
   {
    "duration": 4,
    "start_time": "2022-05-21T10:50:18.077Z"
   },
   {
    "duration": 3,
    "start_time": "2022-05-21T10:50:25.638Z"
   },
   {
    "duration": 169,
    "start_time": "2022-05-21T10:51:23.672Z"
   },
   {
    "duration": 172,
    "start_time": "2022-05-21T10:52:17.089Z"
   },
   {
    "duration": 11,
    "start_time": "2022-05-21T10:52:18.085Z"
   },
   {
    "duration": 4,
    "start_time": "2022-05-21T10:52:26.285Z"
   },
   {
    "duration": 57,
    "start_time": "2022-05-21T10:52:39.470Z"
   },
   {
    "duration": 3,
    "start_time": "2022-05-21T10:52:49.026Z"
   },
   {
    "duration": 5,
    "start_time": "2022-05-21T10:52:50.287Z"
   },
   {
    "duration": 27,
    "start_time": "2022-05-21T10:53:23.587Z"
   },
   {
    "duration": 10,
    "start_time": "2022-05-21T10:55:08.072Z"
   },
   {
    "duration": 3,
    "start_time": "2022-05-21T10:55:36.541Z"
   },
   {
    "duration": 10,
    "start_time": "2022-05-21T10:55:41.214Z"
   },
   {
    "duration": 466,
    "start_time": "2022-05-21T10:56:56.298Z"
   },
   {
    "duration": 36,
    "start_time": "2022-05-21T11:01:02.235Z"
   },
   {
    "duration": 8,
    "start_time": "2022-05-21T11:01:27.993Z"
   },
   {
    "duration": 9,
    "start_time": "2022-05-21T11:01:52.021Z"
   },
   {
    "duration": 8,
    "start_time": "2022-05-21T11:01:59.769Z"
   },
   {
    "duration": 4,
    "start_time": "2022-05-21T11:02:46.779Z"
   },
   {
    "duration": 8,
    "start_time": "2022-05-21T11:03:16.670Z"
   },
   {
    "duration": 20,
    "start_time": "2022-05-21T11:03:39.271Z"
   },
   {
    "duration": 5,
    "start_time": "2022-05-21T11:04:01.915Z"
   },
   {
    "duration": 16,
    "start_time": "2022-05-21T11:04:32.230Z"
   },
   {
    "duration": 20,
    "start_time": "2022-05-21T11:04:43.076Z"
   },
   {
    "duration": 14,
    "start_time": "2022-05-21T11:06:02.179Z"
   },
   {
    "duration": 8,
    "start_time": "2022-05-21T11:06:11.038Z"
   },
   {
    "duration": 4,
    "start_time": "2022-05-21T11:07:31.668Z"
   },
   {
    "duration": 39,
    "start_time": "2022-05-21T11:08:18.337Z"
   },
   {
    "duration": 27,
    "start_time": "2022-05-21T11:08:39.580Z"
   },
   {
    "duration": 35,
    "start_time": "2022-05-21T11:09:24.463Z"
   },
   {
    "duration": 35,
    "start_time": "2022-05-21T11:09:41.282Z"
   },
   {
    "duration": 3,
    "start_time": "2022-05-21T11:09:49.329Z"
   },
   {
    "duration": 675,
    "start_time": "2022-05-21T11:09:50.038Z"
   },
   {
    "duration": 4,
    "start_time": "2022-05-21T11:09:50.715Z"
   },
   {
    "duration": 141,
    "start_time": "2022-05-21T11:09:54.213Z"
   },
   {
    "duration": 154,
    "start_time": "2022-05-21T11:09:54.897Z"
   },
   {
    "duration": 51,
    "start_time": "2022-05-21T11:09:55.415Z"
   },
   {
    "duration": 10,
    "start_time": "2022-05-21T11:09:57.284Z"
   },
   {
    "duration": 4,
    "start_time": "2022-05-21T11:09:58.513Z"
   },
   {
    "duration": 3,
    "start_time": "2022-05-21T11:10:00.511Z"
   },
   {
    "duration": 17,
    "start_time": "2022-05-21T11:10:01.081Z"
   },
   {
    "duration": 19,
    "start_time": "2022-05-21T11:10:01.684Z"
   },
   {
    "duration": 7,
    "start_time": "2022-05-21T11:10:02.208Z"
   },
   {
    "duration": 383,
    "start_time": "2022-05-21T11:10:03.597Z"
   },
   {
    "duration": 721,
    "start_time": "2022-05-21T11:10:04.882Z"
   },
   {
    "duration": 617,
    "start_time": "2022-05-21T11:10:06.277Z"
   },
   {
    "duration": 617,
    "start_time": "2022-05-21T11:10:09.207Z"
   },
   {
    "duration": 9,
    "start_time": "2022-05-21T11:10:10.590Z"
   },
   {
    "duration": 9,
    "start_time": "2022-05-21T11:10:11.389Z"
   },
   {
    "duration": 623,
    "start_time": "2022-05-21T11:10:14.527Z"
   },
   {
    "duration": 450,
    "start_time": "2022-05-21T11:10:15.787Z"
   },
   {
    "duration": 419,
    "start_time": "2022-05-21T11:10:16.588Z"
   },
   {
    "duration": 3,
    "start_time": "2022-05-21T11:10:20.171Z"
   },
   {
    "duration": 3,
    "start_time": "2022-05-21T11:10:20.730Z"
   },
   {
    "duration": 103,
    "start_time": "2022-05-21T11:10:24.138Z"
   },
   {
    "duration": 4,
    "start_time": "2022-05-21T11:10:24.920Z"
   },
   {
    "duration": 2,
    "start_time": "2022-05-21T11:10:25.587Z"
   },
   {
    "duration": 128,
    "start_time": "2022-05-21T11:10:27.479Z"
   },
   {
    "duration": 10,
    "start_time": "2022-05-21T11:10:28.352Z"
   },
   {
    "duration": 3,
    "start_time": "2022-05-21T11:10:29.092Z"
   },
   {
    "duration": 46,
    "start_time": "2022-05-21T11:10:30.580Z"
   },
   {
    "duration": 2,
    "start_time": "2022-05-21T11:10:31.279Z"
   },
   {
    "duration": 5,
    "start_time": "2022-05-21T11:10:32.231Z"
   },
   {
    "duration": 5,
    "start_time": "2022-05-21T11:10:54.564Z"
   },
   {
    "duration": 2,
    "start_time": "2022-05-21T11:10:57.779Z"
   },
   {
    "duration": 33,
    "start_time": "2022-05-21T11:10:58.672Z"
   },
   {
    "duration": 15,
    "start_time": "2022-05-21T11:16:35.240Z"
   },
   {
    "duration": 26,
    "start_time": "2022-05-21T11:17:05.906Z"
   },
   {
    "duration": 8,
    "start_time": "2022-05-21T11:17:14.382Z"
   },
   {
    "duration": 6,
    "start_time": "2022-05-21T11:18:26.585Z"
   },
   {
    "duration": 6,
    "start_time": "2022-05-21T11:18:43.918Z"
   },
   {
    "duration": 6,
    "start_time": "2022-05-21T11:19:04.770Z"
   },
   {
    "duration": 3,
    "start_time": "2022-05-21T11:19:08.674Z"
   },
   {
    "duration": 31,
    "start_time": "2022-05-21T11:19:09.576Z"
   },
   {
    "duration": 16,
    "start_time": "2022-05-21T11:19:14.272Z"
   },
   {
    "duration": 8,
    "start_time": "2022-05-21T11:20:04.530Z"
   },
   {
    "duration": 8,
    "start_time": "2022-05-21T11:20:23.834Z"
   },
   {
    "duration": 6,
    "start_time": "2022-05-21T11:20:39.114Z"
   },
   {
    "duration": 2,
    "start_time": "2022-05-21T11:20:42.077Z"
   },
   {
    "duration": 33,
    "start_time": "2022-05-21T11:20:42.531Z"
   },
   {
    "duration": 16,
    "start_time": "2022-05-21T11:20:43.478Z"
   },
   {
    "duration": 6,
    "start_time": "2022-05-21T11:21:19.500Z"
   },
   {
    "duration": 6,
    "start_time": "2022-05-21T11:21:47.694Z"
   },
   {
    "duration": 7,
    "start_time": "2022-05-21T11:22:01.297Z"
   },
   {
    "duration": 6,
    "start_time": "2022-05-21T11:23:15.906Z"
   },
   {
    "duration": 3,
    "start_time": "2022-05-21T11:24:05.546Z"
   },
   {
    "duration": 18,
    "start_time": "2022-05-21T11:24:06.330Z"
   },
   {
    "duration": 4,
    "start_time": "2022-05-21T11:24:22.468Z"
   },
   {
    "duration": 15,
    "start_time": "2022-05-21T11:24:23.107Z"
   },
   {
    "duration": 13,
    "start_time": "2022-05-21T11:24:25.702Z"
   },
   {
    "duration": 7,
    "start_time": "2022-05-21T11:24:26.306Z"
   },
   {
    "duration": 6,
    "start_time": "2022-05-21T11:24:26.939Z"
   },
   {
    "duration": 7,
    "start_time": "2022-05-21T11:26:42.692Z"
   },
   {
    "duration": 6,
    "start_time": "2022-05-21T11:26:50.632Z"
   },
   {
    "duration": 17,
    "start_time": "2022-05-21T11:29:49.880Z"
   },
   {
    "duration": 17,
    "start_time": "2022-05-21T11:30:06.907Z"
   },
   {
    "duration": 8,
    "start_time": "2022-05-21T11:30:17.578Z"
   },
   {
    "duration": 4,
    "start_time": "2022-05-21T11:30:41.689Z"
   },
   {
    "duration": 31,
    "start_time": "2022-05-21T11:30:42.283Z"
   },
   {
    "duration": 15,
    "start_time": "2022-05-21T11:30:48.072Z"
   },
   {
    "duration": 30,
    "start_time": "2022-05-21T11:31:03.198Z"
   },
   {
    "duration": 6,
    "start_time": "2022-05-21T11:31:19.065Z"
   },
   {
    "duration": 3,
    "start_time": "2022-05-21T11:31:27.425Z"
   },
   {
    "duration": 695,
    "start_time": "2022-05-21T11:31:27.886Z"
   },
   {
    "duration": 3,
    "start_time": "2022-05-21T11:31:28.583Z"
   },
   {
    "duration": 124,
    "start_time": "2022-05-21T11:31:29.137Z"
   },
   {
    "duration": 148,
    "start_time": "2022-05-21T11:31:29.574Z"
   },
   {
    "duration": 50,
    "start_time": "2022-05-21T11:31:30.003Z"
   },
   {
    "duration": 9,
    "start_time": "2022-05-21T11:31:31.241Z"
   },
   {
    "duration": 5,
    "start_time": "2022-05-21T11:31:32.088Z"
   },
   {
    "duration": 21,
    "start_time": "2022-05-21T11:31:33.786Z"
   },
   {
    "duration": 21,
    "start_time": "2022-05-21T11:31:34.271Z"
   },
   {
    "duration": 8,
    "start_time": "2022-05-21T11:31:34.765Z"
   },
   {
    "duration": 381,
    "start_time": "2022-05-21T11:31:36.107Z"
   },
   {
    "duration": 757,
    "start_time": "2022-05-21T11:31:36.591Z"
   },
   {
    "duration": 636,
    "start_time": "2022-05-21T11:31:37.350Z"
   },
   {
    "duration": 632,
    "start_time": "2022-05-21T11:31:40.022Z"
   },
   {
    "duration": 8,
    "start_time": "2022-05-21T11:31:40.775Z"
   },
   {
    "duration": 12,
    "start_time": "2022-05-21T11:31:41.539Z"
   },
   {
    "duration": 437,
    "start_time": "2022-05-21T11:31:43.675Z"
   },
   {
    "duration": 434,
    "start_time": "2022-05-21T11:31:44.227Z"
   },
   {
    "duration": 541,
    "start_time": "2022-05-21T11:31:44.734Z"
   },
   {
    "duration": 4,
    "start_time": "2022-05-21T11:31:47.264Z"
   },
   {
    "duration": 3,
    "start_time": "2022-05-21T11:31:48.092Z"
   },
   {
    "duration": 105,
    "start_time": "2022-05-21T11:31:50.710Z"
   },
   {
    "duration": 4,
    "start_time": "2022-05-21T11:31:51.268Z"
   },
   {
    "duration": 2,
    "start_time": "2022-05-21T11:31:51.865Z"
   },
   {
    "duration": 126,
    "start_time": "2022-05-21T11:31:53.270Z"
   },
   {
    "duration": 10,
    "start_time": "2022-05-21T11:31:53.782Z"
   },
   {
    "duration": 2,
    "start_time": "2022-05-21T11:31:54.438Z"
   },
   {
    "duration": 46,
    "start_time": "2022-05-21T11:31:55.422Z"
   },
   {
    "duration": 3,
    "start_time": "2022-05-21T11:31:55.937Z"
   },
   {
    "duration": 5,
    "start_time": "2022-05-21T11:31:56.409Z"
   },
   {
    "duration": 3,
    "start_time": "2022-05-21T11:31:57.676Z"
   },
   {
    "duration": 31,
    "start_time": "2022-05-21T11:31:58.127Z"
   },
   {
    "duration": 97,
    "start_time": "2022-05-21T11:31:59.722Z"
   },
   {
    "duration": 115,
    "start_time": "2022-05-21T11:32:13.197Z"
   },
   {
    "duration": 4,
    "start_time": "2022-05-21T11:34:26.972Z"
   },
   {
    "duration": 4,
    "start_time": "2022-05-21T11:34:39.567Z"
   },
   {
    "duration": 4,
    "start_time": "2022-05-21T11:34:58.819Z"
   },
   {
    "duration": 6,
    "start_time": "2022-05-21T11:35:02.270Z"
   },
   {
    "duration": 87,
    "start_time": "2022-05-21T11:38:21.870Z"
   },
   {
    "duration": 4,
    "start_time": "2022-05-21T11:38:23.097Z"
   },
   {
    "duration": 5,
    "start_time": "2022-05-21T11:38:30.806Z"
   },
   {
    "duration": 4,
    "start_time": "2022-05-21T11:38:31.369Z"
   },
   {
    "duration": 128,
    "start_time": "2022-05-21T11:38:32.235Z"
   },
   {
    "duration": 9,
    "start_time": "2022-05-21T11:38:32.535Z"
   },
   {
    "duration": 3,
    "start_time": "2022-05-21T11:38:33.186Z"
   },
   {
    "duration": 47,
    "start_time": "2022-05-21T11:38:34.167Z"
   },
   {
    "duration": 3,
    "start_time": "2022-05-21T11:38:34.609Z"
   },
   {
    "duration": 5,
    "start_time": "2022-05-21T11:38:35.082Z"
   },
   {
    "duration": 3,
    "start_time": "2022-05-21T11:38:36.357Z"
   },
   {
    "duration": 30,
    "start_time": "2022-05-21T11:38:36.832Z"
   },
   {
    "duration": 4,
    "start_time": "2022-05-21T11:38:37.663Z"
   },
   {
    "duration": 3,
    "start_time": "2022-05-21T11:38:38.768Z"
   },
   {
    "duration": 133,
    "start_time": "2022-05-21T11:38:44.083Z"
   },
   {
    "duration": 36,
    "start_time": "2022-05-21T11:40:30.884Z"
   },
   {
    "duration": 4,
    "start_time": "2022-05-21T11:40:54.079Z"
   },
   {
    "duration": 152,
    "start_time": "2022-05-21T11:41:00.768Z"
   },
   {
    "duration": 42,
    "start_time": "2022-05-21T11:44:11.975Z"
   },
   {
    "duration": 4,
    "start_time": "2022-05-21T11:44:38.680Z"
   },
   {
    "duration": 3,
    "start_time": "2022-05-21T11:44:40.491Z"
   },
   {
    "duration": 4,
    "start_time": "2022-05-21T11:45:05.326Z"
   },
   {
    "duration": 49,
    "start_time": "2022-05-21T11:57:36.565Z"
   },
   {
    "duration": 4,
    "start_time": "2022-05-21T11:57:48.688Z"
   },
   {
    "duration": 993,
    "start_time": "2022-05-21T11:57:52.825Z"
   },
   {
    "duration": 11,
    "start_time": "2022-05-21T12:01:35.725Z"
   },
   {
    "duration": 4,
    "start_time": "2022-05-21T12:02:14.601Z"
   },
   {
    "duration": 3,
    "start_time": "2022-05-21T12:02:25.472Z"
   },
   {
    "duration": 3,
    "start_time": "2022-05-21T12:02:29.079Z"
   },
   {
    "duration": 25,
    "start_time": "2022-05-21T12:02:31.697Z"
   },
   {
    "duration": 697,
    "start_time": "2022-05-21T12:03:03.515Z"
   },
   {
    "duration": 3,
    "start_time": "2022-05-21T12:09:33.576Z"
   },
   {
    "duration": 21,
    "start_time": "2022-05-21T12:13:19.295Z"
   },
   {
    "duration": 13,
    "start_time": "2022-05-21T12:14:38.894Z"
   },
   {
    "duration": 3,
    "start_time": "2022-05-21T12:15:24.482Z"
   },
   {
    "duration": 136,
    "start_time": "2022-05-21T12:15:28.677Z"
   },
   {
    "duration": 4,
    "start_time": "2022-05-21T12:19:13.588Z"
   },
   {
    "duration": 5,
    "start_time": "2022-05-21T12:19:15.942Z"
   },
   {
    "duration": 4,
    "start_time": "2022-05-21T12:21:30.333Z"
   },
   {
    "duration": 4,
    "start_time": "2022-05-21T12:45:05.785Z"
   },
   {
    "duration": 46,
    "start_time": "2022-05-21T12:45:06.455Z"
   },
   {
    "duration": 4,
    "start_time": "2022-05-21T12:45:07.637Z"
   },
   {
    "duration": 1080,
    "start_time": "2022-05-21T12:45:09.234Z"
   },
   {
    "duration": 963,
    "start_time": "2022-05-21T12:45:24.558Z"
   },
   {
    "duration": 4,
    "start_time": "2022-05-21T12:46:08.947Z"
   },
   {
    "duration": 674,
    "start_time": "2022-05-21T12:46:10.147Z"
   },
   {
    "duration": 723,
    "start_time": "2022-05-21T12:46:53.601Z"
   },
   {
    "duration": 905,
    "start_time": "2022-05-21T12:47:45.814Z"
   },
   {
    "duration": 1169,
    "start_time": "2022-05-21T12:49:27.046Z"
   },
   {
    "duration": 1059,
    "start_time": "2022-05-21T12:49:45.354Z"
   },
   {
    "duration": 1083,
    "start_time": "2022-05-21T12:51:41.029Z"
   },
   {
    "duration": 1283,
    "start_time": "2022-05-21T12:51:43.132Z"
   },
   {
    "duration": 28,
    "start_time": "2022-05-21T12:52:30.121Z"
   },
   {
    "duration": 14,
    "start_time": "2022-05-21T12:54:53.898Z"
   },
   {
    "duration": 49204,
    "start_time": "2022-05-21T12:57:09.022Z"
   },
   {
    "duration": 362,
    "start_time": "2022-05-21T13:01:51.739Z"
   },
   {
    "duration": 352,
    "start_time": "2022-05-21T13:02:15.157Z"
   },
   {
    "duration": 5,
    "start_time": "2022-05-21T13:02:44.325Z"
   },
   {
    "duration": 305230,
    "start_time": "2022-05-21T13:05:34.083Z"
   },
   {
    "duration": 19296,
    "start_time": "2022-05-21T13:11:00.430Z"
   },
   {
    "duration": 45569,
    "start_time": "2022-05-21T13:12:42.505Z"
   },
   {
    "duration": 69477,
    "start_time": "2022-05-21T13:13:40.933Z"
   },
   {
    "duration": 69399,
    "start_time": "2022-05-21T13:17:47.540Z"
   },
   {
    "duration": 11,
    "start_time": "2022-05-21T13:43:12.480Z"
   },
   {
    "duration": 10,
    "start_time": "2022-05-21T13:43:29.165Z"
   },
   {
    "duration": 2,
    "start_time": "2022-05-21T13:43:58.920Z"
   },
   {
    "duration": 22043,
    "start_time": "2022-05-21T13:44:01.894Z"
   },
   {
    "duration": 372383,
    "start_time": "2022-05-21T13:44:34.792Z"
   },
   {
    "duration": 533202,
    "start_time": "2022-05-21T14:27:13.226Z"
   },
   {
    "duration": 4,
    "start_time": "2022-05-21T14:36:13.299Z"
   },
   {
    "duration": 3,
    "start_time": "2022-05-21T14:36:16.369Z"
   },
   {
    "duration": 717,
    "start_time": "2022-05-21T14:36:17.065Z"
   },
   {
    "duration": 4,
    "start_time": "2022-05-21T14:36:17.784Z"
   },
   {
    "duration": 124,
    "start_time": "2022-05-21T14:36:18.509Z"
   },
   {
    "duration": 168,
    "start_time": "2022-05-21T14:36:19.074Z"
   },
   {
    "duration": 51,
    "start_time": "2022-05-21T14:36:19.695Z"
   },
   {
    "duration": 10,
    "start_time": "2022-05-21T14:36:21.360Z"
   },
   {
    "duration": 5,
    "start_time": "2022-05-21T14:36:22.533Z"
   },
   {
    "duration": 19,
    "start_time": "2022-05-21T14:36:24.430Z"
   },
   {
    "duration": 20,
    "start_time": "2022-05-21T14:36:24.933Z"
   },
   {
    "duration": 10,
    "start_time": "2022-05-21T14:36:25.387Z"
   },
   {
    "duration": 392,
    "start_time": "2022-05-21T14:36:26.764Z"
   },
   {
    "duration": 685,
    "start_time": "2022-05-21T14:36:27.480Z"
   },
   {
    "duration": 668,
    "start_time": "2022-05-21T14:36:28.167Z"
   },
   {
    "duration": 661,
    "start_time": "2022-05-21T14:36:30.586Z"
   },
   {
    "duration": 9,
    "start_time": "2022-05-21T14:36:32.231Z"
   },
   {
    "duration": 8,
    "start_time": "2022-05-21T14:36:32.994Z"
   },
   {
    "duration": 507,
    "start_time": "2022-05-21T14:36:35.310Z"
   },
   {
    "duration": 469,
    "start_time": "2022-05-21T14:36:36.529Z"
   },
   {
    "duration": 455,
    "start_time": "2022-05-21T14:36:37.330Z"
   },
   {
    "duration": 5,
    "start_time": "2022-05-21T14:36:55.102Z"
   },
   {
    "duration": 3,
    "start_time": "2022-05-21T14:36:55.757Z"
   },
   {
    "duration": 91,
    "start_time": "2022-05-21T14:36:58.992Z"
   },
   {
    "duration": 6,
    "start_time": "2022-05-21T14:37:00.654Z"
   },
   {
    "duration": 3,
    "start_time": "2022-05-21T14:37:01.279Z"
   },
   {
    "duration": 166,
    "start_time": "2022-05-21T14:37:02.873Z"
   },
   {
    "duration": 10,
    "start_time": "2022-05-21T14:37:03.519Z"
   },
   {
    "duration": 3,
    "start_time": "2022-05-21T14:37:04.102Z"
   },
   {
    "duration": 46,
    "start_time": "2022-05-21T14:37:06.383Z"
   },
   {
    "duration": 3,
    "start_time": "2022-05-21T14:37:06.912Z"
   },
   {
    "duration": 5,
    "start_time": "2022-05-21T14:37:07.807Z"
   },
   {
    "duration": 3,
    "start_time": "2022-05-21T14:37:14.129Z"
   },
   {
    "duration": 34,
    "start_time": "2022-05-21T14:37:14.758Z"
   },
   {
    "duration": 4,
    "start_time": "2022-05-21T14:37:15.554Z"
   },
   {
    "duration": 4,
    "start_time": "2022-05-21T14:40:15.417Z"
   },
   {
    "duration": 849,
    "start_time": "2022-05-21T14:40:37.372Z"
   },
   {
    "duration": 982,
    "start_time": "2022-05-21T14:40:58.529Z"
   },
   {
    "duration": 4,
    "start_time": "2022-05-21T14:41:27.375Z"
   },
   {
    "duration": 1004,
    "start_time": "2022-05-21T14:41:28.309Z"
   },
   {
    "duration": 1245,
    "start_time": "2022-05-21T14:41:30.670Z"
   },
   {
    "duration": 4,
    "start_time": "2022-05-21T14:42:15.028Z"
   },
   {
    "duration": 930489,
    "start_time": "2022-05-21T14:44:27.386Z"
   },
   {
    "duration": 31,
    "start_time": "2022-05-21T15:16:06.068Z"
   },
   {
    "duration": 4,
    "start_time": "2022-05-21T15:18:06.463Z"
   },
   {
    "duration": 14,
    "start_time": "2022-05-21T15:19:04.025Z"
   },
   {
    "duration": 4,
    "start_time": "2022-05-21T15:19:34.121Z"
   },
   {
    "duration": 3,
    "start_time": "2022-05-21T15:19:47.906Z"
   },
   {
    "duration": 13,
    "start_time": "2022-05-21T15:20:04.572Z"
   },
   {
    "duration": 12,
    "start_time": "2022-05-21T15:20:50.002Z"
   },
   {
    "duration": 5,
    "start_time": "2022-05-21T15:20:55.560Z"
   },
   {
    "duration": 4,
    "start_time": "2022-05-21T15:22:58.396Z"
   },
   {
    "duration": 4,
    "start_time": "2022-05-21T15:22:59.280Z"
   },
   {
    "duration": 131,
    "start_time": "2022-05-21T15:23:00.217Z"
   },
   {
    "duration": 3,
    "start_time": "2022-05-21T15:26:06.473Z"
   },
   {
    "duration": 43,
    "start_time": "2022-05-21T15:26:07.184Z"
   },
   {
    "duration": 4,
    "start_time": "2022-05-21T15:26:07.740Z"
   },
   {
    "duration": 3,
    "start_time": "2022-05-21T15:26:08.393Z"
   },
   {
    "duration": 1100,
    "start_time": "2022-05-21T15:26:09.121Z"
   },
   {
    "duration": 1540,
    "start_time": "2022-05-21T15:26:11.176Z"
   },
   {
    "duration": 13,
    "start_time": "2022-05-21T15:26:14.302Z"
   },
   {
    "duration": 3,
    "start_time": "2022-05-21T15:29:43.639Z"
   },
   {
    "duration": 3,
    "start_time": "2022-05-21T15:30:21.476Z"
   },
   {
    "duration": 2,
    "start_time": "2022-05-21T15:30:28.923Z"
   },
   {
    "duration": 12,
    "start_time": "2022-05-21T15:30:35.942Z"
   },
   {
    "duration": 12,
    "start_time": "2022-05-21T15:30:54.424Z"
   },
   {
    "duration": 3,
    "start_time": "2022-05-21T15:31:11.378Z"
   },
   {
    "duration": 9,
    "start_time": "2022-05-21T15:31:26.465Z"
   },
   {
    "duration": 2864,
    "start_time": "2022-05-21T15:32:38.168Z"
   },
   {
    "duration": 2,
    "start_time": "2022-05-21T15:34:45.841Z"
   },
   {
    "duration": 5,
    "start_time": "2022-05-21T15:34:51.791Z"
   },
   {
    "duration": 15,
    "start_time": "2022-05-21T15:35:36.769Z"
   },
   {
    "duration": 1140,
    "start_time": "2022-05-21T15:36:07.075Z"
   },
   {
    "duration": 1259,
    "start_time": "2022-05-21T15:37:41.663Z"
   },
   {
    "duration": 1033,
    "start_time": "2022-05-21T15:40:35.879Z"
   },
   {
    "duration": 1175,
    "start_time": "2022-05-21T15:40:37.838Z"
   },
   {
    "duration": 2,
    "start_time": "2022-05-21T15:40:40.392Z"
   },
   {
    "duration": 3,
    "start_time": "2022-05-21T15:40:54.226Z"
   },
   {
    "duration": 3,
    "start_time": "2022-05-21T15:41:09.603Z"
   },
   {
    "duration": 3,
    "start_time": "2022-05-21T15:41:45.204Z"
   },
   {
    "duration": 4,
    "start_time": "2022-05-21T15:41:53.638Z"
   },
   {
    "duration": 818504,
    "start_time": "2022-05-21T15:45:01.525Z"
   },
   {
    "duration": 4,
    "start_time": "2022-05-21T16:17:33.406Z"
   },
   {
    "duration": 24,
    "start_time": "2022-05-21T16:19:39.126Z"
   },
   {
    "duration": 25,
    "start_time": "2022-05-21T16:20:35.461Z"
   },
   {
    "duration": 4,
    "start_time": "2022-05-21T16:21:02.725Z"
   },
   {
    "duration": 4,
    "start_time": "2022-05-21T16:24:40.337Z"
   },
   {
    "duration": 4,
    "start_time": "2022-05-21T16:25:15.280Z"
   },
   {
    "duration": 12,
    "start_time": "2022-05-21T16:31:20.837Z"
   },
   {
    "duration": 18,
    "start_time": "2022-05-21T16:36:36.677Z"
   },
   {
    "duration": 18,
    "start_time": "2022-05-21T16:37:19.882Z"
   },
   {
    "duration": 16,
    "start_time": "2022-05-21T16:37:48.865Z"
   },
   {
    "duration": 18,
    "start_time": "2022-05-21T16:44:03.289Z"
   },
   {
    "duration": 11,
    "start_time": "2022-05-21T16:48:43.516Z"
   },
   {
    "duration": 15,
    "start_time": "2022-05-21T16:53:55.976Z"
   },
   {
    "duration": 11,
    "start_time": "2022-05-21T16:57:49.379Z"
   },
   {
    "duration": 9,
    "start_time": "2022-05-21T16:58:07.060Z"
   },
   {
    "duration": 12,
    "start_time": "2022-05-21T16:58:37.490Z"
   },
   {
    "duration": 407330,
    "start_time": "2022-05-21T17:00:04.564Z"
   },
   {
    "duration": 16013,
    "start_time": "2022-05-21T17:07:02.364Z"
   },
   {
    "duration": 360538,
    "start_time": "2022-05-21T17:07:26.305Z"
   },
   {
    "duration": 266967,
    "start_time": "2022-05-21T17:13:37.623Z"
   },
   {
    "duration": 123937,
    "start_time": "2022-05-21T17:18:04.592Z"
   },
   {
    "duration": 15,
    "start_time": "2022-05-21T17:20:22.264Z"
   },
   {
    "duration": 4,
    "start_time": "2022-05-21T17:20:52.775Z"
   },
   {
    "duration": 4,
    "start_time": "2022-05-21T17:21:00.763Z"
   },
   {
    "duration": 4,
    "start_time": "2022-05-21T17:23:45.390Z"
   },
   {
    "duration": 4,
    "start_time": "2022-05-21T17:53:00.648Z"
   },
   {
    "duration": 2726,
    "start_time": "2022-05-21T17:53:01.473Z"
   },
   {
    "duration": 4,
    "start_time": "2022-05-21T17:53:04.201Z"
   },
   {
    "duration": 148,
    "start_time": "2022-05-21T17:53:04.208Z"
   },
   {
    "duration": 173,
    "start_time": "2022-05-21T17:53:04.359Z"
   },
   {
    "duration": 50,
    "start_time": "2022-05-21T17:53:04.533Z"
   },
   {
    "duration": 12,
    "start_time": "2022-05-21T17:53:06.539Z"
   },
   {
    "duration": 5,
    "start_time": "2022-05-21T17:53:08.627Z"
   },
   {
    "duration": 17,
    "start_time": "2022-05-21T17:53:11.334Z"
   },
   {
    "duration": 17,
    "start_time": "2022-05-21T17:53:11.879Z"
   },
   {
    "duration": 7,
    "start_time": "2022-05-21T17:53:12.403Z"
   },
   {
    "duration": 389,
    "start_time": "2022-05-21T17:53:14.899Z"
   },
   {
    "duration": 627,
    "start_time": "2022-05-21T17:53:15.392Z"
   },
   {
    "duration": 712,
    "start_time": "2022-05-21T17:53:16.021Z"
   },
   {
    "duration": 588,
    "start_time": "2022-05-21T17:53:17.242Z"
   },
   {
    "duration": 9,
    "start_time": "2022-05-21T17:53:18.195Z"
   },
   {
    "duration": 8,
    "start_time": "2022-05-21T17:53:19.575Z"
   },
   {
    "duration": 635,
    "start_time": "2022-05-21T17:53:21.487Z"
   },
   {
    "duration": 464,
    "start_time": "2022-05-21T17:53:22.124Z"
   },
   {
    "duration": 452,
    "start_time": "2022-05-21T17:53:22.591Z"
   },
   {
    "duration": 4,
    "start_time": "2022-05-21T17:53:24.533Z"
   },
   {
    "duration": 4,
    "start_time": "2022-05-21T17:53:25.039Z"
   },
   {
    "duration": 94,
    "start_time": "2022-05-21T17:53:29.178Z"
   },
   {
    "duration": 4,
    "start_time": "2022-05-21T17:53:29.875Z"
   },
   {
    "duration": 4,
    "start_time": "2022-05-21T17:53:30.396Z"
   },
   {
    "duration": 156,
    "start_time": "2022-05-21T17:53:31.887Z"
   },
   {
    "duration": 12,
    "start_time": "2022-05-21T17:53:32.326Z"
   },
   {
    "duration": 4,
    "start_time": "2022-05-21T17:53:32.874Z"
   },
   {
    "duration": 54,
    "start_time": "2022-05-21T17:53:34.514Z"
   },
   {
    "duration": 4,
    "start_time": "2022-05-21T17:53:35.673Z"
   },
   {
    "duration": 14,
    "start_time": "2022-05-21T17:53:38.201Z"
   },
   {
    "duration": 20,
    "start_time": "2022-05-21T17:54:59.781Z"
   },
   {
    "duration": 12,
    "start_time": "2022-05-21T17:56:01.776Z"
   },
   {
    "duration": 3,
    "start_time": "2022-05-21T17:56:04.700Z"
   },
   {
    "duration": 10,
    "start_time": "2022-05-21T17:56:05.433Z"
   },
   {
    "duration": 12,
    "start_time": "2022-05-21T17:59:17.449Z"
   },
   {
    "duration": 10,
    "start_time": "2022-05-21T17:59:41.293Z"
   },
   {
    "duration": 10,
    "start_time": "2022-05-21T17:59:47.435Z"
   },
   {
    "duration": 11,
    "start_time": "2022-05-21T18:01:05.395Z"
   },
   {
    "duration": 10,
    "start_time": "2022-05-21T18:02:13.286Z"
   },
   {
    "duration": 386,
    "start_time": "2022-05-21T18:04:07.689Z"
   },
   {
    "duration": 22,
    "start_time": "2022-05-21T18:04:13.589Z"
   },
   {
    "duration": 4,
    "start_time": "2022-05-21T18:06:41.743Z"
   },
   {
    "duration": 4,
    "start_time": "2022-05-21T18:06:43.644Z"
   },
   {
    "duration": 9,
    "start_time": "2022-05-21T18:09:50.134Z"
   },
   {
    "duration": 10,
    "start_time": "2022-05-21T18:09:58.298Z"
   },
   {
    "duration": 9,
    "start_time": "2022-05-21T18:10:11.952Z"
   },
   {
    "duration": 9,
    "start_time": "2022-05-21T18:10:27.515Z"
   },
   {
    "duration": 263009,
    "start_time": "2022-05-21T18:14:46.282Z"
   },
   {
    "duration": 14,
    "start_time": "2022-05-21T18:19:09.292Z"
   },
   {
    "duration": 4,
    "start_time": "2022-05-21T18:19:47.972Z"
   },
   {
    "duration": 662,
    "start_time": "2022-05-21T18:19:48.634Z"
   },
   {
    "duration": 3,
    "start_time": "2022-05-21T18:19:49.298Z"
   },
   {
    "duration": 161,
    "start_time": "2022-05-21T18:19:49.302Z"
   },
   {
    "duration": 145,
    "start_time": "2022-05-21T18:19:49.533Z"
   },
   {
    "duration": 48,
    "start_time": "2022-05-21T18:19:49.794Z"
   },
   {
    "duration": 9,
    "start_time": "2022-05-21T18:19:50.547Z"
   },
   {
    "duration": 5,
    "start_time": "2022-05-21T18:19:50.997Z"
   },
   {
    "duration": 20,
    "start_time": "2022-05-21T18:19:51.877Z"
   },
   {
    "duration": 18,
    "start_time": "2022-05-21T18:19:52.102Z"
   },
   {
    "duration": 9,
    "start_time": "2022-05-21T18:19:52.424Z"
   },
   {
    "duration": 392,
    "start_time": "2022-05-21T18:19:53.173Z"
   },
   {
    "duration": 732,
    "start_time": "2022-05-21T18:19:53.566Z"
   },
   {
    "duration": 639,
    "start_time": "2022-05-21T18:19:54.301Z"
   },
   {
    "duration": 626,
    "start_time": "2022-05-21T18:19:55.071Z"
   },
   {
    "duration": 12,
    "start_time": "2022-05-21T18:19:57.289Z"
   },
   {
    "duration": 10,
    "start_time": "2022-05-21T18:19:58.127Z"
   },
   {
    "duration": 511,
    "start_time": "2022-05-21T18:20:00.178Z"
   },
   {
    "duration": 453,
    "start_time": "2022-05-21T18:20:00.789Z"
   },
   {
    "duration": 572,
    "start_time": "2022-05-21T18:20:01.284Z"
   },
   {
    "duration": 4,
    "start_time": "2022-05-21T18:20:04.896Z"
   },
   {
    "duration": 3,
    "start_time": "2022-05-21T18:20:05.317Z"
   },
   {
    "duration": 18,
    "start_time": "2022-05-21T18:20:08.674Z"
   },
   {
    "duration": 137,
    "start_time": "2022-05-21T18:20:30.269Z"
   },
   {
    "duration": 5,
    "start_time": "2022-05-21T18:21:09.665Z"
   },
   {
    "duration": 5,
    "start_time": "2022-05-21T18:21:16.069Z"
   },
   {
    "duration": 4,
    "start_time": "2022-05-21T18:22:29.086Z"
   },
   {
    "duration": 620,
    "start_time": "2022-05-21T18:22:29.802Z"
   },
   {
    "duration": 3,
    "start_time": "2022-05-21T18:22:31.038Z"
   },
   {
    "duration": 163,
    "start_time": "2022-05-21T18:22:31.938Z"
   },
   {
    "duration": 164,
    "start_time": "2022-05-21T18:22:32.681Z"
   },
   {
    "duration": 50,
    "start_time": "2022-05-21T18:22:33.291Z"
   },
   {
    "duration": 11,
    "start_time": "2022-05-21T18:22:35.528Z"
   },
   {
    "duration": 6,
    "start_time": "2022-05-21T18:22:36.976Z"
   },
   {
    "duration": 21,
    "start_time": "2022-05-21T18:22:44.381Z"
   },
   {
    "duration": 20,
    "start_time": "2022-05-21T18:22:46.495Z"
   },
   {
    "duration": 10,
    "start_time": "2022-05-21T18:22:47.329Z"
   },
   {
    "duration": 376,
    "start_time": "2022-05-21T18:22:48.472Z"
   },
   {
    "duration": 610,
    "start_time": "2022-05-21T18:22:48.850Z"
   },
   {
    "duration": 612,
    "start_time": "2022-05-21T18:22:49.462Z"
   },
   {
    "duration": 641,
    "start_time": "2022-05-21T18:22:50.076Z"
   },
   {
    "duration": 8,
    "start_time": "2022-05-21T18:22:50.719Z"
   },
   {
    "duration": 7,
    "start_time": "2022-05-21T18:22:50.729Z"
   },
   {
    "duration": 568,
    "start_time": "2022-05-21T18:22:50.748Z"
   },
   {
    "duration": 543,
    "start_time": "2022-05-21T18:22:51.318Z"
   },
   {
    "duration": 435,
    "start_time": "2022-05-21T18:22:51.862Z"
   },
   {
    "duration": 3,
    "start_time": "2022-05-21T18:22:53.778Z"
   },
   {
    "duration": 2,
    "start_time": "2022-05-21T18:22:54.085Z"
   },
   {
    "duration": 5,
    "start_time": "2022-05-21T18:22:57.844Z"
   },
   {
    "duration": 4,
    "start_time": "2022-05-21T18:23:07.625Z"
   },
   {
    "duration": 17,
    "start_time": "2022-05-21T18:23:13.637Z"
   },
   {
    "duration": 13,
    "start_time": "2022-05-21T18:23:26.781Z"
   },
   {
    "duration": 31,
    "start_time": "2022-05-21T18:23:41.488Z"
   },
   {
    "duration": 10,
    "start_time": "2022-05-21T18:25:10.477Z"
   },
   {
    "duration": 21,
    "start_time": "2022-05-21T18:25:19.168Z"
   },
   {
    "duration": 15,
    "start_time": "2022-05-21T18:26:46.244Z"
   },
   {
    "duration": 23,
    "start_time": "2022-05-21T18:26:55.615Z"
   },
   {
    "duration": 25,
    "start_time": "2022-05-21T18:27:02.787Z"
   },
   {
    "duration": 21,
    "start_time": "2022-05-21T18:27:08.507Z"
   },
   {
    "duration": 4,
    "start_time": "2022-05-21T18:27:36.328Z"
   },
   {
    "duration": 16,
    "start_time": "2022-05-21T18:27:40.787Z"
   },
   {
    "duration": 7,
    "start_time": "2022-05-21T18:27:49.179Z"
   },
   {
    "duration": 7,
    "start_time": "2022-05-21T18:29:19.719Z"
   },
   {
    "duration": 5,
    "start_time": "2022-05-21T18:29:44.896Z"
   },
   {
    "duration": 685,
    "start_time": "2022-05-21T18:29:48.395Z"
   },
   {
    "duration": 4,
    "start_time": "2022-05-21T18:29:49.916Z"
   },
   {
    "duration": 129,
    "start_time": "2022-05-21T18:29:51.193Z"
   },
   {
    "duration": 156,
    "start_time": "2022-05-21T18:29:51.993Z"
   },
   {
    "duration": 62,
    "start_time": "2022-05-21T18:29:52.591Z"
   },
   {
    "duration": 9,
    "start_time": "2022-05-21T18:29:54.993Z"
   },
   {
    "duration": 5,
    "start_time": "2022-05-21T18:29:56.411Z"
   },
   {
    "duration": 17,
    "start_time": "2022-05-21T18:29:58.835Z"
   },
   {
    "duration": 17,
    "start_time": "2022-05-21T18:29:59.603Z"
   },
   {
    "duration": 7,
    "start_time": "2022-05-21T18:30:00.789Z"
   },
   {
    "duration": 400,
    "start_time": "2022-05-21T18:30:02.405Z"
   },
   {
    "duration": 596,
    "start_time": "2022-05-21T18:30:03.541Z"
   },
   {
    "duration": 731,
    "start_time": "2022-05-21T18:30:05.105Z"
   },
   {
    "duration": 617,
    "start_time": "2022-05-21T18:30:07.348Z"
   },
   {
    "duration": 8,
    "start_time": "2022-05-21T18:30:08.690Z"
   },
   {
    "duration": 9,
    "start_time": "2022-05-21T18:30:09.592Z"
   },
   {
    "duration": 517,
    "start_time": "2022-05-21T18:30:11.886Z"
   },
   {
    "duration": 546,
    "start_time": "2022-05-21T18:30:12.542Z"
   },
   {
    "duration": 549,
    "start_time": "2022-05-21T18:30:14.340Z"
   },
   {
    "duration": 3,
    "start_time": "2022-05-21T18:30:17.823Z"
   },
   {
    "duration": 3,
    "start_time": "2022-05-21T18:30:20.552Z"
   },
   {
    "duration": 3,
    "start_time": "2022-05-21T18:31:08.308Z"
   },
   {
    "duration": 10,
    "start_time": "2022-05-21T18:31:26.212Z"
   },
   {
    "duration": 10,
    "start_time": "2022-05-21T18:31:47.288Z"
   },
   {
    "duration": 7,
    "start_time": "2022-05-21T18:32:02.018Z"
   },
   {
    "duration": 7,
    "start_time": "2022-05-21T18:32:03.120Z"
   },
   {
    "duration": 1294,
    "start_time": "2022-05-21T18:32:43.426Z"
   },
   {
    "duration": 697,
    "start_time": "2022-05-21T18:32:45.995Z"
   },
   {
    "duration": 4,
    "start_time": "2022-05-21T18:32:47.395Z"
   },
   {
    "duration": 140,
    "start_time": "2022-05-21T18:32:48.637Z"
   },
   {
    "duration": 157,
    "start_time": "2022-05-21T18:32:49.436Z"
   },
   {
    "duration": 55,
    "start_time": "2022-05-21T18:32:50.092Z"
   },
   {
    "duration": 11,
    "start_time": "2022-05-21T18:32:51.792Z"
   },
   {
    "duration": 7,
    "start_time": "2022-05-21T18:32:52.809Z"
   },
   {
    "duration": 21,
    "start_time": "2022-05-21T18:32:54.918Z"
   },
   {
    "duration": 24,
    "start_time": "2022-05-21T18:32:55.509Z"
   },
   {
    "duration": 8,
    "start_time": "2022-05-21T18:32:56.034Z"
   },
   {
    "duration": 380,
    "start_time": "2022-05-21T18:32:57.439Z"
   },
   {
    "duration": 647,
    "start_time": "2022-05-21T18:32:57.820Z"
   },
   {
    "duration": 736,
    "start_time": "2022-05-21T18:32:58.469Z"
   },
   {
    "duration": 574,
    "start_time": "2022-05-21T18:32:59.653Z"
   },
   {
    "duration": 9,
    "start_time": "2022-05-21T18:33:00.229Z"
   },
   {
    "duration": 9,
    "start_time": "2022-05-21T18:33:00.589Z"
   },
   {
    "duration": 448,
    "start_time": "2022-05-21T18:33:02.272Z"
   },
   {
    "duration": 448,
    "start_time": "2022-05-21T18:33:02.810Z"
   },
   {
    "duration": 452,
    "start_time": "2022-05-21T18:33:03.668Z"
   },
   {
    "duration": 3,
    "start_time": "2022-05-21T18:33:05.641Z"
   },
   {
    "duration": 3,
    "start_time": "2022-05-21T18:33:06.242Z"
   },
   {
    "duration": 20,
    "start_time": "2022-05-21T18:33:22.082Z"
   },
   {
    "duration": 20,
    "start_time": "2022-05-21T18:33:27.394Z"
   },
   {
    "duration": 3,
    "start_time": "2022-05-21T18:33:38.548Z"
   },
   {
    "duration": 144,
    "start_time": "2022-05-21T18:33:48.879Z"
   },
   {
    "duration": 18,
    "start_time": "2022-05-21T18:34:35.028Z"
   },
   {
    "duration": 14,
    "start_time": "2022-05-21T18:34:53.077Z"
   },
   {
    "duration": 16,
    "start_time": "2022-05-21T18:34:58.614Z"
   },
   {
    "duration": 6,
    "start_time": "2022-05-21T18:35:05.124Z"
   },
   {
    "duration": 12,
    "start_time": "2022-05-21T18:35:17.670Z"
   },
   {
    "duration": 10,
    "start_time": "2022-05-21T18:35:18.583Z"
   },
   {
    "duration": 35,
    "start_time": "2022-05-21T18:35:41.525Z"
   },
   {
    "duration": 32,
    "start_time": "2022-05-21T18:36:06.256Z"
   },
   {
    "duration": 30,
    "start_time": "2022-05-21T18:36:37.884Z"
   },
   {
    "duration": 14,
    "start_time": "2022-05-21T18:36:47.775Z"
   },
   {
    "duration": 1418,
    "start_time": "2022-05-21T18:37:02.818Z"
   },
   {
    "duration": 733,
    "start_time": "2022-05-21T18:37:05.280Z"
   },
   {
    "duration": 4,
    "start_time": "2022-05-21T18:37:06.015Z"
   },
   {
    "duration": 143,
    "start_time": "2022-05-21T18:37:06.676Z"
   },
   {
    "duration": 167,
    "start_time": "2022-05-21T18:37:07.185Z"
   },
   {
    "duration": 49,
    "start_time": "2022-05-21T18:37:07.671Z"
   },
   {
    "duration": 10,
    "start_time": "2022-05-21T18:37:09.053Z"
   },
   {
    "duration": 6,
    "start_time": "2022-05-21T18:37:09.929Z"
   },
   {
    "duration": 22,
    "start_time": "2022-05-21T18:37:11.797Z"
   },
   {
    "duration": 27,
    "start_time": "2022-05-21T18:37:12.203Z"
   },
   {
    "duration": 9,
    "start_time": "2022-05-21T18:37:12.438Z"
   },
   {
    "duration": 376,
    "start_time": "2022-05-21T18:37:13.079Z"
   },
   {
    "duration": 642,
    "start_time": "2022-05-21T18:37:13.457Z"
   },
   {
    "duration": 760,
    "start_time": "2022-05-21T18:37:14.101Z"
   },
   {
    "duration": 794,
    "start_time": "2022-05-21T18:37:14.863Z"
   },
   {
    "duration": 10,
    "start_time": "2022-05-21T18:37:17.775Z"
   },
   {
    "duration": 10,
    "start_time": "2022-05-21T18:37:18.384Z"
   },
   {
    "duration": 462,
    "start_time": "2022-05-21T18:37:19.916Z"
   },
   {
    "duration": 478,
    "start_time": "2022-05-21T18:37:20.415Z"
   },
   {
    "duration": 492,
    "start_time": "2022-05-21T18:37:20.996Z"
   },
   {
    "duration": 4,
    "start_time": "2022-05-21T18:37:23.619Z"
   },
   {
    "duration": 3,
    "start_time": "2022-05-21T18:37:24.107Z"
   },
   {
    "duration": 11,
    "start_time": "2022-05-21T18:37:27.816Z"
   },
   {
    "duration": 6,
    "start_time": "2022-05-21T18:37:28.919Z"
   },
   {
    "duration": 13,
    "start_time": "2022-05-21T18:37:29.702Z"
   },
   {
    "duration": 10,
    "start_time": "2022-05-21T18:37:30.417Z"
   },
   {
    "duration": 16,
    "start_time": "2022-05-21T18:37:33.502Z"
   },
   {
    "duration": 123,
    "start_time": "2022-05-21T18:37:34.281Z"
   },
   {
    "duration": 5,
    "start_time": "2022-05-21T18:37:40.070Z"
   },
   {
    "duration": 3,
    "start_time": "2022-05-21T18:37:40.663Z"
   },
   {
    "duration": 144,
    "start_time": "2022-05-21T18:37:42.355Z"
   },
   {
    "duration": 12,
    "start_time": "2022-05-21T18:37:43.070Z"
   },
   {
    "duration": 2,
    "start_time": "2022-05-21T18:37:43.806Z"
   },
   {
    "duration": 45,
    "start_time": "2022-05-21T18:38:25.537Z"
   },
   {
    "duration": 7,
    "start_time": "2022-05-21T18:38:30.315Z"
   },
   {
    "duration": 4,
    "start_time": "2022-05-21T18:38:34.594Z"
   },
   {
    "duration": 40,
    "start_time": "2022-05-21T18:38:35.303Z"
   },
   {
    "duration": 124,
    "start_time": "2022-05-21T18:38:35.983Z"
   },
   {
    "duration": 14,
    "start_time": "2022-05-21T18:39:11.438Z"
   },
   {
    "duration": 5,
    "start_time": "2022-05-21T18:41:33.445Z"
   },
   {
    "duration": 1997,
    "start_time": "2022-05-21T18:41:41.018Z"
   },
   {
    "duration": 1521,
    "start_time": "2022-05-21T18:41:44.201Z"
   },
   {
    "duration": 4,
    "start_time": "2022-05-21T18:41:49.805Z"
   },
   {
    "duration": 379682,
    "start_time": "2022-05-21T18:42:00.300Z"
   },
   {
    "duration": 3,
    "start_time": "2022-05-21T19:32:29.257Z"
   },
   {
    "duration": 1323,
    "start_time": "2022-05-21T19:32:41.018Z"
   },
   {
    "duration": 704,
    "start_time": "2022-05-21T19:32:42.989Z"
   },
   {
    "duration": 3,
    "start_time": "2022-05-21T19:32:43.694Z"
   },
   {
    "duration": 139,
    "start_time": "2022-05-21T19:32:43.923Z"
   },
   {
    "duration": 152,
    "start_time": "2022-05-21T19:32:44.328Z"
   },
   {
    "duration": 48,
    "start_time": "2022-05-21T19:32:44.717Z"
   },
   {
    "duration": 12,
    "start_time": "2022-05-21T19:32:45.511Z"
   },
   {
    "duration": 6,
    "start_time": "2022-05-21T19:32:46.018Z"
   },
   {
    "duration": 21,
    "start_time": "2022-05-21T19:32:47.202Z"
   },
   {
    "duration": 22,
    "start_time": "2022-05-21T19:32:47.495Z"
   },
   {
    "duration": 7,
    "start_time": "2022-05-21T19:32:47.791Z"
   },
   {
    "duration": 407,
    "start_time": "2022-05-21T19:32:48.689Z"
   },
   {
    "duration": 624,
    "start_time": "2022-05-21T19:32:49.097Z"
   },
   {
    "duration": 711,
    "start_time": "2022-05-21T19:32:49.723Z"
   },
   {
    "duration": 595,
    "start_time": "2022-05-21T19:32:50.436Z"
   },
   {
    "duration": 8,
    "start_time": "2022-05-21T19:32:51.032Z"
   },
   {
    "duration": 8,
    "start_time": "2022-05-21T19:32:52.105Z"
   },
   {
    "duration": 455,
    "start_time": "2022-05-21T19:32:52.892Z"
   },
   {
    "duration": 465,
    "start_time": "2022-05-21T19:32:53.349Z"
   },
   {
    "duration": 476,
    "start_time": "2022-05-21T19:32:53.816Z"
   },
   {
    "duration": 3,
    "start_time": "2022-05-21T19:32:54.717Z"
   },
   {
    "duration": 3,
    "start_time": "2022-05-21T19:32:55.710Z"
   },
   {
    "duration": 11,
    "start_time": "2022-05-21T19:32:57.706Z"
   },
   {
    "duration": 5,
    "start_time": "2022-05-21T19:32:58.086Z"
   },
   {
    "duration": 9,
    "start_time": "2022-05-21T19:32:58.601Z"
   },
   {
    "duration": 8,
    "start_time": "2022-05-21T19:32:59.020Z"
   },
   {
    "duration": 13,
    "start_time": "2022-05-21T19:32:59.383Z"
   },
   {
    "duration": 84,
    "start_time": "2022-05-21T19:32:59.656Z"
   },
   {
    "duration": 4,
    "start_time": "2022-05-21T19:32:59.986Z"
   },
   {
    "duration": 2,
    "start_time": "2022-05-21T19:33:00.477Z"
   },
   {
    "duration": 140,
    "start_time": "2022-05-21T19:33:02.077Z"
   },
   {
    "duration": 12,
    "start_time": "2022-05-21T19:33:02.419Z"
   },
   {
    "duration": 4,
    "start_time": "2022-05-21T19:33:02.930Z"
   },
   {
    "duration": 48,
    "start_time": "2022-05-21T19:33:03.939Z"
   },
   {
    "duration": 6,
    "start_time": "2022-05-21T19:33:04.451Z"
   },
   {
    "duration": 4,
    "start_time": "2022-05-21T19:33:05.829Z"
   },
   {
    "duration": 39,
    "start_time": "2022-05-21T19:33:06.372Z"
   },
   {
    "duration": 4,
    "start_time": "2022-05-21T19:33:06.940Z"
   },
   {
    "duration": 1110,
    "start_time": "2022-05-21T19:33:07.608Z"
   },
   {
    "duration": 996,
    "start_time": "2022-05-21T19:33:26.217Z"
   },
   {
    "duration": 3,
    "start_time": "2022-05-21T19:33:52.005Z"
   },
   {
    "duration": 1311,
    "start_time": "2022-05-21T19:34:04.201Z"
   },
   {
    "duration": 695,
    "start_time": "2022-05-21T19:34:06.245Z"
   },
   {
    "duration": 3,
    "start_time": "2022-05-21T19:34:06.942Z"
   },
   {
    "duration": 148,
    "start_time": "2022-05-21T19:34:06.946Z"
   },
   {
    "duration": 172,
    "start_time": "2022-05-21T19:34:07.189Z"
   },
   {
    "duration": 52,
    "start_time": "2022-05-21T19:34:07.432Z"
   },
   {
    "duration": 10,
    "start_time": "2022-05-21T19:34:08.203Z"
   },
   {
    "duration": 6,
    "start_time": "2022-05-21T19:34:08.893Z"
   },
   {
    "duration": 29,
    "start_time": "2022-05-21T19:34:09.690Z"
   },
   {
    "duration": 28,
    "start_time": "2022-05-21T19:34:09.905Z"
   },
   {
    "duration": 9,
    "start_time": "2022-05-21T19:34:10.142Z"
   },
   {
    "duration": 392,
    "start_time": "2022-05-21T19:34:10.893Z"
   },
   {
    "duration": 797,
    "start_time": "2022-05-21T19:34:11.287Z"
   },
   {
    "duration": 753,
    "start_time": "2022-05-21T19:34:12.086Z"
   },
   {
    "duration": 704,
    "start_time": "2022-05-21T19:34:12.841Z"
   },
   {
    "duration": 8,
    "start_time": "2022-05-21T19:34:13.547Z"
   },
   {
    "duration": 7,
    "start_time": "2022-05-21T19:34:13.557Z"
   },
   {
    "duration": 511,
    "start_time": "2022-05-21T19:34:13.566Z"
   },
   {
    "duration": 488,
    "start_time": "2022-05-21T19:34:14.548Z"
   },
   {
    "duration": 491,
    "start_time": "2022-05-21T19:34:15.471Z"
   },
   {
    "duration": 3,
    "start_time": "2022-05-21T19:34:16.909Z"
   },
   {
    "duration": 4,
    "start_time": "2022-05-21T19:34:17.655Z"
   },
   {
    "duration": 8,
    "start_time": "2022-05-21T19:34:20.386Z"
   },
   {
    "duration": 5,
    "start_time": "2022-05-21T19:34:20.797Z"
   },
   {
    "duration": 10,
    "start_time": "2022-05-21T19:34:21.160Z"
   },
   {
    "duration": 9,
    "start_time": "2022-05-21T19:34:21.583Z"
   },
   {
    "duration": 14,
    "start_time": "2022-05-21T19:34:22.084Z"
   },
   {
    "duration": 83,
    "start_time": "2022-05-21T19:34:22.392Z"
   },
   {
    "duration": 4,
    "start_time": "2022-05-21T19:34:23.289Z"
   },
   {
    "duration": 3,
    "start_time": "2022-05-21T19:34:23.825Z"
   },
   {
    "duration": 151,
    "start_time": "2022-05-21T19:34:25.447Z"
   },
   {
    "duration": 13,
    "start_time": "2022-05-21T19:34:26.119Z"
   },
   {
    "duration": 3,
    "start_time": "2022-05-21T19:34:26.609Z"
   },
   {
    "duration": 46,
    "start_time": "2022-05-21T19:34:27.989Z"
   },
   {
    "duration": 5,
    "start_time": "2022-05-21T19:34:28.447Z"
   },
   {
    "duration": 2,
    "start_time": "2022-05-21T19:34:30.205Z"
   },
   {
    "duration": 36,
    "start_time": "2022-05-21T19:34:30.686Z"
   },
   {
    "duration": 3,
    "start_time": "2022-05-21T19:34:31.217Z"
   },
   {
    "duration": 954,
    "start_time": "2022-05-21T19:34:31.857Z"
   },
   {
    "duration": 1219,
    "start_time": "2022-05-21T19:34:33.499Z"
   },
   {
    "duration": 4,
    "start_time": "2022-05-21T19:34:35.391Z"
   },
   {
    "duration": 63981,
    "start_time": "2022-05-21T19:34:37.305Z"
   },
   {
    "duration": 7587,
    "start_time": "2022-05-21T19:35:41.288Z"
   },
   {
    "duration": 328128,
    "start_time": "2022-05-21T19:35:52.156Z"
   },
   {
    "duration": 415448,
    "start_time": "2022-05-21T19:42:10.210Z"
   },
   {
    "duration": 330859,
    "start_time": "2022-05-21T19:49:29.141Z"
   },
   {
    "duration": 205,
    "start_time": "2022-05-21T19:55:51.045Z"
   },
   {
    "duration": 245,
    "start_time": "2022-05-21T19:56:51.022Z"
   },
   {
    "duration": 1474,
    "start_time": "2022-05-21T19:57:47.650Z"
   },
   {
    "duration": 9416,
    "start_time": "2022-05-21T19:57:58.444Z"
   },
   {
    "duration": 20,
    "start_time": "2022-05-21T19:58:34.952Z"
   },
   {
    "duration": 4,
    "start_time": "2022-05-21T19:59:07.131Z"
   },
   {
    "duration": 6224,
    "start_time": "2022-05-21T20:00:04.789Z"
   },
   {
    "duration": 12307,
    "start_time": "2022-05-21T20:00:16.891Z"
   },
   {
    "duration": 12130,
    "start_time": "2022-05-21T20:00:40.517Z"
   },
   {
    "duration": 6163,
    "start_time": "2022-05-21T20:00:54.009Z"
   },
   {
    "duration": 4,
    "start_time": "2022-05-21T20:01:01.417Z"
   },
   {
    "duration": 9175,
    "start_time": "2022-05-21T20:01:09.786Z"
   },
   {
    "duration": 6490,
    "start_time": "2022-05-21T20:01:20.493Z"
   },
   {
    "duration": 4,
    "start_time": "2022-05-21T20:01:28.877Z"
   },
   {
    "duration": 9251,
    "start_time": "2022-05-21T20:01:42.081Z"
   },
   {
    "duration": 6311,
    "start_time": "2022-05-21T20:01:53.015Z"
   },
   {
    "duration": 4,
    "start_time": "2022-05-21T20:02:01.748Z"
   },
   {
    "duration": 6486,
    "start_time": "2022-05-21T20:02:07.609Z"
   },
   {
    "duration": 6755,
    "start_time": "2022-05-21T20:02:28.127Z"
   },
   {
    "duration": 4796,
    "start_time": "2022-05-21T20:02:44.263Z"
   },
   {
    "duration": 6095,
    "start_time": "2022-05-21T20:02:54.785Z"
   },
   {
    "duration": 4,
    "start_time": "2022-05-21T20:03:05.733Z"
   },
   {
    "duration": 26,
    "start_time": "2022-05-21T20:03:20.641Z"
   },
   {
    "duration": 36,
    "start_time": "2022-05-21T20:03:21.605Z"
   },
   {
    "duration": 3,
    "start_time": "2022-05-21T20:03:24.497Z"
   },
   {
    "duration": 4,
    "start_time": "2022-05-21T20:03:52.285Z"
   },
   {
    "duration": 4,
    "start_time": "2022-05-21T20:03:58.842Z"
   },
   {
    "duration": 1453,
    "start_time": "2022-05-25T08:53:01.071Z"
   },
   {
    "duration": 1934,
    "start_time": "2022-05-25T08:54:37.286Z"
   },
   {
    "duration": 3,
    "start_time": "2022-05-25T08:54:39.990Z"
   },
   {
    "duration": 138,
    "start_time": "2022-05-25T08:54:41.058Z"
   },
   {
    "duration": 151,
    "start_time": "2022-05-25T08:54:41.907Z"
   },
   {
    "duration": 45,
    "start_time": "2022-05-25T08:54:42.505Z"
   },
   {
    "duration": 136,
    "start_time": "2022-05-25T08:54:47.807Z"
   },
   {
    "duration": 5,
    "start_time": "2022-05-25T08:54:52.458Z"
   },
   {
    "duration": 21,
    "start_time": "2022-05-25T08:54:55.052Z"
   },
   {
    "duration": 21,
    "start_time": "2022-05-25T08:54:55.622Z"
   },
   {
    "duration": 8,
    "start_time": "2022-05-25T08:54:56.065Z"
   },
   {
    "duration": 386,
    "start_time": "2022-05-25T08:55:07.019Z"
   },
   {
    "duration": 584,
    "start_time": "2022-05-25T08:55:11.158Z"
   },
   {
    "duration": 704,
    "start_time": "2022-05-25T08:55:19.554Z"
   },
   {
    "duration": 691,
    "start_time": "2022-05-25T08:55:24.056Z"
   },
   {
    "duration": 8,
    "start_time": "2022-05-25T08:55:28.110Z"
   },
   {
    "duration": 9,
    "start_time": "2022-05-25T08:55:28.955Z"
   },
   {
    "duration": 436,
    "start_time": "2022-05-25T08:55:55.111Z"
   },
   {
    "duration": 883,
    "start_time": "2022-05-25T08:59:24.724Z"
   },
   {
    "duration": 160,
    "start_time": "2022-05-25T08:59:44.442Z"
   },
   {
    "duration": 259,
    "start_time": "2022-05-25T08:59:55.569Z"
   },
   {
    "duration": 194,
    "start_time": "2022-05-25T09:00:05.742Z"
   },
   {
    "duration": 170,
    "start_time": "2022-05-25T09:00:13.355Z"
   },
   {
    "duration": 243,
    "start_time": "2022-05-25T09:00:15.487Z"
   },
   {
    "duration": 120,
    "start_time": "2022-05-25T09:02:27.838Z"
   },
   {
    "duration": 997,
    "start_time": "2022-05-25T09:02:49.554Z"
   },
   {
    "duration": 1108,
    "start_time": "2022-05-25T09:02:58.811Z"
   },
   {
    "duration": 1013,
    "start_time": "2022-05-25T09:03:08.254Z"
   },
   {
    "duration": 714,
    "start_time": "2022-05-25T09:05:02.707Z"
   },
   {
    "duration": 630,
    "start_time": "2022-05-25T09:05:24.219Z"
   },
   {
    "duration": 218,
    "start_time": "2022-05-25T09:05:59.727Z"
   },
   {
    "duration": 281,
    "start_time": "2022-05-25T09:07:49.626Z"
   },
   {
    "duration": 221,
    "start_time": "2022-05-25T09:07:52.807Z"
   },
   {
    "duration": 196,
    "start_time": "2022-05-25T09:08:02.350Z"
   },
   {
    "duration": 176,
    "start_time": "2022-05-25T09:08:06.342Z"
   },
   {
    "duration": 179,
    "start_time": "2022-05-25T09:12:34.344Z"
   },
   {
    "duration": 227,
    "start_time": "2022-05-25T09:12:41.269Z"
   },
   {
    "duration": 190,
    "start_time": "2022-05-25T09:12:44.855Z"
   },
   {
    "duration": 177,
    "start_time": "2022-05-25T09:12:57.211Z"
   },
   {
    "duration": 174,
    "start_time": "2022-05-25T09:13:00.052Z"
   },
   {
    "duration": 771,
    "start_time": "2022-05-25T09:13:14.602Z"
   },
   {
    "duration": 157,
    "start_time": "2022-05-25T09:13:26.506Z"
   },
   {
    "duration": 189,
    "start_time": "2022-05-25T09:13:30.404Z"
   },
   {
    "duration": 708,
    "start_time": "2022-05-25T09:13:33.899Z"
   },
   {
    "duration": 222,
    "start_time": "2022-05-25T09:14:02.810Z"
   },
   {
    "duration": 673,
    "start_time": "2022-05-25T09:14:21.829Z"
   },
   {
    "duration": 181,
    "start_time": "2022-05-25T09:14:53.701Z"
   },
   {
    "duration": 842,
    "start_time": "2022-05-25T09:15:18.609Z"
   },
   {
    "duration": 308,
    "start_time": "2022-05-25T09:38:00.911Z"
   },
   {
    "duration": 310,
    "start_time": "2022-05-25T09:41:24.019Z"
   },
   {
    "duration": 352,
    "start_time": "2022-05-25T09:43:43.041Z"
   },
   {
    "duration": 3,
    "start_time": "2022-05-25T09:43:50.410Z"
   },
   {
    "duration": 2,
    "start_time": "2022-05-25T09:43:50.948Z"
   },
   {
    "duration": 8,
    "start_time": "2022-05-25T09:44:07.585Z"
   },
   {
    "duration": 4,
    "start_time": "2022-05-25T09:44:08.171Z"
   },
   {
    "duration": 8,
    "start_time": "2022-05-25T09:44:08.703Z"
   },
   {
    "duration": 6,
    "start_time": "2022-05-25T09:44:09.506Z"
   },
   {
    "duration": 9,
    "start_time": "2022-05-25T09:44:27.607Z"
   },
   {
    "duration": 120,
    "start_time": "2022-05-25T09:44:28.313Z"
   },
   {
    "duration": 4,
    "start_time": "2022-05-25T09:44:29.345Z"
   },
   {
    "duration": 3,
    "start_time": "2022-05-25T09:44:32.420Z"
   },
   {
    "duration": 184,
    "start_time": "2022-05-25T09:44:34.441Z"
   },
   {
    "duration": 23,
    "start_time": "2022-05-25T09:44:38.846Z"
   },
   {
    "duration": 3,
    "start_time": "2022-05-25T09:44:42.008Z"
   },
   {
    "duration": 53,
    "start_time": "2022-05-25T09:44:44.752Z"
   },
   {
    "duration": 5,
    "start_time": "2022-05-25T09:44:45.410Z"
   },
   {
    "duration": 3,
    "start_time": "2022-05-25T09:46:03.386Z"
   },
   {
    "duration": 37,
    "start_time": "2022-05-25T09:46:04.155Z"
   },
   {
    "duration": 35,
    "start_time": "2022-05-25T09:46:45.087Z"
   },
   {
    "duration": 1738,
    "start_time": "2022-05-25T09:47:43.868Z"
   },
   {
    "duration": 665,
    "start_time": "2022-05-25T09:47:47.217Z"
   },
   {
    "duration": 4,
    "start_time": "2022-05-25T09:47:47.885Z"
   },
   {
    "duration": 150,
    "start_time": "2022-05-25T09:47:48.254Z"
   },
   {
    "duration": 161,
    "start_time": "2022-05-25T09:47:48.858Z"
   },
   {
    "duration": 44,
    "start_time": "2022-05-25T09:47:49.396Z"
   },
   {
    "duration": 9,
    "start_time": "2022-05-25T09:47:50.435Z"
   },
   {
    "duration": 7,
    "start_time": "2022-05-25T09:47:51.998Z"
   },
   {
    "duration": 28,
    "start_time": "2022-05-25T09:47:53.956Z"
   },
   {
    "duration": 21,
    "start_time": "2022-05-25T09:47:54.435Z"
   },
   {
    "duration": 8,
    "start_time": "2022-05-25T09:47:54.903Z"
   },
   {
    "duration": 356,
    "start_time": "2022-05-25T09:47:56.902Z"
   },
   {
    "duration": 592,
    "start_time": "2022-05-25T09:47:58.044Z"
   },
   {
    "duration": 717,
    "start_time": "2022-05-25T09:47:58.638Z"
   },
   {
    "duration": 695,
    "start_time": "2022-05-25T09:48:01.358Z"
   },
   {
    "duration": 10,
    "start_time": "2022-05-25T09:48:02.602Z"
   },
   {
    "duration": 8,
    "start_time": "2022-05-25T09:48:03.211Z"
   },
   {
    "duration": 163,
    "start_time": "2022-05-25T09:48:05.635Z"
   },
   {
    "duration": 678,
    "start_time": "2022-05-25T09:48:08.190Z"
   },
   {
    "duration": 322,
    "start_time": "2022-05-25T09:48:09.919Z"
   },
   {
    "duration": 211,
    "start_time": "2022-05-25T09:48:10.754Z"
   },
   {
    "duration": 695,
    "start_time": "2022-05-25T09:48:11.609Z"
   },
   {
    "duration": 298,
    "start_time": "2022-05-25T09:48:12.306Z"
   },
   {
    "duration": 205,
    "start_time": "2022-05-25T09:48:13.151Z"
   },
   {
    "duration": 770,
    "start_time": "2022-05-25T09:48:15.350Z"
   },
   {
    "duration": 286,
    "start_time": "2022-05-25T09:48:19.137Z"
   },
   {
    "duration": 3,
    "start_time": "2022-05-25T09:48:20.846Z"
   },
   {
    "duration": 2,
    "start_time": "2022-05-25T09:48:21.495Z"
   },
   {
    "duration": 9,
    "start_time": "2022-05-25T09:48:24.409Z"
   },
   {
    "duration": 4,
    "start_time": "2022-05-25T09:48:24.898Z"
   },
   {
    "duration": 9,
    "start_time": "2022-05-25T09:48:25.434Z"
   },
   {
    "duration": 7,
    "start_time": "2022-05-25T09:48:25.948Z"
   },
   {
    "duration": 11,
    "start_time": "2022-05-25T09:48:28.137Z"
   },
   {
    "duration": 126,
    "start_time": "2022-05-25T09:48:28.704Z"
   },
   {
    "duration": 5,
    "start_time": "2022-05-25T09:48:29.386Z"
   },
   {
    "duration": 3,
    "start_time": "2022-05-25T09:48:30.210Z"
   },
   {
    "duration": 238,
    "start_time": "2022-05-25T09:48:32.754Z"
   },
   {
    "duration": 27,
    "start_time": "2022-05-25T09:48:33.814Z"
   },
   {
    "duration": 3,
    "start_time": "2022-05-25T09:48:34.602Z"
   },
   {
    "duration": 45,
    "start_time": "2022-05-25T09:48:36.999Z"
   },
   {
    "duration": 7,
    "start_time": "2022-05-25T09:48:37.738Z"
   },
   {
    "duration": 3,
    "start_time": "2022-05-25T09:48:39.868Z"
   },
   {
    "duration": 139,
    "start_time": "2022-05-25T09:48:40.705Z"
   },
   {
    "duration": 8,
    "start_time": "2022-05-25T09:50:10.113Z"
   },
   {
    "duration": 117,
    "start_time": "2022-05-25T09:50:10.731Z"
   },
   {
    "duration": 4,
    "start_time": "2022-05-25T09:50:11.637Z"
   },
   {
    "duration": 47,
    "start_time": "2022-05-25T09:50:36.335Z"
   },
   {
    "duration": 1261,
    "start_time": "2022-05-25T09:52:45.895Z"
   },
   {
    "duration": 685,
    "start_time": "2022-05-25T09:52:49.134Z"
   },
   {
    "duration": 3,
    "start_time": "2022-05-25T09:52:49.821Z"
   },
   {
    "duration": 150,
    "start_time": "2022-05-25T09:52:50.637Z"
   },
   {
    "duration": 173,
    "start_time": "2022-05-25T09:52:51.114Z"
   },
   {
    "duration": 50,
    "start_time": "2022-05-25T09:52:51.640Z"
   },
   {
    "duration": 10,
    "start_time": "2022-05-25T09:52:52.536Z"
   },
   {
    "duration": 4,
    "start_time": "2022-05-25T09:52:54.138Z"
   },
   {
    "duration": 20,
    "start_time": "2022-05-25T09:52:56.449Z"
   },
   {
    "duration": 22,
    "start_time": "2022-05-25T09:52:56.888Z"
   },
   {
    "duration": 8,
    "start_time": "2022-05-25T09:52:57.297Z"
   },
   {
    "duration": 358,
    "start_time": "2022-05-25T09:52:59.901Z"
   },
   {
    "duration": 646,
    "start_time": "2022-05-25T09:53:01.009Z"
   },
   {
    "duration": 782,
    "start_time": "2022-05-25T09:53:02.490Z"
   },
   {
    "duration": 660,
    "start_time": "2022-05-25T09:53:06.057Z"
   },
   {
    "duration": 8,
    "start_time": "2022-05-25T09:53:07.490Z"
   },
   {
    "duration": 8,
    "start_time": "2022-05-25T09:53:08.494Z"
   },
   {
    "duration": 149,
    "start_time": "2022-05-25T09:53:13.217Z"
   },
   {
    "duration": 682,
    "start_time": "2022-05-25T09:53:14.815Z"
   },
   {
    "duration": 9,
    "start_time": "2022-05-25T09:53:30.386Z"
   },
   {
    "duration": 317,
    "start_time": "2022-05-25T09:53:37.142Z"
   },
   {
    "duration": 5,
    "start_time": "2022-05-25T09:53:48.362Z"
   },
   {
    "duration": 280,
    "start_time": "2022-05-25T09:54:10.450Z"
   },
   {
    "duration": 137,
    "start_time": "2022-05-25T09:54:52.587Z"
   },
   {
    "duration": 3,
    "start_time": "2022-05-25T09:55:04.766Z"
   },
   {
    "duration": 704,
    "start_time": "2022-05-25T09:55:06.527Z"
   },
   {
    "duration": 4,
    "start_time": "2022-05-25T09:55:07.233Z"
   },
   {
    "duration": 125,
    "start_time": "2022-05-25T09:55:08.186Z"
   },
   {
    "duration": 150,
    "start_time": "2022-05-25T09:55:08.786Z"
   },
   {
    "duration": 47,
    "start_time": "2022-05-25T09:55:09.388Z"
   },
   {
    "duration": 9,
    "start_time": "2022-05-25T09:55:10.507Z"
   },
   {
    "duration": 4,
    "start_time": "2022-05-25T09:55:12.262Z"
   },
   {
    "duration": 20,
    "start_time": "2022-05-25T09:55:14.207Z"
   },
   {
    "duration": 22,
    "start_time": "2022-05-25T09:55:14.735Z"
   },
   {
    "duration": 7,
    "start_time": "2022-05-25T09:55:15.222Z"
   },
   {
    "duration": 422,
    "start_time": "2022-05-25T09:55:17.116Z"
   },
   {
    "duration": 774,
    "start_time": "2022-05-25T09:55:17.638Z"
   },
   {
    "duration": 680,
    "start_time": "2022-05-25T09:55:18.415Z"
   },
   {
    "duration": 631,
    "start_time": "2022-05-25T09:55:20.596Z"
   },
   {
    "duration": 7,
    "start_time": "2022-05-25T09:55:21.229Z"
   },
   {
    "duration": 8,
    "start_time": "2022-05-25T09:55:22.044Z"
   },
   {
    "duration": 158,
    "start_time": "2022-05-25T09:55:25.753Z"
   },
   {
    "duration": 713,
    "start_time": "2022-05-25T09:55:26.712Z"
   },
   {
    "duration": 6,
    "start_time": "2022-05-25T09:55:29.855Z"
   },
   {
    "duration": 307,
    "start_time": "2022-05-25T09:55:51.525Z"
   },
   {
    "duration": 8,
    "start_time": "2022-05-25T09:55:54.582Z"
   },
   {
    "duration": 6,
    "start_time": "2022-05-25T09:57:57.135Z"
   },
   {
    "duration": 3,
    "start_time": "2022-05-25T09:58:30.590Z"
   },
   {
    "duration": 743,
    "start_time": "2022-05-25T09:58:32.419Z"
   },
   {
    "duration": 3,
    "start_time": "2022-05-25T09:58:33.164Z"
   },
   {
    "duration": 138,
    "start_time": "2022-05-25T09:58:33.350Z"
   },
   {
    "duration": 169,
    "start_time": "2022-05-25T09:58:33.835Z"
   },
   {
    "duration": 51,
    "start_time": "2022-05-25T09:58:34.305Z"
   },
   {
    "duration": 7,
    "start_time": "2022-05-25T09:58:35.242Z"
   },
   {
    "duration": 5,
    "start_time": "2022-05-25T09:58:36.631Z"
   },
   {
    "duration": 16,
    "start_time": "2022-05-25T09:58:38.414Z"
   },
   {
    "duration": 17,
    "start_time": "2022-05-25T09:58:38.824Z"
   },
   {
    "duration": 8,
    "start_time": "2022-05-25T09:58:39.221Z"
   },
   {
    "duration": 512,
    "start_time": "2022-05-25T09:58:40.986Z"
   },
   {
    "duration": 684,
    "start_time": "2022-05-25T09:58:42.161Z"
   },
   {
    "duration": 753,
    "start_time": "2022-05-25T09:58:42.849Z"
   },
   {
    "duration": 645,
    "start_time": "2022-05-25T09:58:44.490Z"
   },
   {
    "duration": 8,
    "start_time": "2022-05-25T09:58:45.137Z"
   },
   {
    "duration": 8,
    "start_time": "2022-05-25T09:58:45.658Z"
   },
   {
    "duration": 147,
    "start_time": "2022-05-25T09:58:48.217Z"
   },
   {
    "duration": 802,
    "start_time": "2022-05-25T09:58:49.040Z"
   },
   {
    "duration": 5,
    "start_time": "2022-05-25T09:58:50.613Z"
   },
   {
    "duration": 8,
    "start_time": "2022-05-25T09:58:51.295Z"
   },
   {
    "duration": 57,
    "start_time": "2022-05-25T10:00:32.042Z"
   },
   {
    "duration": 32,
    "start_time": "2022-05-25T10:00:51.025Z"
   },
   {
    "duration": 7,
    "start_time": "2022-05-25T10:18:52.689Z"
   },
   {
    "duration": 6,
    "start_time": "2022-05-25T10:19:02.200Z"
   },
   {
    "duration": 6,
    "start_time": "2022-05-25T10:20:22.542Z"
   },
   {
    "duration": 5,
    "start_time": "2022-05-25T10:20:23.727Z"
   },
   {
    "duration": 16,
    "start_time": "2022-05-25T10:20:40.772Z"
   },
   {
    "duration": 6,
    "start_time": "2022-05-25T10:20:44.260Z"
   },
   {
    "duration": 3,
    "start_time": "2022-05-25T10:20:58.412Z"
   },
   {
    "duration": 701,
    "start_time": "2022-05-25T10:20:59.611Z"
   },
   {
    "duration": 4,
    "start_time": "2022-05-25T10:21:00.314Z"
   },
   {
    "duration": 144,
    "start_time": "2022-05-25T10:21:00.320Z"
   },
   {
    "duration": 166,
    "start_time": "2022-05-25T10:21:00.466Z"
   },
   {
    "duration": 60,
    "start_time": "2022-05-25T10:21:00.634Z"
   },
   {
    "duration": 11,
    "start_time": "2022-05-25T10:21:00.888Z"
   },
   {
    "duration": 17,
    "start_time": "2022-05-25T10:21:01.573Z"
   },
   {
    "duration": 18,
    "start_time": "2022-05-25T10:21:02.424Z"
   },
   {
    "duration": 19,
    "start_time": "2022-05-25T10:21:02.640Z"
   },
   {
    "duration": 18,
    "start_time": "2022-05-25T10:21:02.875Z"
   },
   {
    "duration": 448,
    "start_time": "2022-05-25T10:21:03.887Z"
   },
   {
    "duration": 608,
    "start_time": "2022-05-25T10:21:04.439Z"
   },
   {
    "duration": 780,
    "start_time": "2022-05-25T10:21:05.049Z"
   },
   {
    "duration": 652,
    "start_time": "2022-05-25T10:21:06.341Z"
   },
   {
    "duration": 8,
    "start_time": "2022-05-25T10:21:07.209Z"
   },
   {
    "duration": 10,
    "start_time": "2022-05-25T10:21:07.897Z"
   },
   {
    "duration": 159,
    "start_time": "2022-05-25T10:21:09.978Z"
   },
   {
    "duration": 698,
    "start_time": "2022-05-25T10:21:10.429Z"
   },
   {
    "duration": 8,
    "start_time": "2022-05-25T10:21:11.386Z"
   },
   {
    "duration": 6,
    "start_time": "2022-05-25T10:21:11.886Z"
   },
   {
    "duration": 8,
    "start_time": "2022-05-25T10:21:12.388Z"
   },
   {
    "duration": 281,
    "start_time": "2022-05-25T10:21:13.221Z"
   },
   {
    "duration": 201,
    "start_time": "2022-05-25T10:23:47.736Z"
   },
   {
    "duration": 264,
    "start_time": "2022-05-25T10:24:30.090Z"
   },
   {
    "duration": 3,
    "start_time": "2022-05-25T10:25:34.262Z"
   },
   {
    "duration": 751,
    "start_time": "2022-05-25T10:25:35.989Z"
   },
   {
    "duration": 3,
    "start_time": "2022-05-25T10:25:36.742Z"
   },
   {
    "duration": 128,
    "start_time": "2022-05-25T10:25:37.443Z"
   },
   {
    "duration": 151,
    "start_time": "2022-05-25T10:25:37.784Z"
   },
   {
    "duration": 48,
    "start_time": "2022-05-25T10:25:38.121Z"
   },
   {
    "duration": 9,
    "start_time": "2022-05-25T10:25:38.792Z"
   },
   {
    "duration": 5,
    "start_time": "2022-05-25T10:25:39.804Z"
   },
   {
    "duration": 27,
    "start_time": "2022-05-25T10:25:41.741Z"
   },
   {
    "duration": 28,
    "start_time": "2022-05-25T10:25:41.938Z"
   },
   {
    "duration": 12,
    "start_time": "2022-05-25T10:25:42.219Z"
   },
   {
    "duration": 495,
    "start_time": "2022-05-25T10:25:43.900Z"
   },
   {
    "duration": 800,
    "start_time": "2022-05-25T10:25:44.407Z"
   },
   {
    "duration": 1052,
    "start_time": "2022-05-25T10:25:46.097Z"
   },
   {
    "duration": 653,
    "start_time": "2022-05-25T10:25:47.826Z"
   },
   {
    "duration": 7,
    "start_time": "2022-05-25T10:25:49.161Z"
   },
   {
    "duration": 9,
    "start_time": "2022-05-25T10:25:49.825Z"
   },
   {
    "duration": 174,
    "start_time": "2022-05-25T10:25:52.514Z"
   },
   {
    "duration": 847,
    "start_time": "2022-05-25T10:25:53.326Z"
   },
   {
    "duration": 18,
    "start_time": "2022-05-25T10:25:55.016Z"
   },
   {
    "duration": 211,
    "start_time": "2022-05-25T10:26:07.722Z"
   },
   {
    "duration": 696,
    "start_time": "2022-05-25T10:26:09.256Z"
   },
   {
    "duration": 23,
    "start_time": "2022-05-25T10:27:07.475Z"
   },
   {
    "duration": 18,
    "start_time": "2022-05-25T10:27:54.201Z"
   },
   {
    "duration": 1287,
    "start_time": "2022-05-25T10:28:08.642Z"
   },
   {
    "duration": 724,
    "start_time": "2022-05-25T10:28:11.572Z"
   },
   {
    "duration": 6,
    "start_time": "2022-05-25T10:28:12.839Z"
   },
   {
    "duration": 141,
    "start_time": "2022-05-25T10:28:13.420Z"
   },
   {
    "duration": 157,
    "start_time": "2022-05-25T10:28:13.843Z"
   },
   {
    "duration": 51,
    "start_time": "2022-05-25T10:28:14.305Z"
   },
   {
    "duration": 9,
    "start_time": "2022-05-25T10:28:15.315Z"
   },
   {
    "duration": 5,
    "start_time": "2022-05-25T10:28:16.558Z"
   },
   {
    "duration": 20,
    "start_time": "2022-05-25T10:28:18.308Z"
   },
   {
    "duration": 22,
    "start_time": "2022-05-25T10:28:18.704Z"
   },
   {
    "duration": 8,
    "start_time": "2022-05-25T10:28:19.063Z"
   },
   {
    "duration": 384,
    "start_time": "2022-05-25T10:28:20.724Z"
   },
   {
    "duration": 626,
    "start_time": "2022-05-25T10:28:21.792Z"
   },
   {
    "duration": 797,
    "start_time": "2022-05-25T10:28:23.127Z"
   },
   {
    "duration": 681,
    "start_time": "2022-05-25T10:28:26.361Z"
   },
   {
    "duration": 9,
    "start_time": "2022-05-25T10:28:27.662Z"
   },
   {
    "duration": 8,
    "start_time": "2022-05-25T10:28:28.307Z"
   },
   {
    "duration": 156,
    "start_time": "2022-05-25T10:28:30.620Z"
   },
   {
    "duration": 733,
    "start_time": "2022-05-25T10:28:31.502Z"
   },
   {
    "duration": 28,
    "start_time": "2022-05-25T10:28:32.908Z"
   },
   {
    "duration": 200,
    "start_time": "2022-05-25T10:28:33.905Z"
   },
   {
    "duration": 683,
    "start_time": "2022-05-25T10:28:34.791Z"
   },
   {
    "duration": 134,
    "start_time": "2022-05-25T10:28:37.395Z"
   },
   {
    "duration": 4,
    "start_time": "2022-05-25T10:31:11.544Z"
   },
   {
    "duration": 718,
    "start_time": "2022-05-25T10:31:12.967Z"
   },
   {
    "duration": 4,
    "start_time": "2022-05-25T10:31:13.691Z"
   },
   {
    "duration": 137,
    "start_time": "2022-05-25T10:31:13.929Z"
   },
   {
    "duration": 153,
    "start_time": "2022-05-25T10:31:14.495Z"
   },
   {
    "duration": 56,
    "start_time": "2022-05-25T10:31:14.941Z"
   },
   {
    "duration": 10,
    "start_time": "2022-05-25T10:31:15.887Z"
   },
   {
    "duration": 6,
    "start_time": "2022-05-25T10:31:17.225Z"
   },
   {
    "duration": 24,
    "start_time": "2022-05-25T10:31:18.793Z"
   },
   {
    "duration": 20,
    "start_time": "2022-05-25T10:31:19.280Z"
   },
   {
    "duration": 8,
    "start_time": "2022-05-25T10:31:19.606Z"
   },
   {
    "duration": 523,
    "start_time": "2022-05-25T10:31:20.993Z"
   },
   {
    "duration": 604,
    "start_time": "2022-05-25T10:31:21.518Z"
   },
   {
    "duration": 647,
    "start_time": "2022-05-25T10:31:22.124Z"
   },
   {
    "duration": 662,
    "start_time": "2022-05-25T10:31:23.409Z"
   },
   {
    "duration": 14,
    "start_time": "2022-05-25T10:31:24.076Z"
   },
   {
    "duration": 8,
    "start_time": "2022-05-25T10:31:24.447Z"
   },
   {
    "duration": 167,
    "start_time": "2022-05-25T10:31:26.798Z"
   },
   {
    "duration": 843,
    "start_time": "2022-05-25T10:31:27.308Z"
   },
   {
    "duration": 17,
    "start_time": "2022-05-25T10:31:28.753Z"
   },
   {
    "duration": 194,
    "start_time": "2022-05-25T10:31:29.541Z"
   },
   {
    "duration": 668,
    "start_time": "2022-05-25T10:31:30.694Z"
   },
   {
    "duration": 8,
    "start_time": "2022-05-25T10:31:32.189Z"
   },
   {
    "duration": 24,
    "start_time": "2022-05-25T10:31:34.271Z"
   },
   {
    "duration": 6,
    "start_time": "2022-05-25T10:31:59.029Z"
   },
   {
    "duration": 7,
    "start_time": "2022-05-25T10:32:12.057Z"
   },
   {
    "duration": 9,
    "start_time": "2022-05-25T10:32:30.318Z"
   },
   {
    "duration": 17,
    "start_time": "2022-05-25T10:32:53.785Z"
   },
   {
    "duration": 14,
    "start_time": "2022-05-25T10:33:13.328Z"
   },
   {
    "duration": 9,
    "start_time": "2022-05-25T10:35:09.426Z"
   },
   {
    "duration": 16,
    "start_time": "2022-05-25T10:35:47.240Z"
   },
   {
    "duration": 189,
    "start_time": "2022-05-25T10:36:05.442Z"
   },
   {
    "duration": 784,
    "start_time": "2022-05-25T10:36:06.685Z"
   },
   {
    "duration": 15,
    "start_time": "2022-05-25T10:37:04.798Z"
   },
   {
    "duration": 32,
    "start_time": "2022-05-25T10:37:36.601Z"
   },
   {
    "duration": 27,
    "start_time": "2022-05-25T10:37:53.409Z"
   },
   {
    "duration": 3,
    "start_time": "2022-05-25T10:38:17.628Z"
   },
   {
    "duration": 3,
    "start_time": "2022-05-25T10:38:18.262Z"
   },
   {
    "duration": 12,
    "start_time": "2022-05-25T10:38:20.706Z"
   },
   {
    "duration": 4,
    "start_time": "2022-05-25T10:38:21.330Z"
   },
   {
    "duration": 9,
    "start_time": "2022-05-25T10:38:22.019Z"
   },
   {
    "duration": 6,
    "start_time": "2022-05-25T10:38:22.646Z"
   },
   {
    "duration": 8,
    "start_time": "2022-05-25T10:38:24.710Z"
   },
   {
    "duration": 187,
    "start_time": "2022-05-25T10:38:25.253Z"
   },
   {
    "duration": 4,
    "start_time": "2022-05-25T10:38:28.951Z"
   },
   {
    "duration": 38,
    "start_time": "2022-05-25T10:38:29.775Z"
   },
   {
    "duration": 2,
    "start_time": "2022-05-25T10:38:30.633Z"
   },
   {
    "duration": 129,
    "start_time": "2022-05-25T10:38:33.970Z"
   },
   {
    "duration": 19,
    "start_time": "2022-05-25T10:38:34.870Z"
   },
   {
    "duration": 2,
    "start_time": "2022-05-25T10:38:35.660Z"
   },
   {
    "duration": 50,
    "start_time": "2022-05-25T10:38:37.174Z"
   },
   {
    "duration": 5,
    "start_time": "2022-05-25T10:38:37.838Z"
   },
   {
    "duration": 3,
    "start_time": "2022-05-25T10:38:39.609Z"
   },
   {
    "duration": 41,
    "start_time": "2022-05-25T10:38:41.456Z"
   },
   {
    "duration": 3,
    "start_time": "2022-05-25T10:38:43.153Z"
   },
   {
    "duration": 986,
    "start_time": "2022-05-25T10:38:43.798Z"
   },
   {
    "duration": 1490,
    "start_time": "2022-05-25T10:38:47.690Z"
   },
   {
    "duration": 3,
    "start_time": "2022-05-25T10:38:50.548Z"
   },
   {
    "duration": 308665,
    "start_time": "2022-05-25T10:38:54.389Z"
   },
   {
    "duration": 4,
    "start_time": "2022-05-25T11:24:12.645Z"
   },
   {
    "duration": 4639,
    "start_time": "2022-05-25T11:24:16.214Z"
   },
   {
    "duration": 465719,
    "start_time": "2022-05-25T11:24:23.787Z"
   },
   {
    "duration": 4,
    "start_time": "2022-05-25T11:34:34.543Z"
   },
   {
    "duration": 4242,
    "start_time": "2022-05-25T11:37:34.224Z"
   },
   {
    "duration": 6253,
    "start_time": "2022-05-25T11:37:40.890Z"
   },
   {
    "duration": 4,
    "start_time": "2022-05-25T11:37:48.823Z"
   },
   {
    "duration": 25,
    "start_time": "2022-05-25T11:38:00.045Z"
   },
   {
    "duration": 27,
    "start_time": "2022-05-25T11:38:07.513Z"
   },
   {
    "duration": 12,
    "start_time": "2022-05-25T11:38:42.372Z"
   },
   {
    "duration": 26,
    "start_time": "2022-05-25T11:38:48.444Z"
   },
   {
    "duration": 5,
    "start_time": "2022-05-25T11:39:16.062Z"
   },
   {
    "duration": 8,
    "start_time": "2022-05-25T11:39:43.658Z"
   },
   {
    "duration": 8,
    "start_time": "2022-05-25T11:40:52.855Z"
   },
   {
    "duration": 8,
    "start_time": "2022-05-25T11:41:01.475Z"
   },
   {
    "duration": 7,
    "start_time": "2022-05-25T11:41:15.034Z"
   },
   {
    "duration": 5,
    "start_time": "2022-05-25T11:41:57.909Z"
   },
   {
    "duration": 10292,
    "start_time": "2022-05-25T11:43:35.268Z"
   },
   {
    "duration": 13952,
    "start_time": "2022-05-25T11:43:48.183Z"
   },
   {
    "duration": 3,
    "start_time": "2022-05-25T11:44:06.342Z"
   },
   {
    "duration": 22,
    "start_time": "2022-05-25T11:44:16.030Z"
   },
   {
    "duration": 21,
    "start_time": "2022-05-25T11:44:45.125Z"
   },
   {
    "duration": 3,
    "start_time": "2022-05-25T11:44:48.748Z"
   },
   {
    "duration": 27,
    "start_time": "2022-05-25T11:46:10.759Z"
   },
   {
    "duration": 6,
    "start_time": "2022-05-25T11:46:28.320Z"
   },
   {
    "duration": 6,
    "start_time": "2022-05-25T11:46:41.924Z"
   },
   {
    "duration": 6,
    "start_time": "2022-05-25T11:46:49.581Z"
   },
   {
    "duration": 1231,
    "start_time": "2022-05-25T12:02:00.107Z"
   },
   {
    "duration": 721,
    "start_time": "2022-05-25T12:02:02.855Z"
   },
   {
    "duration": 4,
    "start_time": "2022-05-25T12:02:03.577Z"
   },
   {
    "duration": 138,
    "start_time": "2022-05-25T12:02:03.666Z"
   },
   {
    "duration": 166,
    "start_time": "2022-05-25T12:02:04.000Z"
   },
   {
    "duration": 47,
    "start_time": "2022-05-25T12:02:04.333Z"
   },
   {
    "duration": 11,
    "start_time": "2022-05-25T12:02:04.844Z"
   },
   {
    "duration": 4,
    "start_time": "2022-05-25T12:02:05.467Z"
   },
   {
    "duration": 21,
    "start_time": "2022-05-25T12:02:06.345Z"
   },
   {
    "duration": 21,
    "start_time": "2022-05-25T12:02:06.622Z"
   },
   {
    "duration": 10,
    "start_time": "2022-05-25T12:02:07.274Z"
   },
   {
    "duration": 335,
    "start_time": "2022-05-25T12:02:08.685Z"
   },
   {
    "duration": 599,
    "start_time": "2022-05-25T12:02:09.358Z"
   },
   {
    "duration": 718,
    "start_time": "2022-05-25T12:02:09.959Z"
   },
   {
    "duration": 745,
    "start_time": "2022-05-25T12:02:11.350Z"
   },
   {
    "duration": 10,
    "start_time": "2022-05-25T12:02:12.097Z"
   },
   {
    "duration": 9,
    "start_time": "2022-05-25T12:02:12.561Z"
   },
   {
    "duration": 153,
    "start_time": "2022-05-25T12:02:15.211Z"
   },
   {
    "duration": 648,
    "start_time": "2022-05-25T12:02:15.839Z"
   },
   {
    "duration": 32,
    "start_time": "2022-05-25T12:02:17.561Z"
   },
   {
    "duration": 201,
    "start_time": "2022-05-25T12:02:18.304Z"
   },
   {
    "duration": 665,
    "start_time": "2022-05-25T12:02:18.961Z"
   },
   {
    "duration": 28,
    "start_time": "2022-05-25T12:02:19.675Z"
   },
   {
    "duration": 199,
    "start_time": "2022-05-25T12:02:20.319Z"
   },
   {
    "duration": 830,
    "start_time": "2022-05-25T12:02:20.909Z"
   },
   {
    "duration": 18,
    "start_time": "2022-05-25T12:02:25.698Z"
   },
   {
    "duration": 4,
    "start_time": "2022-05-25T12:02:27.162Z"
   },
   {
    "duration": 17,
    "start_time": "2022-05-25T12:04:18.790Z"
   },
   {
    "duration": 3,
    "start_time": "2022-05-25T12:04:32.106Z"
   },
   {
    "duration": 5,
    "start_time": "2022-05-25T12:04:32.560Z"
   },
   {
    "duration": 10,
    "start_time": "2022-05-25T12:05:36.963Z"
   },
   {
    "duration": 6,
    "start_time": "2022-05-25T12:05:37.582Z"
   },
   {
    "duration": 18,
    "start_time": "2022-05-25T12:05:38.165Z"
   },
   {
    "duration": 9,
    "start_time": "2022-05-25T12:05:38.928Z"
   },
   {
    "duration": 14,
    "start_time": "2022-05-25T12:05:42.863Z"
   },
   {
    "duration": 92,
    "start_time": "2022-05-25T12:05:45.016Z"
   },
   {
    "duration": 5,
    "start_time": "2022-05-25T12:05:45.878Z"
   },
   {
    "duration": 30,
    "start_time": "2022-05-25T12:05:46.798Z"
   },
   {
    "duration": 3,
    "start_time": "2022-05-25T12:05:50.609Z"
   },
   {
    "duration": 146,
    "start_time": "2022-05-25T12:05:52.458Z"
   },
   {
    "duration": 9,
    "start_time": "2022-05-25T12:05:53.797Z"
   },
   {
    "duration": 2,
    "start_time": "2022-05-25T12:05:54.474Z"
   },
   {
    "duration": 74,
    "start_time": "2022-05-25T12:05:56.532Z"
   },
   {
    "duration": 7,
    "start_time": "2022-05-25T12:05:57.229Z"
   },
   {
    "duration": 3,
    "start_time": "2022-05-25T12:09:46.385Z"
   },
   {
    "duration": 45,
    "start_time": "2022-05-25T12:09:47.441Z"
   },
   {
    "duration": 4,
    "start_time": "2022-05-25T12:09:48.681Z"
   },
   {
    "duration": 989,
    "start_time": "2022-05-25T12:09:49.290Z"
   },
   {
    "duration": 2428,
    "start_time": "2022-05-25T12:09:50.957Z"
   },
   {
    "duration": 3,
    "start_time": "2022-05-25T12:09:54.330Z"
   },
   {
    "duration": 338844,
    "start_time": "2022-05-25T12:09:57.874Z"
   },
   {
    "duration": 405893,
    "start_time": "2022-05-25T12:19:43.195Z"
   },
   {
    "duration": 3,
    "start_time": "2022-05-25T12:32:20.627Z"
   },
   {
    "duration": 470,
    "start_time": "2022-05-25T12:32:23.806Z"
   },
   {
    "duration": 4,
    "start_time": "2022-05-25T12:32:31.747Z"
   },
   {
    "duration": 7,
    "start_time": "2022-05-25T12:32:32.555Z"
   },
   {
    "duration": 10530,
    "start_time": "2022-05-25T12:32:41.125Z"
   },
   {
    "duration": 14821,
    "start_time": "2022-05-25T12:32:55.689Z"
   },
   {
    "duration": 4207,
    "start_time": "2022-05-25T12:33:12.437Z"
   },
   {
    "duration": 5779,
    "start_time": "2022-05-25T12:33:17.893Z"
   },
   {
    "duration": 16,
    "start_time": "2022-05-25T12:51:38.196Z"
   },
   {
    "duration": 23,
    "start_time": "2022-05-25T12:51:45.311Z"
   },
   {
    "duration": 36,
    "start_time": "2022-05-25T12:52:08.241Z"
   },
   {
    "duration": 4,
    "start_time": "2022-05-25T12:52:09.262Z"
   },
   {
    "duration": 1268,
    "start_time": "2022-05-25T12:59:20.079Z"
   },
   {
    "duration": 687,
    "start_time": "2022-05-25T12:59:25.506Z"
   },
   {
    "duration": 4,
    "start_time": "2022-05-25T12:59:26.195Z"
   },
   {
    "duration": 154,
    "start_time": "2022-05-25T12:59:26.903Z"
   },
   {
    "duration": 172,
    "start_time": "2022-05-25T12:59:27.459Z"
   },
   {
    "duration": 49,
    "start_time": "2022-05-25T12:59:27.978Z"
   },
   {
    "duration": 10,
    "start_time": "2022-05-25T12:59:28.832Z"
   },
   {
    "duration": 7,
    "start_time": "2022-05-25T12:59:29.941Z"
   },
   {
    "duration": 20,
    "start_time": "2022-05-25T12:59:31.471Z"
   },
   {
    "duration": 27,
    "start_time": "2022-05-25T12:59:31.823Z"
   },
   {
    "duration": 10,
    "start_time": "2022-05-25T12:59:32.200Z"
   },
   {
    "duration": 351,
    "start_time": "2022-05-25T12:59:33.901Z"
   },
   {
    "duration": 616,
    "start_time": "2022-05-25T12:59:34.410Z"
   },
   {
    "duration": 716,
    "start_time": "2022-05-25T12:59:35.028Z"
   },
   {
    "duration": 649,
    "start_time": "2022-05-25T12:59:36.527Z"
   },
   {
    "duration": 8,
    "start_time": "2022-05-25T12:59:37.178Z"
   },
   {
    "duration": 8,
    "start_time": "2022-05-25T12:59:37.514Z"
   },
   {
    "duration": 179,
    "start_time": "2022-05-25T12:59:39.570Z"
   },
   {
    "duration": 698,
    "start_time": "2022-05-25T12:59:40.147Z"
   },
   {
    "duration": 22,
    "start_time": "2022-05-25T12:59:41.480Z"
   },
   {
    "duration": 197,
    "start_time": "2022-05-25T12:59:42.138Z"
   },
   {
    "duration": 761,
    "start_time": "2022-05-25T12:59:42.944Z"
   },
   {
    "duration": 22,
    "start_time": "2022-05-25T12:59:43.707Z"
   },
   {
    "duration": 174,
    "start_time": "2022-05-25T12:59:44.314Z"
   },
   {
    "duration": 781,
    "start_time": "2022-05-25T12:59:44.868Z"
   },
   {
    "duration": 20,
    "start_time": "2022-05-25T12:59:57.964Z"
   },
   {
    "duration": 18,
    "start_time": "2022-05-25T12:59:59.133Z"
   },
   {
    "duration": 3,
    "start_time": "2022-05-25T13:00:01.721Z"
   },
   {
    "duration": 4,
    "start_time": "2022-05-25T13:00:02.358Z"
   },
   {
    "duration": 10,
    "start_time": "2022-05-25T13:00:05.154Z"
   },
   {
    "duration": 4,
    "start_time": "2022-05-25T13:00:05.792Z"
   },
   {
    "duration": 10,
    "start_time": "2022-05-25T13:00:06.399Z"
   },
   {
    "duration": 11,
    "start_time": "2022-05-25T13:00:07.022Z"
   },
   {
    "duration": 14,
    "start_time": "2022-05-25T13:00:09.138Z"
   },
   {
    "duration": 87,
    "start_time": "2022-05-25T13:00:09.659Z"
   },
   {
    "duration": 4,
    "start_time": "2022-05-25T13:00:10.417Z"
   },
   {
    "duration": 28,
    "start_time": "2022-05-25T13:00:11.104Z"
   },
   {
    "duration": 3,
    "start_time": "2022-05-25T13:00:11.701Z"
   },
   {
    "duration": 112,
    "start_time": "2022-05-25T13:00:13.398Z"
   },
   {
    "duration": 8,
    "start_time": "2022-05-25T13:00:14.254Z"
   },
   {
    "duration": 2,
    "start_time": "2022-05-25T13:00:14.956Z"
   },
   {
    "duration": 47,
    "start_time": "2022-05-25T13:00:16.108Z"
   },
   {
    "duration": 5,
    "start_time": "2022-05-25T13:00:16.774Z"
   },
   {
    "duration": 3,
    "start_time": "2022-05-25T13:00:18.517Z"
   },
   {
    "duration": 32,
    "start_time": "2022-05-25T13:00:19.133Z"
   },
   {
    "duration": 4,
    "start_time": "2022-05-25T13:00:20.397Z"
   },
   {
    "duration": 1050,
    "start_time": "2022-05-25T13:00:21.024Z"
   },
   {
    "duration": 1500,
    "start_time": "2022-05-25T13:00:22.076Z"
   },
   {
    "duration": 3,
    "start_time": "2022-05-25T13:00:25.531Z"
   },
   {
    "duration": 1632,
    "start_time": "2022-05-26T14:31:44.945Z"
   },
   {
    "duration": 3253,
    "start_time": "2022-05-26T14:31:48.143Z"
   },
   {
    "duration": 3,
    "start_time": "2022-05-26T14:31:51.398Z"
   },
   {
    "duration": 164,
    "start_time": "2022-05-26T14:31:51.403Z"
   },
   {
    "duration": 180,
    "start_time": "2022-05-26T14:31:51.569Z"
   },
   {
    "duration": 52,
    "start_time": "2022-05-26T14:31:51.751Z"
   },
   {
    "duration": 15,
    "start_time": "2022-05-26T14:31:51.826Z"
   },
   {
    "duration": 5,
    "start_time": "2022-05-26T14:31:53.142Z"
   },
   {
    "duration": 23,
    "start_time": "2022-05-26T14:31:54.946Z"
   },
   {
    "duration": 30,
    "start_time": "2022-05-26T14:31:55.404Z"
   },
   {
    "duration": 10,
    "start_time": "2022-05-26T14:31:55.886Z"
   },
   {
    "duration": 427,
    "start_time": "2022-05-26T14:31:57.850Z"
   },
   {
    "duration": 660,
    "start_time": "2022-05-26T14:31:59.191Z"
   },
   {
    "duration": 814,
    "start_time": "2022-05-26T14:32:00.499Z"
   },
   {
    "duration": 758,
    "start_time": "2022-05-26T14:32:03.982Z"
   },
   {
    "duration": 9,
    "start_time": "2022-05-26T14:32:05.381Z"
   },
   {
    "duration": 10,
    "start_time": "2022-05-26T14:32:06.219Z"
   },
   {
    "duration": 174,
    "start_time": "2022-05-26T14:32:09.572Z"
   },
   {
    "duration": 773,
    "start_time": "2022-05-26T14:32:20.600Z"
   },
   {
    "duration": 24,
    "start_time": "2022-05-26T14:32:42.053Z"
   },
   {
    "duration": 213,
    "start_time": "2022-05-26T14:32:43.163Z"
   },
   {
    "duration": 775,
    "start_time": "2022-05-26T14:32:44.275Z"
   },
   {
    "duration": 22,
    "start_time": "2022-05-26T14:32:45.271Z"
   },
   {
    "duration": 200,
    "start_time": "2022-05-26T14:32:46.364Z"
   },
   {
    "duration": 886,
    "start_time": "2022-05-26T14:32:48.817Z"
   },
   {
    "duration": 24,
    "start_time": "2022-05-26T14:33:16.751Z"
   },
   {
    "duration": 202,
    "start_time": "2022-05-26T14:33:17.972Z"
   },
   {
    "duration": 742,
    "start_time": "2022-05-26T14:33:19.172Z"
   },
   {
    "duration": 26,
    "start_time": "2022-05-26T14:33:22.546Z"
   },
   {
    "duration": 14,
    "start_time": "2022-05-26T14:33:23.908Z"
   },
   {
    "duration": 4,
    "start_time": "2022-05-26T14:33:26.094Z"
   },
   {
    "duration": 4,
    "start_time": "2022-05-26T14:33:26.948Z"
   },
   {
    "duration": 8,
    "start_time": "2022-05-26T14:33:29.841Z"
   },
   {
    "duration": 4,
    "start_time": "2022-05-26T14:33:30.462Z"
   },
   {
    "duration": 10,
    "start_time": "2022-05-26T14:33:31.042Z"
   },
   {
    "duration": 7,
    "start_time": "2022-05-26T14:33:31.673Z"
   },
   {
    "duration": 21,
    "start_time": "2022-05-26T14:33:34.426Z"
   },
   {
    "duration": 90,
    "start_time": "2022-05-26T14:33:35.402Z"
   },
   {
    "duration": 4,
    "start_time": "2022-05-26T14:33:36.343Z"
   },
   {
    "duration": 36,
    "start_time": "2022-05-26T14:33:37.114Z"
   },
   {
    "duration": 3,
    "start_time": "2022-05-26T14:33:42.842Z"
   },
   {
    "duration": 147,
    "start_time": "2022-05-26T14:33:44.922Z"
   },
   {
    "duration": 12,
    "start_time": "2022-05-26T14:33:45.894Z"
   },
   {
    "duration": 3,
    "start_time": "2022-05-26T14:33:46.693Z"
   },
   {
    "duration": 48,
    "start_time": "2022-05-26T14:33:48.262Z"
   },
   {
    "duration": 5,
    "start_time": "2022-05-26T14:33:49.253Z"
   },
   {
    "duration": 4,
    "start_time": "2022-05-26T14:35:41.042Z"
   },
   {
    "duration": 387017,
    "start_time": "2022-05-26T14:35:42.816Z"
   },
   {
    "duration": 446068,
    "start_time": "2022-05-26T14:43:13.541Z"
   },
   {
    "duration": 3,
    "start_time": "2022-05-26T14:50:52.885Z"
   },
   {
    "duration": 3,
    "start_time": "2022-05-26T14:51:00.244Z"
   },
   {
    "duration": 33,
    "start_time": "2022-05-26T14:51:00.951Z"
   },
   {
    "duration": 1183,
    "start_time": "2022-05-26T14:51:01.750Z"
   },
   {
    "duration": 1886,
    "start_time": "2022-05-26T14:51:04.842Z"
   },
   {
    "duration": 10,
    "start_time": "2022-05-26T14:51:07.638Z"
   },
   {
    "duration": 4631,
    "start_time": "2022-05-26T14:51:18.683Z"
   },
   {
    "duration": 6249,
    "start_time": "2022-05-26T14:51:25.329Z"
   },
   {
    "duration": 21156,
    "start_time": "2022-05-26T14:51:52.188Z"
   },
   {
    "duration": 31602,
    "start_time": "2022-05-26T14:52:16.020Z"
   },
   {
    "duration": 25,
    "start_time": "2022-05-26T14:53:20.173Z"
   },
   {
    "duration": 275,
    "start_time": "2022-05-26T15:44:27.394Z"
   },
   {
    "duration": 762,
    "start_time": "2022-05-26T15:44:32.363Z"
   },
   {
    "duration": 4,
    "start_time": "2022-05-26T15:44:33.131Z"
   },
   {
    "duration": 145,
    "start_time": "2022-05-26T15:44:33.136Z"
   },
   {
    "duration": 183,
    "start_time": "2022-05-26T15:44:33.283Z"
   },
   {
    "duration": 74,
    "start_time": "2022-05-26T15:44:33.467Z"
   },
   {
    "duration": 11,
    "start_time": "2022-05-26T15:44:34.391Z"
   },
   {
    "duration": 6,
    "start_time": "2022-05-26T15:44:35.376Z"
   },
   {
    "duration": 20,
    "start_time": "2022-05-26T15:44:36.601Z"
   },
   {
    "duration": 21,
    "start_time": "2022-05-26T15:44:36.873Z"
   },
   {
    "duration": 8,
    "start_time": "2022-05-26T15:44:37.153Z"
   },
   {
    "duration": 591,
    "start_time": "2022-05-26T15:44:38.293Z"
   },
   {
    "duration": 686,
    "start_time": "2022-05-26T15:44:38.886Z"
   },
   {
    "duration": 709,
    "start_time": "2022-05-26T15:44:39.574Z"
   },
   {
    "duration": 708,
    "start_time": "2022-05-26T15:44:40.285Z"
   },
   {
    "duration": 10,
    "start_time": "2022-05-26T15:44:40.995Z"
   },
   {
    "duration": 9,
    "start_time": "2022-05-26T15:44:41.163Z"
   },
   {
    "duration": 193,
    "start_time": "2022-05-26T15:44:42.754Z"
   },
   {
    "duration": 895,
    "start_time": "2022-05-26T15:44:43.112Z"
   },
   {
    "duration": 32,
    "start_time": "2022-05-26T15:44:44.008Z"
   },
   {
    "duration": 239,
    "start_time": "2022-05-26T15:44:44.261Z"
   },
   {
    "duration": 731,
    "start_time": "2022-05-26T15:44:44.605Z"
   },
   {
    "duration": 24,
    "start_time": "2022-05-26T15:44:45.338Z"
   },
   {
    "duration": 193,
    "start_time": "2022-05-26T15:44:45.396Z"
   },
   {
    "duration": 729,
    "start_time": "2022-05-26T15:44:45.897Z"
   },
   {
    "duration": 24,
    "start_time": "2022-05-26T15:44:47.433Z"
   },
   {
    "duration": 12,
    "start_time": "2022-05-26T15:44:49.103Z"
   },
   {
    "duration": 4,
    "start_time": "2022-05-26T15:44:50.965Z"
   },
   {
    "duration": 3,
    "start_time": "2022-05-26T15:44:51.842Z"
   },
   {
    "duration": 9,
    "start_time": "2022-05-26T15:44:57.082Z"
   },
   {
    "duration": 5,
    "start_time": "2022-05-26T15:44:57.391Z"
   },
   {
    "duration": 10,
    "start_time": "2022-05-26T15:44:57.660Z"
   },
   {
    "duration": 10,
    "start_time": "2022-05-26T15:44:57.952Z"
   },
   {
    "duration": 10,
    "start_time": "2022-05-26T15:44:59.669Z"
   },
   {
    "duration": 257,
    "start_time": "2022-05-26T15:45:00.194Z"
   },
   {
    "duration": 5,
    "start_time": "2022-05-26T15:45:00.673Z"
   },
   {
    "duration": 36,
    "start_time": "2022-05-26T15:45:01.008Z"
   },
   {
    "duration": 3,
    "start_time": "2022-05-26T15:45:01.664Z"
   },
   {
    "duration": 136,
    "start_time": "2022-05-26T15:45:03.302Z"
   },
   {
    "duration": 12,
    "start_time": "2022-05-26T15:45:03.928Z"
   },
   {
    "duration": 3,
    "start_time": "2022-05-26T15:45:04.699Z"
   },
   {
    "duration": 66,
    "start_time": "2022-05-26T15:45:08.070Z"
   },
   {
    "duration": 6,
    "start_time": "2022-05-26T15:45:08.642Z"
   },
   {
    "duration": 32,
    "start_time": "2022-05-26T15:51:33.984Z"
   },
   {
    "duration": 145,
    "start_time": "2022-05-26T15:51:43.669Z"
   },
   {
    "duration": 1460,
    "start_time": "2022-05-26T15:52:41.352Z"
   },
   {
    "duration": 3145,
    "start_time": "2022-05-26T15:52:44.093Z"
   },
   {
    "duration": 4,
    "start_time": "2022-05-26T15:52:47.924Z"
   },
   {
    "duration": 175,
    "start_time": "2022-05-26T15:52:49.719Z"
   },
   {
    "duration": 169,
    "start_time": "2022-05-26T15:52:50.303Z"
   },
   {
    "duration": 63,
    "start_time": "2022-05-26T15:52:50.724Z"
   },
   {
    "duration": 12,
    "start_time": "2022-05-26T15:52:52.263Z"
   },
   {
    "duration": 6,
    "start_time": "2022-05-26T15:52:53.706Z"
   },
   {
    "duration": 27,
    "start_time": "2022-05-26T15:52:55.372Z"
   },
   {
    "duration": 24,
    "start_time": "2022-05-26T15:52:55.862Z"
   },
   {
    "duration": 9,
    "start_time": "2022-05-26T15:52:56.337Z"
   },
   {
    "duration": 429,
    "start_time": "2022-05-26T15:52:58.198Z"
   },
   {
    "duration": 716,
    "start_time": "2022-05-26T15:52:59.274Z"
   },
   {
    "duration": 854,
    "start_time": "2022-05-26T15:53:00.606Z"
   },
   {
    "duration": 781,
    "start_time": "2022-05-26T15:53:04.449Z"
   },
   {
    "duration": 10,
    "start_time": "2022-05-26T15:53:05.912Z"
   },
   {
    "duration": 9,
    "start_time": "2022-05-26T15:53:06.757Z"
   },
   {
    "duration": 197,
    "start_time": "2022-05-26T15:53:09.593Z"
   },
   {
    "duration": 787,
    "start_time": "2022-05-26T15:53:10.992Z"
   },
   {
    "duration": 37,
    "start_time": "2022-05-26T15:53:12.913Z"
   },
   {
    "duration": 223,
    "start_time": "2022-05-26T15:53:13.888Z"
   },
   {
    "duration": 798,
    "start_time": "2022-05-26T15:53:15.352Z"
   },
   {
    "duration": 26,
    "start_time": "2022-05-26T15:53:16.418Z"
   },
   {
    "duration": 328,
    "start_time": "2022-05-26T15:53:17.447Z"
   },
   {
    "duration": 744,
    "start_time": "2022-05-26T15:53:18.084Z"
   },
   {
    "duration": 26,
    "start_time": "2022-05-26T15:53:20.338Z"
   },
   {
    "duration": 17,
    "start_time": "2022-05-26T15:53:22.159Z"
   },
   {
    "duration": 4,
    "start_time": "2022-05-26T15:53:23.952Z"
   },
   {
    "duration": 3,
    "start_time": "2022-05-26T15:53:24.542Z"
   },
   {
    "duration": 12,
    "start_time": "2022-05-26T15:53:27.171Z"
   },
   {
    "duration": 5,
    "start_time": "2022-05-26T15:53:27.886Z"
   },
   {
    "duration": 10,
    "start_time": "2022-05-26T15:53:28.424Z"
   },
   {
    "duration": 8,
    "start_time": "2022-05-26T15:53:29.162Z"
   },
   {
    "duration": 14,
    "start_time": "2022-05-26T15:53:32.962Z"
   },
   {
    "duration": 90,
    "start_time": "2022-05-26T15:53:33.582Z"
   },
   {
    "duration": 5,
    "start_time": "2022-05-26T15:53:34.146Z"
   },
   {
    "duration": 32,
    "start_time": "2022-05-26T15:53:34.730Z"
   },
   {
    "duration": 4,
    "start_time": "2022-05-26T15:53:35.246Z"
   },
   {
    "duration": 173,
    "start_time": "2022-05-26T15:53:36.977Z"
   },
   {
    "duration": 13,
    "start_time": "2022-05-26T15:53:37.685Z"
   },
   {
    "duration": 3,
    "start_time": "2022-05-26T15:53:38.344Z"
   },
   {
    "duration": 66,
    "start_time": "2022-05-26T15:53:39.813Z"
   },
   {
    "duration": 6,
    "start_time": "2022-05-26T15:53:40.548Z"
   },
   {
    "duration": 63,
    "start_time": "2022-05-26T15:54:17.283Z"
   },
   {
    "duration": 1577,
    "start_time": "2022-05-26T16:07:18.588Z"
   },
   {
    "duration": 3304,
    "start_time": "2022-05-26T16:07:21.963Z"
   },
   {
    "duration": 3,
    "start_time": "2022-05-26T16:07:25.269Z"
   },
   {
    "duration": 153,
    "start_time": "2022-05-26T16:07:25.274Z"
   },
   {
    "duration": 172,
    "start_time": "2022-05-26T16:07:25.428Z"
   },
   {
    "duration": 64,
    "start_time": "2022-05-26T16:07:25.602Z"
   },
   {
    "duration": 10,
    "start_time": "2022-05-26T16:07:26.293Z"
   },
   {
    "duration": 5,
    "start_time": "2022-05-26T16:07:27.565Z"
   },
   {
    "duration": 22,
    "start_time": "2022-05-26T16:07:29.577Z"
   },
   {
    "duration": 26,
    "start_time": "2022-05-26T16:07:29.849Z"
   },
   {
    "duration": 8,
    "start_time": "2022-05-26T16:07:30.162Z"
   },
   {
    "duration": 411,
    "start_time": "2022-05-26T16:07:31.847Z"
   },
   {
    "duration": 652,
    "start_time": "2022-05-26T16:07:32.259Z"
   },
   {
    "duration": 766,
    "start_time": "2022-05-26T16:07:32.913Z"
   },
   {
    "duration": 677,
    "start_time": "2022-05-26T16:07:33.681Z"
   },
   {
    "duration": 9,
    "start_time": "2022-05-26T16:07:34.360Z"
   },
   {
    "duration": 8,
    "start_time": "2022-05-26T16:07:34.512Z"
   },
   {
    "duration": 170,
    "start_time": "2022-05-26T16:07:36.089Z"
   },
   {
    "duration": 773,
    "start_time": "2022-05-26T16:07:36.844Z"
   },
   {
    "duration": 27,
    "start_time": "2022-05-26T16:07:37.857Z"
   },
   {
    "duration": 227,
    "start_time": "2022-05-26T16:07:38.427Z"
   },
   {
    "duration": 740,
    "start_time": "2022-05-26T16:07:39.015Z"
   },
   {
    "duration": 24,
    "start_time": "2022-05-26T16:07:39.757Z"
   },
   {
    "duration": 338,
    "start_time": "2022-05-26T16:07:40.119Z"
   },
   {
    "duration": 753,
    "start_time": "2022-05-26T16:07:40.744Z"
   },
   {
    "duration": 21,
    "start_time": "2022-05-26T16:07:43.560Z"
   },
   {
    "duration": 13,
    "start_time": "2022-05-26T16:07:45.002Z"
   },
   {
    "duration": 11,
    "start_time": "2022-05-26T16:07:46.623Z"
   },
   {
    "duration": 3,
    "start_time": "2022-05-26T16:07:47.468Z"
   },
   {
    "duration": 9,
    "start_time": "2022-05-26T16:07:50.056Z"
   },
   {
    "duration": 4,
    "start_time": "2022-05-26T16:07:50.458Z"
   },
   {
    "duration": 11,
    "start_time": "2022-05-26T16:07:50.913Z"
   },
   {
    "duration": 7,
    "start_time": "2022-05-26T16:07:51.307Z"
   },
   {
    "duration": 13,
    "start_time": "2022-05-26T16:07:53.970Z"
   },
   {
    "duration": 123,
    "start_time": "2022-05-26T16:07:54.369Z"
   },
   {
    "duration": 4,
    "start_time": "2022-05-26T16:07:55.106Z"
   },
   {
    "duration": 30,
    "start_time": "2022-05-26T16:07:55.890Z"
   },
   {
    "duration": 3,
    "start_time": "2022-05-26T16:07:56.568Z"
   },
   {
    "duration": 131,
    "start_time": "2022-05-26T16:07:59.063Z"
   },
   {
    "duration": 12,
    "start_time": "2022-05-26T16:07:59.557Z"
   },
   {
    "duration": 3,
    "start_time": "2022-05-26T16:08:00.191Z"
   },
   {
    "duration": 48,
    "start_time": "2022-05-26T16:08:01.647Z"
   },
   {
    "duration": 6,
    "start_time": "2022-05-26T16:08:02.424Z"
   },
   {
    "duration": 3,
    "start_time": "2022-05-26T16:08:06.906Z"
   },
   {
    "duration": 60,
    "start_time": "2022-05-26T16:10:22.438Z"
   },
   {
    "duration": 1357,
    "start_time": "2022-05-26T16:10:28.603Z"
   },
   {
    "duration": 3273,
    "start_time": "2022-05-26T16:10:31.925Z"
   },
   {
    "duration": 4,
    "start_time": "2022-05-26T16:10:35.200Z"
   },
   {
    "duration": 173,
    "start_time": "2022-05-26T16:10:35.206Z"
   },
   {
    "duration": 178,
    "start_time": "2022-05-26T16:10:35.383Z"
   },
   {
    "duration": 77,
    "start_time": "2022-05-26T16:10:35.563Z"
   },
   {
    "duration": 9,
    "start_time": "2022-05-26T16:10:35.644Z"
   },
   {
    "duration": 8,
    "start_time": "2022-05-26T16:10:36.734Z"
   },
   {
    "duration": 34,
    "start_time": "2022-05-26T16:10:38.908Z"
   },
   {
    "duration": 25,
    "start_time": "2022-05-26T16:10:39.426Z"
   },
   {
    "duration": 9,
    "start_time": "2022-05-26T16:10:39.914Z"
   },
   {
    "duration": 396,
    "start_time": "2022-05-26T16:10:41.798Z"
   },
   {
    "duration": 683,
    "start_time": "2022-05-26T16:10:42.371Z"
   },
   {
    "duration": 779,
    "start_time": "2022-05-26T16:10:43.056Z"
   },
   {
    "duration": 634,
    "start_time": "2022-05-26T16:10:44.672Z"
   },
   {
    "duration": 9,
    "start_time": "2022-05-26T16:10:45.308Z"
   },
   {
    "duration": 10,
    "start_time": "2022-05-26T16:10:45.806Z"
   },
   {
    "duration": 178,
    "start_time": "2022-05-26T16:10:48.101Z"
   },
   {
    "duration": 752,
    "start_time": "2022-05-26T16:10:49.214Z"
   },
   {
    "duration": 26,
    "start_time": "2022-05-26T16:10:50.435Z"
   },
   {
    "duration": 205,
    "start_time": "2022-05-26T16:10:51.017Z"
   },
   {
    "duration": 745,
    "start_time": "2022-05-26T16:11:08.157Z"
   },
   {
    "duration": 98,
    "start_time": "2022-05-26T16:11:22.523Z"
   },
   {
    "duration": 4,
    "start_time": "2022-05-26T16:11:42.776Z"
   },
   {
    "duration": 798,
    "start_time": "2022-05-26T16:11:44.319Z"
   },
   {
    "duration": 4,
    "start_time": "2022-05-26T16:11:45.119Z"
   },
   {
    "duration": 266,
    "start_time": "2022-05-26T16:11:45.374Z"
   },
   {
    "duration": 176,
    "start_time": "2022-05-26T16:11:45.714Z"
   },
   {
    "duration": 51,
    "start_time": "2022-05-26T16:11:46.039Z"
   },
   {
    "duration": 10,
    "start_time": "2022-05-26T16:11:47.364Z"
   },
   {
    "duration": 7,
    "start_time": "2022-05-26T16:11:48.130Z"
   },
   {
    "duration": 20,
    "start_time": "2022-05-26T16:11:50.047Z"
   },
   {
    "duration": 21,
    "start_time": "2022-05-26T16:11:50.258Z"
   },
   {
    "duration": 9,
    "start_time": "2022-05-26T16:11:50.487Z"
   },
   {
    "duration": 445,
    "start_time": "2022-05-26T16:11:52.737Z"
   },
   {
    "duration": 653,
    "start_time": "2022-05-26T16:11:53.782Z"
   },
   {
    "duration": 662,
    "start_time": "2022-05-26T16:11:54.540Z"
   },
   {
    "duration": 696,
    "start_time": "2022-05-26T16:11:57.480Z"
   },
   {
    "duration": 9,
    "start_time": "2022-05-26T16:11:58.846Z"
   },
   {
    "duration": 9,
    "start_time": "2022-05-26T16:11:59.579Z"
   },
   {
    "duration": 315,
    "start_time": "2022-05-26T16:12:02.452Z"
   },
   {
    "duration": 751,
    "start_time": "2022-05-26T16:12:03.774Z"
   },
   {
    "duration": 22,
    "start_time": "2022-05-26T16:13:16.435Z"
   },
   {
    "duration": 224,
    "start_time": "2022-05-26T16:13:20.217Z"
   },
   {
    "duration": 707,
    "start_time": "2022-05-26T16:13:21.276Z"
   },
   {
    "duration": 27,
    "start_time": "2022-05-26T16:14:31.837Z"
   },
   {
    "duration": 198,
    "start_time": "2022-05-26T16:14:34.445Z"
   },
   {
    "duration": 893,
    "start_time": "2022-05-26T16:14:35.896Z"
   },
   {
    "duration": 21,
    "start_time": "2022-05-26T16:21:50.603Z"
   },
   {
    "duration": 13,
    "start_time": "2022-05-26T16:21:51.811Z"
   },
   {
    "duration": 3,
    "start_time": "2022-05-26T16:21:53.465Z"
   },
   {
    "duration": 8,
    "start_time": "2022-05-26T16:21:54.024Z"
   },
   {
    "duration": 8,
    "start_time": "2022-05-26T16:21:59.952Z"
   },
   {
    "duration": 4,
    "start_time": "2022-05-26T16:22:00.408Z"
   },
   {
    "duration": 11,
    "start_time": "2022-05-26T16:22:00.967Z"
   },
   {
    "duration": 8,
    "start_time": "2022-05-26T16:22:01.517Z"
   },
   {
    "duration": 8,
    "start_time": "2022-05-26T16:22:04.046Z"
   },
   {
    "duration": 52,
    "start_time": "2022-05-26T16:22:04.584Z"
   },
   {
    "duration": 4,
    "start_time": "2022-05-26T16:22:05.217Z"
   },
   {
    "duration": 37,
    "start_time": "2022-05-26T16:22:05.905Z"
   },
   {
    "duration": 2,
    "start_time": "2022-05-26T16:22:06.500Z"
   },
   {
    "duration": 67,
    "start_time": "2022-05-26T16:22:08.488Z"
   },
   {
    "duration": 8,
    "start_time": "2022-05-26T16:22:09.143Z"
   },
   {
    "duration": 2,
    "start_time": "2022-05-26T16:22:09.784Z"
   },
   {
    "duration": 48,
    "start_time": "2022-05-26T16:22:11.343Z"
   },
   {
    "duration": 6,
    "start_time": "2022-05-26T16:22:11.970Z"
   },
   {
    "duration": 4,
    "start_time": "2022-05-26T16:22:15.117Z"
   },
   {
    "duration": 646,
    "start_time": "2022-05-26T16:22:18.925Z"
   },
   {
    "duration": 646,
    "start_time": "2022-05-26T16:22:44.718Z"
   },
   {
    "duration": 1554,
    "start_time": "2022-05-26T20:39:12.356Z"
   },
   {
    "duration": 3107,
    "start_time": "2022-05-26T20:39:15.421Z"
   },
   {
    "duration": 3,
    "start_time": "2022-05-26T20:39:18.530Z"
   },
   {
    "duration": 144,
    "start_time": "2022-05-26T20:39:18.535Z"
   },
   {
    "duration": 161,
    "start_time": "2022-05-26T20:39:18.682Z"
   },
   {
    "duration": 47,
    "start_time": "2022-05-26T20:39:18.844Z"
   },
   {
    "duration": 8,
    "start_time": "2022-05-26T20:39:18.893Z"
   },
   {
    "duration": 26,
    "start_time": "2022-05-26T20:39:18.902Z"
   },
   {
    "duration": 35,
    "start_time": "2022-05-26T20:39:18.929Z"
   },
   {
    "duration": 21,
    "start_time": "2022-05-26T20:39:18.966Z"
   },
   {
    "duration": 13,
    "start_time": "2022-05-26T20:39:18.989Z"
   },
   {
    "duration": 347,
    "start_time": "2022-05-26T20:39:19.844Z"
   },
   {
    "duration": 648,
    "start_time": "2022-05-26T20:39:20.326Z"
   },
   {
    "duration": 789,
    "start_time": "2022-05-26T20:39:20.977Z"
   },
   {
    "duration": 661,
    "start_time": "2022-05-26T20:39:21.768Z"
   },
   {
    "duration": 9,
    "start_time": "2022-05-26T20:39:22.431Z"
   },
   {
    "duration": 25,
    "start_time": "2022-05-26T20:39:22.441Z"
   },
   {
    "duration": 170,
    "start_time": "2022-05-26T20:39:22.654Z"
   },
   {
    "duration": 703,
    "start_time": "2022-05-26T20:39:22.883Z"
   },
   {
    "duration": 25,
    "start_time": "2022-05-26T20:39:23.737Z"
   },
   {
    "duration": 191,
    "start_time": "2022-05-26T20:39:23.988Z"
   },
   {
    "duration": 656,
    "start_time": "2022-05-26T20:39:24.279Z"
   },
   {
    "duration": 27,
    "start_time": "2022-05-26T20:39:24.937Z"
   },
   {
    "duration": 286,
    "start_time": "2022-05-26T20:39:24.966Z"
   },
   {
    "duration": 652,
    "start_time": "2022-05-26T20:39:25.254Z"
   },
   {
    "duration": 20,
    "start_time": "2022-05-26T20:39:26.006Z"
   },
   {
    "duration": 11,
    "start_time": "2022-05-26T20:39:27.558Z"
   },
   {
    "duration": 4,
    "start_time": "2022-05-26T20:39:28.797Z"
   },
   {
    "duration": 3,
    "start_time": "2022-05-26T20:39:29.277Z"
   },
   {
    "duration": 8,
    "start_time": "2022-05-26T20:39:31.639Z"
   },
   {
    "duration": 4,
    "start_time": "2022-05-26T20:39:32.491Z"
   },
   {
    "duration": 10,
    "start_time": "2022-05-26T20:39:32.983Z"
   },
   {
    "duration": 10,
    "start_time": "2022-05-26T20:39:33.358Z"
   },
   {
    "duration": 11,
    "start_time": "2022-05-26T20:39:35.399Z"
   },
   {
    "duration": 49,
    "start_time": "2022-05-26T20:39:35.710Z"
   },
   {
    "duration": 4,
    "start_time": "2022-05-26T20:39:36.109Z"
   },
   {
    "duration": 34,
    "start_time": "2022-05-26T20:39:36.511Z"
   },
   {
    "duration": 4,
    "start_time": "2022-05-26T20:39:37.079Z"
   },
   {
    "duration": 64,
    "start_time": "2022-05-26T20:39:38.795Z"
   },
   {
    "duration": 8,
    "start_time": "2022-05-26T20:39:39.596Z"
   },
   {
    "duration": 3,
    "start_time": "2022-05-26T20:39:40.146Z"
   },
   {
    "duration": 45,
    "start_time": "2022-05-26T20:39:41.541Z"
   },
   {
    "duration": 8,
    "start_time": "2022-05-26T20:39:42.431Z"
   },
   {
    "duration": 4,
    "start_time": "2022-05-26T20:39:44.247Z"
   },
   {
    "duration": 771,
    "start_time": "2022-05-26T20:43:12.851Z"
   },
   {
    "duration": 1141,
    "start_time": "2022-05-26T20:45:12.136Z"
   },
   {
    "duration": 72,
    "start_time": "2022-05-26T20:47:21.749Z"
   },
   {
    "duration": 1335,
    "start_time": "2022-05-26T20:47:27.462Z"
   },
   {
    "duration": 718,
    "start_time": "2022-05-26T20:47:30.264Z"
   },
   {
    "duration": 4,
    "start_time": "2022-05-26T20:47:30.984Z"
   },
   {
    "duration": 159,
    "start_time": "2022-05-26T20:47:31.227Z"
   },
   {
    "duration": 192,
    "start_time": "2022-05-26T20:47:31.687Z"
   },
   {
    "duration": 56,
    "start_time": "2022-05-26T20:47:32.037Z"
   },
   {
    "duration": 13,
    "start_time": "2022-05-26T20:47:32.452Z"
   },
   {
    "duration": 6,
    "start_time": "2022-05-26T20:47:33.049Z"
   },
   {
    "duration": 22,
    "start_time": "2022-05-26T20:47:34.293Z"
   },
   {
    "duration": 23,
    "start_time": "2022-05-26T20:47:34.515Z"
   },
   {
    "duration": 10,
    "start_time": "2022-05-26T20:47:34.742Z"
   },
   {
    "duration": 339,
    "start_time": "2022-05-26T20:47:35.626Z"
   },
   {
    "duration": 727,
    "start_time": "2022-05-26T20:47:35.967Z"
   },
   {
    "duration": 759,
    "start_time": "2022-05-26T20:47:36.696Z"
   },
   {
    "duration": 737,
    "start_time": "2022-05-26T20:47:37.458Z"
   },
   {
    "duration": 11,
    "start_time": "2022-05-26T20:47:38.197Z"
   },
   {
    "duration": 26,
    "start_time": "2022-05-26T20:47:38.210Z"
   },
   {
    "duration": 162,
    "start_time": "2022-05-26T20:47:38.353Z"
   },
   {
    "duration": 726,
    "start_time": "2022-05-26T20:47:38.714Z"
   },
   {
    "duration": 25,
    "start_time": "2022-05-26T20:47:39.442Z"
   },
   {
    "duration": 205,
    "start_time": "2022-05-26T20:47:39.469Z"
   },
   {
    "duration": 701,
    "start_time": "2022-05-26T20:47:39.676Z"
   },
   {
    "duration": 26,
    "start_time": "2022-05-26T20:47:40.380Z"
   },
   {
    "duration": 298,
    "start_time": "2022-05-26T20:47:40.408Z"
   },
   {
    "duration": 721,
    "start_time": "2022-05-26T20:47:40.709Z"
   },
   {
    "duration": 19,
    "start_time": "2022-05-26T20:47:41.432Z"
   },
   {
    "duration": 15,
    "start_time": "2022-05-26T20:47:41.518Z"
   },
   {
    "duration": 3,
    "start_time": "2022-05-26T20:47:43.146Z"
   },
   {
    "duration": 3,
    "start_time": "2022-05-26T20:47:43.568Z"
   },
   {
    "duration": 8,
    "start_time": "2022-05-26T20:47:45.001Z"
   },
   {
    "duration": 4,
    "start_time": "2022-05-26T20:47:45.293Z"
   },
   {
    "duration": 9,
    "start_time": "2022-05-26T20:47:45.488Z"
   },
   {
    "duration": 8,
    "start_time": "2022-05-26T20:47:45.745Z"
   },
   {
    "duration": 11,
    "start_time": "2022-05-26T20:47:47.672Z"
   },
   {
    "duration": 40,
    "start_time": "2022-05-26T20:47:48.159Z"
   },
   {
    "duration": 5,
    "start_time": "2022-05-26T20:47:48.809Z"
   },
   {
    "duration": 24,
    "start_time": "2022-05-26T20:47:49.365Z"
   },
   {
    "duration": 3,
    "start_time": "2022-05-26T20:47:49.887Z"
   },
   {
    "duration": 57,
    "start_time": "2022-05-26T20:47:52.190Z"
   },
   {
    "duration": 8,
    "start_time": "2022-05-26T20:47:52.685Z"
   },
   {
    "duration": 3,
    "start_time": "2022-05-26T20:47:53.307Z"
   },
   {
    "duration": 44,
    "start_time": "2022-05-26T20:47:54.728Z"
   },
   {
    "duration": 6,
    "start_time": "2022-05-26T20:47:55.354Z"
   },
   {
    "duration": 3,
    "start_time": "2022-05-26T20:47:56.656Z"
   },
   {
    "duration": 1681,
    "start_time": "2022-05-26T20:48:00.043Z"
   },
   {
    "duration": 642,
    "start_time": "2022-05-26T20:55:20.157Z"
   },
   {
    "duration": 105738,
    "start_time": "2022-05-26T21:02:12.159Z"
   },
   {
    "duration": 246289,
    "start_time": "2022-05-26T21:04:11.498Z"
   },
   {
    "duration": 297842,
    "start_time": "2022-05-26T21:13:57.426Z"
   },
   {
    "duration": 258913,
    "start_time": "2022-05-26T21:20:41.897Z"
   },
   {
    "duration": 4,
    "start_time": "2022-05-26T21:25:52.595Z"
   },
   {
    "duration": 255864,
    "start_time": "2022-05-26T21:27:15.428Z"
   },
   {
    "duration": 389948,
    "start_time": "2022-05-26T21:33:07.045Z"
   },
   {
    "duration": 3,
    "start_time": "2022-05-26T21:39:41.813Z"
   },
   {
    "duration": 3,
    "start_time": "2022-05-26T21:40:07.924Z"
   },
   {
    "duration": 33,
    "start_time": "2022-05-26T21:40:08.623Z"
   },
   {
    "duration": 723,
    "start_time": "2022-05-26T21:40:09.523Z"
   },
   {
    "duration": 1131,
    "start_time": "2022-05-26T21:40:12.824Z"
   },
   {
    "duration": 3,
    "start_time": "2022-05-26T21:40:22.894Z"
   },
   {
    "duration": 605,
    "start_time": "2022-05-26T21:49:48.796Z"
   },
   {
    "duration": 926,
    "start_time": "2022-05-26T21:51:55.934Z"
   },
   {
    "duration": 704,
    "start_time": "2022-05-26T21:52:20.311Z"
   },
   {
    "duration": 4,
    "start_time": "2022-05-26T21:56:51.721Z"
   },
   {
    "duration": 719,
    "start_time": "2022-05-26T22:05:28.242Z"
   },
   {
    "duration": 787,
    "start_time": "2022-05-26T22:06:54.593Z"
   },
   {
    "duration": 608,
    "start_time": "2022-05-26T22:07:00.846Z"
   },
   {
    "duration": 673,
    "start_time": "2022-05-26T22:07:05.625Z"
   },
   {
    "duration": 610,
    "start_time": "2022-05-26T22:07:10.212Z"
   },
   {
    "duration": 755,
    "start_time": "2022-05-26T22:07:55.186Z"
   },
   {
    "duration": 4,
    "start_time": "2022-05-26T22:08:29.515Z"
   },
   {
    "duration": 29,
    "start_time": "2022-05-26T22:11:35.359Z"
   },
   {
    "duration": 23,
    "start_time": "2022-05-26T22:13:59.504Z"
   },
   {
    "duration": 20,
    "start_time": "2022-05-26T22:14:15.273Z"
   },
   {
    "duration": 16,
    "start_time": "2022-05-26T22:14:18.817Z"
   },
   {
    "duration": 1192,
    "start_time": "2022-05-26T22:17:00.843Z"
   },
   {
    "duration": 1263,
    "start_time": "2022-05-26T22:17:22.008Z"
   },
   {
    "duration": 755,
    "start_time": "2022-05-26T22:18:02.234Z"
   },
   {
    "duration": 819,
    "start_time": "2022-05-26T22:18:15.285Z"
   },
   {
    "duration": 2220,
    "start_time": "2022-05-27T08:11:48.936Z"
   },
   {
    "duration": 7727,
    "start_time": "2022-05-27T08:11:55.346Z"
   },
   {
    "duration": 10,
    "start_time": "2022-05-27T08:12:05.548Z"
   },
   {
    "duration": 261,
    "start_time": "2022-05-27T08:12:06.165Z"
   },
   {
    "duration": 262,
    "start_time": "2022-05-27T08:12:06.709Z"
   },
   {
    "duration": 82,
    "start_time": "2022-05-27T08:12:07.094Z"
   },
   {
    "duration": 14,
    "start_time": "2022-05-27T08:12:07.684Z"
   },
   {
    "duration": 14,
    "start_time": "2022-05-27T08:12:08.446Z"
   },
   {
    "duration": 39,
    "start_time": "2022-05-27T08:12:09.393Z"
   },
   {
    "duration": 42,
    "start_time": "2022-05-27T08:12:09.606Z"
   },
   {
    "duration": 11,
    "start_time": "2022-05-27T08:12:09.807Z"
   },
   {
    "duration": 608,
    "start_time": "2022-05-27T08:12:10.728Z"
   },
   {
    "duration": 1038,
    "start_time": "2022-05-27T08:12:11.341Z"
   },
   {
    "duration": 1400,
    "start_time": "2022-05-27T08:12:12.381Z"
   },
   {
    "duration": 1054,
    "start_time": "2022-05-27T08:12:13.786Z"
   },
   {
    "duration": 20,
    "start_time": "2022-05-27T08:12:14.841Z"
   },
   {
    "duration": 83,
    "start_time": "2022-05-27T08:12:14.863Z"
   },
   {
    "duration": 342,
    "start_time": "2022-05-27T08:12:22.796Z"
   },
   {
    "duration": 1314,
    "start_time": "2022-05-27T08:12:23.696Z"
   },
   {
    "duration": 41,
    "start_time": "2022-05-27T08:12:29.014Z"
   },
   {
    "duration": 365,
    "start_time": "2022-05-27T08:12:29.637Z"
   },
   {
    "duration": 1146,
    "start_time": "2022-05-27T08:12:30.326Z"
   },
   {
    "duration": 34,
    "start_time": "2022-05-27T08:12:33.832Z"
   },
   {
    "duration": 561,
    "start_time": "2022-05-27T08:12:34.588Z"
   },
   {
    "duration": 1261,
    "start_time": "2022-05-27T08:12:38.000Z"
   },
   {
    "duration": 23,
    "start_time": "2022-05-27T08:13:22.031Z"
   },
   {
    "duration": 19,
    "start_time": "2022-05-27T08:13:24.212Z"
   },
   {
    "duration": 16,
    "start_time": "2022-05-27T08:13:41.299Z"
   },
   {
    "duration": 4,
    "start_time": "2022-05-27T08:13:42.836Z"
   },
   {
    "duration": 14,
    "start_time": "2022-05-27T08:13:56.462Z"
   },
   {
    "duration": 8,
    "start_time": "2022-05-27T08:13:59.904Z"
   },
   {
    "duration": 19,
    "start_time": "2022-05-27T08:14:03.152Z"
   },
   {
    "duration": 18,
    "start_time": "2022-05-27T08:14:05.163Z"
   },
   {
    "duration": 13,
    "start_time": "2022-05-27T08:17:48.520Z"
   },
   {
    "duration": 98,
    "start_time": "2022-05-27T08:17:58.210Z"
   },
   {
    "duration": 13,
    "start_time": "2022-05-27T08:17:59.400Z"
   },
   {
    "duration": 83,
    "start_time": "2022-05-27T08:18:05.224Z"
   },
   {
    "duration": 7,
    "start_time": "2022-05-27T08:18:06.311Z"
   },
   {
    "duration": 143,
    "start_time": "2022-05-27T08:18:08.543Z"
   },
   {
    "duration": 22,
    "start_time": "2022-05-27T08:18:09.378Z"
   },
   {
    "duration": 8,
    "start_time": "2022-05-27T08:18:09.990Z"
   },
   {
    "duration": 199,
    "start_time": "2022-05-27T08:18:12.554Z"
   },
   {
    "duration": 5,
    "start_time": "2022-05-27T08:18:44.697Z"
   },
   {
    "duration": 35,
    "start_time": "2022-05-27T08:18:55.540Z"
   },
   {
    "duration": 58,
    "start_time": "2022-05-27T08:19:26.212Z"
   },
   {
    "duration": 16,
    "start_time": "2022-05-27T08:19:49.915Z"
   },
   {
    "duration": 24,
    "start_time": "2022-05-27T08:20:01.278Z"
   },
   {
    "duration": 17,
    "start_time": "2022-05-27T08:20:15.297Z"
   },
   {
    "duration": 306,
    "start_time": "2022-05-27T08:20:55.872Z"
   },
   {
    "duration": 22,
    "start_time": "2022-05-27T08:21:06.184Z"
   },
   {
    "duration": 18,
    "start_time": "2022-05-27T08:21:41.864Z"
   },
   {
    "duration": 1288,
    "start_time": "2022-05-27T08:21:43.500Z"
   },
   {
    "duration": 18,
    "start_time": "2022-05-27T08:21:45.328Z"
   },
   {
    "duration": 324,
    "start_time": "2022-05-27T08:21:46.051Z"
   },
   {
    "duration": 295,
    "start_time": "2022-05-27T08:21:46.567Z"
   },
   {
    "duration": 117,
    "start_time": "2022-05-27T08:21:47.101Z"
   },
   {
    "duration": 28,
    "start_time": "2022-05-27T08:21:48.254Z"
   },
   {
    "duration": 10,
    "start_time": "2022-05-27T08:21:50.076Z"
   },
   {
    "duration": 47,
    "start_time": "2022-05-27T08:21:52.255Z"
   },
   {
    "duration": 35,
    "start_time": "2022-05-27T08:21:52.752Z"
   },
   {
    "duration": 14,
    "start_time": "2022-05-27T08:21:53.267Z"
   },
   {
    "duration": 862,
    "start_time": "2022-05-27T08:21:55.793Z"
   },
   {
    "duration": 1277,
    "start_time": "2022-05-27T08:21:57.554Z"
   },
   {
    "duration": 1299,
    "start_time": "2022-05-27T08:21:58.837Z"
   },
   {
    "duration": 1302,
    "start_time": "2022-05-27T08:22:00.143Z"
   },
   {
    "duration": 20,
    "start_time": "2022-05-27T08:22:01.451Z"
   },
   {
    "duration": 210,
    "start_time": "2022-05-27T08:22:01.477Z"
   },
   {
    "duration": 427,
    "start_time": "2022-05-27T08:22:02.952Z"
   },
   {
    "duration": 1341,
    "start_time": "2022-05-27T08:22:03.467Z"
   },
   {
    "duration": 41,
    "start_time": "2022-05-27T08:22:04.815Z"
   },
   {
    "duration": 483,
    "start_time": "2022-05-27T08:22:05.295Z"
   },
   {
    "duration": 1687,
    "start_time": "2022-05-27T08:22:05.831Z"
   },
   {
    "duration": 42,
    "start_time": "2022-05-27T08:22:07.524Z"
   },
   {
    "duration": 432,
    "start_time": "2022-05-27T08:22:07.574Z"
   },
   {
    "duration": 1273,
    "start_time": "2022-05-27T08:22:08.013Z"
   },
   {
    "duration": 43,
    "start_time": "2022-05-27T08:22:10.169Z"
   },
   {
    "duration": 18,
    "start_time": "2022-05-27T08:22:40.183Z"
   },
   {
    "duration": 8,
    "start_time": "2022-05-27T08:22:41.876Z"
   },
   {
    "duration": 6,
    "start_time": "2022-05-27T08:22:42.380Z"
   },
   {
    "duration": 11,
    "start_time": "2022-05-27T08:22:46.248Z"
   },
   {
    "duration": 6,
    "start_time": "2022-05-27T08:22:48.313Z"
   },
   {
    "duration": 35,
    "start_time": "2022-05-27T08:23:10.184Z"
   },
   {
    "duration": 6,
    "start_time": "2022-05-27T08:23:31.308Z"
   },
   {
    "duration": 19,
    "start_time": "2022-05-27T08:25:30.918Z"
   },
   {
    "duration": 2687,
    "start_time": "2022-05-27T08:26:27.284Z"
   },
   {
    "duration": 31,
    "start_time": "2022-05-27T08:26:55.794Z"
   },
   {
    "duration": 322,
    "start_time": "2022-05-27T08:28:08.372Z"
   },
   {
    "duration": 20,
    "start_time": "2022-05-27T08:29:26.704Z"
   },
   {
    "duration": 40,
    "start_time": "2022-05-27T08:29:31.994Z"
   },
   {
    "duration": 37,
    "start_time": "2022-05-27T08:31:30.977Z"
   },
   {
    "duration": 4,
    "start_time": "2022-05-27T08:31:46.284Z"
   },
   {
    "duration": 1163,
    "start_time": "2022-05-27T08:31:47.726Z"
   },
   {
    "duration": 9,
    "start_time": "2022-05-27T08:31:48.895Z"
   },
   {
    "duration": 354,
    "start_time": "2022-05-27T08:31:48.908Z"
   },
   {
    "duration": 224,
    "start_time": "2022-05-27T08:31:49.345Z"
   },
   {
    "duration": 101,
    "start_time": "2022-05-27T08:31:49.743Z"
   },
   {
    "duration": 18,
    "start_time": "2022-05-27T08:31:50.491Z"
   },
   {
    "duration": 6,
    "start_time": "2022-05-27T08:31:51.676Z"
   },
   {
    "duration": 38,
    "start_time": "2022-05-27T08:31:52.979Z"
   },
   {
    "duration": 30,
    "start_time": "2022-05-27T08:31:53.276Z"
   },
   {
    "duration": 14,
    "start_time": "2022-05-27T08:31:53.589Z"
   },
   {
    "duration": 697,
    "start_time": "2022-05-27T08:31:55.120Z"
   },
   {
    "duration": 1101,
    "start_time": "2022-05-27T08:31:55.821Z"
   },
   {
    "duration": 963,
    "start_time": "2022-05-27T08:31:56.930Z"
   },
   {
    "duration": 1020,
    "start_time": "2022-05-27T08:31:57.899Z"
   },
   {
    "duration": 17,
    "start_time": "2022-05-27T08:31:58.925Z"
   },
   {
    "duration": 96,
    "start_time": "2022-05-27T08:31:58.948Z"
   },
   {
    "duration": 327,
    "start_time": "2022-05-27T08:31:59.181Z"
   },
   {
    "duration": 1202,
    "start_time": "2022-05-27T08:31:59.514Z"
   },
   {
    "duration": 33,
    "start_time": "2022-05-27T08:32:00.719Z"
   },
   {
    "duration": 635,
    "start_time": "2022-05-27T08:32:00.755Z"
   },
   {
    "duration": 1167,
    "start_time": "2022-05-27T08:32:01.395Z"
   },
   {
    "duration": 29,
    "start_time": "2022-05-27T08:32:02.568Z"
   },
   {
    "duration": 467,
    "start_time": "2022-05-27T08:32:02.604Z"
   },
   {
    "duration": 1074,
    "start_time": "2022-05-27T08:32:03.075Z"
   },
   {
    "duration": 49,
    "start_time": "2022-05-27T08:32:04.155Z"
   },
   {
    "duration": 135,
    "start_time": "2022-05-27T08:32:04.211Z"
   },
   {
    "duration": 4,
    "start_time": "2022-05-27T08:32:07.247Z"
   },
   {
    "duration": 5,
    "start_time": "2022-05-27T08:32:07.785Z"
   },
   {
    "duration": 12,
    "start_time": "2022-05-27T08:32:11.330Z"
   },
   {
    "duration": 9,
    "start_time": "2022-05-27T08:32:12.005Z"
   },
   {
    "duration": 2,
    "start_time": "2022-05-27T08:32:13.016Z"
   },
   {
    "duration": 13,
    "start_time": "2022-05-27T08:32:14.029Z"
   },
   {
    "duration": 75,
    "start_time": "2022-05-27T08:33:19.532Z"
   },
   {
    "duration": 10,
    "start_time": "2022-05-27T08:33:47.413Z"
   },
   {
    "duration": 26,
    "start_time": "2022-05-27T08:34:54.481Z"
   },
   {
    "duration": 12,
    "start_time": "2022-05-27T08:35:01.277Z"
   },
   {
    "duration": 33,
    "start_time": "2022-05-27T08:39:41.278Z"
   },
   {
    "duration": 20,
    "start_time": "2022-05-27T08:39:55.553Z"
   },
   {
    "duration": 13,
    "start_time": "2022-05-27T08:40:00.549Z"
   },
   {
    "duration": 12,
    "start_time": "2022-05-27T08:40:14.431Z"
   },
   {
    "duration": 26,
    "start_time": "2022-05-27T08:42:11.220Z"
   },
   {
    "duration": 8,
    "start_time": "2022-05-27T08:50:11.779Z"
   },
   {
    "duration": 9,
    "start_time": "2022-05-27T08:50:19.878Z"
   },
   {
    "duration": 10,
    "start_time": "2022-05-27T08:50:30.312Z"
   },
   {
    "duration": 18,
    "start_time": "2022-05-27T08:51:28.000Z"
   },
   {
    "duration": 25,
    "start_time": "2022-05-27T08:51:48.296Z"
   },
   {
    "duration": 13,
    "start_time": "2022-05-27T08:52:35.421Z"
   },
   {
    "duration": 13,
    "start_time": "2022-05-27T08:52:40.180Z"
   },
   {
    "duration": 73,
    "start_time": "2022-05-27T08:52:42.076Z"
   },
   {
    "duration": 22,
    "start_time": "2022-05-27T08:52:42.969Z"
   },
   {
    "duration": 3,
    "start_time": "2022-05-27T08:52:43.527Z"
   },
   {
    "duration": 131,
    "start_time": "2022-05-27T08:52:45.405Z"
   },
   {
    "duration": 11,
    "start_time": "2022-05-27T08:52:45.996Z"
   },
   {
    "duration": 15,
    "start_time": "2022-05-27T08:52:46.586Z"
   },
   {
    "duration": 68,
    "start_time": "2022-05-27T08:52:53.180Z"
   },
   {
    "duration": 20,
    "start_time": "2022-05-27T08:52:54.008Z"
   },
   {
    "duration": 6,
    "start_time": "2022-05-27T08:53:00.168Z"
   },
   {
    "duration": 5,
    "start_time": "2022-05-27T08:53:25.433Z"
   },
   {
    "duration": 7,
    "start_time": "2022-05-27T09:02:39.576Z"
   },
   {
    "duration": 5,
    "start_time": "2022-05-27T09:02:41.352Z"
   },
   {
    "duration": 750921,
    "start_time": "2022-05-27T09:02:42.130Z"
   },
   {
    "duration": 1225302,
    "start_time": "2022-05-27T09:23:15.233Z"
   },
   {
    "duration": 4,
    "start_time": "2022-05-27T09:52:54.426Z"
   },
   {
    "duration": 6,
    "start_time": "2022-05-27T09:53:04.657Z"
   },
   {
    "duration": 61,
    "start_time": "2022-05-27T09:53:05.364Z"
   },
   {
    "duration": 1280,
    "start_time": "2022-05-27T09:53:06.118Z"
   },
   {
    "duration": 2262,
    "start_time": "2022-05-27T09:53:08.252Z"
   },
   {
    "duration": 20,
    "start_time": "2022-05-27T09:53:11.994Z"
   },
   {
    "duration": 37,
    "start_time": "2022-05-27T09:53:43.492Z"
   },
   {
    "duration": 38,
    "start_time": "2022-05-27T09:54:15.129Z"
   },
   {
    "duration": 4,
    "start_time": "2022-05-27T10:23:14.930Z"
   },
   {
    "duration": 30,
    "start_time": "2022-05-27T10:23:20.616Z"
   },
   {
    "duration": 9,
    "start_time": "2022-05-27T10:25:12.502Z"
   },
   {
    "duration": 63,
    "start_time": "2022-05-27T10:25:18.204Z"
   },
   {
    "duration": 36,
    "start_time": "2022-05-27T10:25:32.106Z"
   },
   {
    "duration": 1549,
    "start_time": "2022-05-27T10:25:49.313Z"
   },
   {
    "duration": 939,
    "start_time": "2022-05-27T10:25:52.346Z"
   },
   {
    "duration": 5,
    "start_time": "2022-05-27T10:25:53.287Z"
   },
   {
    "duration": 255,
    "start_time": "2022-05-27T10:25:53.714Z"
   },
   {
    "duration": 246,
    "start_time": "2022-05-27T10:25:54.057Z"
   },
   {
    "duration": 67,
    "start_time": "2022-05-27T10:25:54.335Z"
   },
   {
    "duration": 18,
    "start_time": "2022-05-27T10:25:56.647Z"
   },
   {
    "duration": 13,
    "start_time": "2022-05-27T10:25:57.994Z"
   },
   {
    "duration": 21,
    "start_time": "2022-05-27T10:25:59.017Z"
   },
   {
    "duration": 23,
    "start_time": "2022-05-27T10:25:59.316Z"
   },
   {
    "duration": 13,
    "start_time": "2022-05-27T10:25:59.599Z"
   },
   {
    "duration": 535,
    "start_time": "2022-05-27T10:26:00.691Z"
   },
   {
    "duration": 812,
    "start_time": "2022-05-27T10:26:01.229Z"
   },
   {
    "duration": 1029,
    "start_time": "2022-05-27T10:26:02.043Z"
   },
   {
    "duration": 815,
    "start_time": "2022-05-27T10:26:03.082Z"
   },
   {
    "duration": 12,
    "start_time": "2022-05-27T10:26:03.898Z"
   },
   {
    "duration": 28,
    "start_time": "2022-05-27T10:26:03.912Z"
   },
   {
    "duration": 278,
    "start_time": "2022-05-27T10:26:03.942Z"
   },
   {
    "duration": 987,
    "start_time": "2022-05-27T10:26:05.227Z"
   },
   {
    "duration": 32,
    "start_time": "2022-05-27T10:26:07.511Z"
   },
   {
    "duration": 283,
    "start_time": "2022-05-27T10:26:08.024Z"
   },
   {
    "duration": 898,
    "start_time": "2022-05-27T10:26:08.507Z"
   },
   {
    "duration": 26,
    "start_time": "2022-05-27T10:26:09.409Z"
   },
   {
    "duration": 395,
    "start_time": "2022-05-27T10:26:09.818Z"
   },
   {
    "duration": 904,
    "start_time": "2022-05-27T10:26:10.313Z"
   },
   {
    "duration": 20,
    "start_time": "2022-05-27T10:26:12.815Z"
   },
   {
    "duration": 12,
    "start_time": "2022-05-27T10:26:13.731Z"
   },
   {
    "duration": 5,
    "start_time": "2022-05-27T10:26:15.422Z"
   },
   {
    "duration": 3,
    "start_time": "2022-05-27T10:26:16.179Z"
   },
   {
    "duration": 8,
    "start_time": "2022-05-27T10:26:22.916Z"
   },
   {
    "duration": 7,
    "start_time": "2022-05-27T10:26:23.611Z"
   },
   {
    "duration": 16,
    "start_time": "2022-05-27T10:26:25.650Z"
   },
   {
    "duration": 85,
    "start_time": "2022-05-27T10:26:32.657Z"
   },
   {
    "duration": 36,
    "start_time": "2022-05-27T10:26:41.395Z"
   },
   {
    "duration": 6,
    "start_time": "2022-05-27T10:27:42.814Z"
   },
   {
    "duration": 6,
    "start_time": "2022-05-27T10:28:17.530Z"
   },
   {
    "duration": 5,
    "start_time": "2022-05-27T10:28:25.229Z"
   },
   {
    "duration": 9,
    "start_time": "2022-05-27T10:28:37.207Z"
   },
   {
    "duration": 8,
    "start_time": "2022-05-27T10:28:39.420Z"
   },
   {
    "duration": 7,
    "start_time": "2022-05-27T10:29:48.447Z"
   },
   {
    "duration": 8,
    "start_time": "2022-05-27T10:29:49.219Z"
   },
   {
    "duration": 7,
    "start_time": "2022-05-27T10:30:25.324Z"
   },
   {
    "duration": 9,
    "start_time": "2022-05-27T10:30:26.716Z"
   },
   {
    "duration": 15,
    "start_time": "2022-05-27T10:30:48.399Z"
   },
   {
    "duration": 8,
    "start_time": "2022-05-27T10:31:03.707Z"
   },
   {
    "duration": 5,
    "start_time": "2022-05-27T10:31:05.108Z"
   },
   {
    "duration": 15,
    "start_time": "2022-05-27T10:31:16.447Z"
   },
   {
    "duration": 166,
    "start_time": "2022-05-27T10:31:32.631Z"
   },
   {
    "duration": 9,
    "start_time": "2022-05-27T10:31:36.948Z"
   },
   {
    "duration": 9,
    "start_time": "2022-05-27T10:32:01.821Z"
   },
   {
    "duration": 14,
    "start_time": "2022-05-27T10:32:04.949Z"
   },
   {
    "duration": 4,
    "start_time": "2022-05-27T10:32:16.812Z"
   },
   {
    "duration": 10,
    "start_time": "2022-05-27T10:32:24.319Z"
   },
   {
    "duration": 47,
    "start_time": "2022-05-27T10:32:51.487Z"
   },
   {
    "duration": 914,
    "start_time": "2022-05-27T10:33:05.549Z"
   },
   {
    "duration": 17,
    "start_time": "2022-05-27T10:33:28.522Z"
   },
   {
    "duration": 1390,
    "start_time": "2022-05-27T10:34:11.754Z"
   },
   {
    "duration": 7,
    "start_time": "2022-05-27T10:34:36.819Z"
   },
   {
    "duration": 14,
    "start_time": "2022-05-27T10:34:40.380Z"
   },
   {
    "duration": 10,
    "start_time": "2022-05-27T10:34:44.027Z"
   },
   {
    "duration": 30,
    "start_time": "2022-05-27T10:36:11.052Z"
   },
   {
    "duration": 70,
    "start_time": "2022-05-27T10:36:16.370Z"
   },
   {
    "duration": 12,
    "start_time": "2022-05-27T10:37:44.821Z"
   },
   {
    "duration": 8,
    "start_time": "2022-05-27T10:37:53.626Z"
   },
   {
    "duration": 4,
    "start_time": "2022-05-27T10:40:52.810Z"
   },
   {
    "duration": 45,
    "start_time": "2022-05-27T10:40:59.392Z"
   },
   {
    "duration": 5,
    "start_time": "2022-05-27T10:41:03.616Z"
   },
   {
    "duration": 28,
    "start_time": "2022-05-27T10:42:44.048Z"
   },
   {
    "duration": 25,
    "start_time": "2022-05-27T10:43:19.616Z"
   },
   {
    "duration": 35,
    "start_time": "2022-05-27T10:43:36.452Z"
   },
   {
    "duration": 12,
    "start_time": "2022-05-27T10:44:12.530Z"
   },
   {
    "duration": 14,
    "start_time": "2022-05-27T10:44:52.200Z"
   },
   {
    "duration": 17,
    "start_time": "2022-05-27T10:45:02.508Z"
   },
   {
    "duration": 67,
    "start_time": "2022-05-27T10:45:06.270Z"
   },
   {
    "duration": 8,
    "start_time": "2022-05-27T10:45:09.625Z"
   },
   {
    "duration": 24,
    "start_time": "2022-05-27T10:45:37.803Z"
   },
   {
    "duration": 11,
    "start_time": "2022-05-27T10:45:53.289Z"
   },
   {
    "duration": 71,
    "start_time": "2022-05-27T10:46:00.400Z"
   },
   {
    "duration": 7,
    "start_time": "2022-05-27T10:46:01.731Z"
   },
   {
    "duration": 9,
    "start_time": "2022-05-27T10:46:09.624Z"
   },
   {
    "duration": 16,
    "start_time": "2022-05-27T10:46:40.348Z"
   },
   {
    "duration": 14,
    "start_time": "2022-05-27T10:46:49.648Z"
   },
   {
    "duration": 28,
    "start_time": "2022-05-27T10:46:59.403Z"
   },
   {
    "duration": 43,
    "start_time": "2022-05-27T10:47:28.081Z"
   },
   {
    "duration": 27,
    "start_time": "2022-05-27T10:47:59.097Z"
   },
   {
    "duration": 6,
    "start_time": "2022-05-27T10:48:26.524Z"
   },
   {
    "duration": 994,
    "start_time": "2022-05-27T10:48:28.051Z"
   },
   {
    "duration": 4,
    "start_time": "2022-05-27T10:48:29.047Z"
   },
   {
    "duration": 246,
    "start_time": "2022-05-27T10:48:30.127Z"
   },
   {
    "duration": 242,
    "start_time": "2022-05-27T10:48:30.729Z"
   },
   {
    "duration": 96,
    "start_time": "2022-05-27T10:48:31.149Z"
   },
   {
    "duration": 13,
    "start_time": "2022-05-27T10:48:32.100Z"
   },
   {
    "duration": 9,
    "start_time": "2022-05-27T10:48:33.480Z"
   },
   {
    "duration": 32,
    "start_time": "2022-05-27T10:48:35.449Z"
   },
   {
    "duration": 38,
    "start_time": "2022-05-27T10:48:35.948Z"
   },
   {
    "duration": 13,
    "start_time": "2022-05-27T10:48:36.521Z"
   },
   {
    "duration": 721,
    "start_time": "2022-05-27T10:48:38.449Z"
   },
   {
    "duration": 950,
    "start_time": "2022-05-27T10:48:39.925Z"
   },
   {
    "duration": 1055,
    "start_time": "2022-05-27T10:48:40.881Z"
   },
   {
    "duration": 924,
    "start_time": "2022-05-27T10:48:42.111Z"
   },
   {
    "duration": 10,
    "start_time": "2022-05-27T10:48:43.037Z"
   },
   {
    "duration": 47,
    "start_time": "2022-05-27T10:48:43.049Z"
   },
   {
    "duration": 239,
    "start_time": "2022-05-27T10:48:44.831Z"
   },
   {
    "duration": 1126,
    "start_time": "2022-05-27T10:48:45.335Z"
   },
   {
    "duration": 27,
    "start_time": "2022-05-27T10:48:46.464Z"
   },
   {
    "duration": 338,
    "start_time": "2022-05-27T10:48:46.823Z"
   },
   {
    "duration": 1216,
    "start_time": "2022-05-27T10:48:47.329Z"
   },
   {
    "duration": 32,
    "start_time": "2022-05-27T10:48:48.547Z"
   },
   {
    "duration": 341,
    "start_time": "2022-05-27T10:48:48.585Z"
   },
   {
    "duration": 1045,
    "start_time": "2022-05-27T10:48:48.931Z"
   },
   {
    "duration": 22,
    "start_time": "2022-05-27T10:48:52.125Z"
   },
   {
    "duration": 20,
    "start_time": "2022-05-27T10:48:52.150Z"
   },
   {
    "duration": 5,
    "start_time": "2022-05-27T10:48:53.722Z"
   },
   {
    "duration": 3,
    "start_time": "2022-05-27T10:48:54.212Z"
   },
   {
    "duration": 8,
    "start_time": "2022-05-27T10:48:57.496Z"
   },
   {
    "duration": 5,
    "start_time": "2022-05-27T10:48:58.026Z"
   },
   {
    "duration": 13,
    "start_time": "2022-05-27T10:48:59.232Z"
   },
   {
    "duration": 77,
    "start_time": "2022-05-27T10:49:00.127Z"
   },
   {
    "duration": 8,
    "start_time": "2022-05-27T10:49:00.835Z"
   },
   {
    "duration": 13,
    "start_time": "2022-05-27T10:49:02.401Z"
   },
   {
    "duration": 14,
    "start_time": "2022-05-27T10:49:04.248Z"
   },
   {
    "duration": 14,
    "start_time": "2022-05-27T10:49:05.480Z"
   },
   {
    "duration": 13,
    "start_time": "2022-05-27T10:51:14.130Z"
   },
   {
    "duration": 9,
    "start_time": "2022-05-27T10:51:18.547Z"
   },
   {
    "duration": 22,
    "start_time": "2022-05-27T10:51:19.220Z"
   },
   {
    "duration": 12,
    "start_time": "2022-05-27T10:51:19.818Z"
   },
   {
    "duration": 33,
    "start_time": "2022-05-27T10:51:29.513Z"
   },
   {
    "duration": 10,
    "start_time": "2022-05-27T10:51:51.729Z"
   },
   {
    "duration": 20,
    "start_time": "2022-05-27T10:52:33.892Z"
   },
   {
    "duration": 15,
    "start_time": "2022-05-27T10:52:55.135Z"
   },
   {
    "duration": 12,
    "start_time": "2022-05-27T10:55:35.746Z"
   },
   {
    "duration": 54,
    "start_time": "2022-05-27T10:55:36.910Z"
   },
   {
    "duration": 5,
    "start_time": "2022-05-27T10:55:37.616Z"
   },
   {
    "duration": 3,
    "start_time": "2022-05-27T10:55:45.132Z"
   },
   {
    "duration": 90,
    "start_time": "2022-05-27T10:55:46.630Z"
   },
   {
    "duration": 9,
    "start_time": "2022-05-27T10:55:47.601Z"
   },
   {
    "duration": 3,
    "start_time": "2022-05-27T10:55:48.227Z"
   },
   {
    "duration": 4,
    "start_time": "2022-05-27T10:55:50.221Z"
   },
   {
    "duration": 433545,
    "start_time": "2022-05-27T10:55:51.700Z"
   },
   {
    "duration": 11,
    "start_time": "2022-05-27T11:35:07.428Z"
   },
   {
    "duration": 852109,
    "start_time": "2022-05-27T11:35:14.729Z"
   },
   {
    "duration": 4,
    "start_time": "2022-05-27T11:55:53.923Z"
   },
   {
    "duration": 4,
    "start_time": "2022-05-27T11:55:59.239Z"
   },
   {
    "duration": 42,
    "start_time": "2022-05-27T11:56:00.229Z"
   },
   {
    "duration": 815,
    "start_time": "2022-05-27T11:56:01.067Z"
   },
   {
    "duration": 1230,
    "start_time": "2022-05-27T11:56:02.848Z"
   },
   {
    "duration": 4,
    "start_time": "2022-05-27T11:56:05.223Z"
   },
   {
    "duration": 2067,
    "start_time": "2022-05-27T11:56:09.609Z"
   },
   {
    "duration": 2119,
    "start_time": "2022-05-27T11:56:22.120Z"
   },
   {
    "duration": 80,
    "start_time": "2022-05-27T11:58:12.209Z"
   },
   {
    "duration": 18,
    "start_time": "2022-05-27T11:58:29.616Z"
   },
   {
    "duration": 46,
    "start_time": "2022-05-27T12:00:39.139Z"
   },
   {
    "duration": 19,
    "start_time": "2022-05-27T12:00:55.221Z"
   },
   {
    "duration": 4,
    "start_time": "2022-05-27T12:01:20.539Z"
   },
   {
    "duration": 6,
    "start_time": "2022-05-27T12:01:32.093Z"
   },
   {
    "duration": 4,
    "start_time": "2022-05-27T12:01:37.738Z"
   },
   {
    "duration": 13,
    "start_time": "2022-05-27T12:02:55.417Z"
   },
   {
    "duration": 23,
    "start_time": "2022-05-27T12:02:56.143Z"
   },
   {
    "duration": 11,
    "start_time": "2022-05-27T12:02:57.332Z"
   },
   {
    "duration": 106,
    "start_time": "2022-05-27T12:02:58.133Z"
   },
   {
    "duration": 24,
    "start_time": "2022-05-27T12:02:58.953Z"
   },
   {
    "duration": 7,
    "start_time": "2022-05-27T12:03:00.291Z"
   },
   {
    "duration": 17,
    "start_time": "2022-05-27T12:03:00.846Z"
   },
   {
    "duration": 10,
    "start_time": "2022-05-27T12:03:01.451Z"
   },
   {
    "duration": 4,
    "start_time": "2022-05-27T12:03:02.044Z"
   },
   {
    "duration": 18,
    "start_time": "2022-05-27T12:03:06.555Z"
   },
   {
    "duration": 56,
    "start_time": "2022-05-27T12:03:07.109Z"
   },
   {
    "duration": 13,
    "start_time": "2022-05-27T12:03:07.816Z"
   },
   {
    "duration": 8,
    "start_time": "2022-05-27T12:03:09.552Z"
   },
   {
    "duration": 116,
    "start_time": "2022-05-27T12:03:17.925Z"
   },
   {
    "duration": 11,
    "start_time": "2022-05-27T12:03:19.636Z"
   },
   {
    "duration": 9,
    "start_time": "2022-05-27T12:03:20.324Z"
   },
   {
    "duration": 26,
    "start_time": "2022-05-27T12:11:56.234Z"
   },
   {
    "duration": 15,
    "start_time": "2022-05-27T12:12:17.090Z"
   },
   {
    "duration": 11,
    "start_time": "2022-05-27T12:12:29.403Z"
   },
   {
    "duration": 44242,
    "start_time": "2022-05-27T12:12:46.214Z"
   },
   {
    "duration": 51,
    "start_time": "2022-05-27T12:15:13.151Z"
   },
   {
    "duration": 4,
    "start_time": "2022-05-27T12:15:49.951Z"
   },
   {
    "duration": 18904,
    "start_time": "2022-05-27T12:15:53.843Z"
   },
   {
    "duration": 2734,
    "start_time": "2022-05-27T12:16:34.503Z"
   },
   {
    "duration": 4,
    "start_time": "2022-05-27T12:16:43.627Z"
   },
   {
    "duration": 25106,
    "start_time": "2022-05-27T12:17:29.444Z"
   },
   {
    "duration": 3,
    "start_time": "2022-05-27T12:18:01.219Z"
   },
   {
    "duration": 222656,
    "start_time": "2022-05-27T12:18:28.439Z"
   },
   {
    "duration": 1763,
    "start_time": "2022-05-27T12:52:39.443Z"
   },
   {
    "duration": 2377,
    "start_time": "2022-05-27T12:52:42.951Z"
   },
   {
    "duration": 5,
    "start_time": "2022-05-27T12:52:45.330Z"
   },
   {
    "duration": 292,
    "start_time": "2022-05-27T12:52:45.337Z"
   },
   {
    "duration": 240,
    "start_time": "2022-05-27T12:52:45.633Z"
   },
   {
    "duration": 79,
    "start_time": "2022-05-27T12:52:45.877Z"
   },
   {
    "duration": 15,
    "start_time": "2022-05-27T12:52:45.960Z"
   },
   {
    "duration": 9,
    "start_time": "2022-05-27T12:52:46.866Z"
   },
   {
    "duration": 23,
    "start_time": "2022-05-27T12:52:48.213Z"
   },
   {
    "duration": 23,
    "start_time": "2022-05-27T12:52:48.521Z"
   },
   {
    "duration": 11,
    "start_time": "2022-05-27T12:52:48.791Z"
   },
   {
    "duration": 511,
    "start_time": "2022-05-27T12:52:50.336Z"
   },
   {
    "duration": 940,
    "start_time": "2022-05-27T12:52:51.440Z"
   },
   {
    "duration": 1032,
    "start_time": "2022-05-27T12:52:52.979Z"
   },
   {
    "duration": 922,
    "start_time": "2022-05-27T12:52:55.808Z"
   },
   {
    "duration": 9,
    "start_time": "2022-05-27T12:52:56.732Z"
   },
   {
    "duration": 20,
    "start_time": "2022-05-27T12:52:56.900Z"
   },
   {
    "duration": 298,
    "start_time": "2022-05-27T12:52:58.579Z"
   },
   {
    "duration": 1027,
    "start_time": "2022-05-27T12:52:58.978Z"
   },
   {
    "duration": 28,
    "start_time": "2022-05-27T12:53:00.007Z"
   },
   {
    "duration": 343,
    "start_time": "2022-05-27T12:53:00.090Z"
   },
   {
    "duration": 1088,
    "start_time": "2022-05-27T12:53:00.435Z"
   },
   {
    "duration": 40,
    "start_time": "2022-05-27T12:53:01.525Z"
   },
   {
    "duration": 321,
    "start_time": "2022-05-27T12:53:01.567Z"
   },
   {
    "duration": 1171,
    "start_time": "2022-05-27T12:53:01.891Z"
   },
   {
    "duration": 32,
    "start_time": "2022-05-27T12:53:03.064Z"
   },
   {
    "duration": 15,
    "start_time": "2022-05-27T12:53:03.677Z"
   },
   {
    "duration": 6,
    "start_time": "2022-05-27T12:53:04.976Z"
   },
   {
    "duration": 8,
    "start_time": "2022-05-27T12:53:05.410Z"
   },
   {
    "duration": 20,
    "start_time": "2022-05-27T12:53:08.022Z"
   },
   {
    "duration": 6,
    "start_time": "2022-05-27T12:53:08.476Z"
   },
   {
    "duration": 20,
    "start_time": "2022-05-27T12:53:09.368Z"
   },
   {
    "duration": 56,
    "start_time": "2022-05-27T12:53:09.884Z"
   },
   {
    "duration": 9,
    "start_time": "2022-05-27T12:53:10.413Z"
   },
   {
    "duration": 9,
    "start_time": "2022-05-27T12:53:11.460Z"
   },
   {
    "duration": 19,
    "start_time": "2022-05-27T12:53:11.973Z"
   },
   {
    "duration": 12,
    "start_time": "2022-05-27T12:53:12.494Z"
   },
   {
    "duration": 10,
    "start_time": "2022-05-27T12:53:12.991Z"
   },
   {
    "duration": 24,
    "start_time": "2022-05-27T12:53:15.267Z"
   },
   {
    "duration": 72,
    "start_time": "2022-05-27T12:53:15.811Z"
   },
   {
    "duration": 9,
    "start_time": "2022-05-27T12:53:16.379Z"
   },
   {
    "duration": 3,
    "start_time": "2022-05-27T12:53:16.927Z"
   },
   {
    "duration": 85,
    "start_time": "2022-05-27T12:53:18.365Z"
   },
   {
    "duration": 11,
    "start_time": "2022-05-27T12:53:19.172Z"
   },
   {
    "duration": 4,
    "start_time": "2022-05-27T12:53:19.734Z"
   },
   {
    "duration": 4,
    "start_time": "2022-05-27T12:53:21.332Z"
   },
   {
    "duration": 904876,
    "start_time": "2022-05-27T12:53:22.730Z"
   },
   {
    "duration": 1002993,
    "start_time": "2022-05-27T13:11:20.112Z"
   },
   {
    "duration": 7,
    "start_time": "2022-05-27T13:30:55.579Z"
   },
   {
    "duration": 13,
    "start_time": "2022-05-27T13:31:01.181Z"
   },
   {
    "duration": 46,
    "start_time": "2022-05-27T13:31:01.848Z"
   },
   {
    "duration": 1156,
    "start_time": "2022-05-27T13:31:04.346Z"
   },
   {
    "duration": 1882,
    "start_time": "2022-05-27T13:31:06.537Z"
   },
   {
    "duration": 16,
    "start_time": "2022-05-27T13:31:09.202Z"
   },
   {
    "duration": 12,
    "start_time": "2022-05-27T13:31:12.303Z"
   },
   {
    "duration": 4,
    "start_time": "2022-05-27T13:31:13.467Z"
   },
   {
    "duration": 1730,
    "start_time": "2022-05-27T13:31:19.703Z"
   },
   {
    "duration": 10092,
    "start_time": "2022-05-27T13:31:22.665Z"
   },
   {
    "duration": 5,
    "start_time": "2022-05-27T13:31:37.382Z"
   },
   {
    "duration": 65,
    "start_time": "2022-05-27T13:31:45.881Z"
   },
   {
    "duration": 55,
    "start_time": "2022-05-27T13:31:47.493Z"
   },
   {
    "duration": 9,
    "start_time": "2022-05-27T13:31:53.086Z"
   }
  ],
  "kernelspec": {
   "display_name": "Python 3 (ipykernel)",
   "language": "python",
   "name": "python3"
  },
  "language_info": {
   "codemirror_mode": {
    "name": "ipython",
    "version": 3
   },
   "file_extension": ".py",
   "mimetype": "text/x-python",
   "name": "python",
   "nbconvert_exporter": "python",
   "pygments_lexer": "ipython3",
   "version": "3.9.5"
  },
  "toc": {
   "base_numbering": 1,
   "nav_menu": {},
   "number_sections": true,
   "sideBar": true,
   "skip_h1_title": true,
   "title_cell": "Содержание",
   "title_sidebar": "Contents",
   "toc_cell": true,
   "toc_position": {
    "height": "calc(100% - 180px)",
    "left": "10px",
    "top": "150px",
    "width": "302.882px"
   },
   "toc_section_display": true,
   "toc_window_display": true
  }
 },
 "nbformat": 4,
 "nbformat_minor": 2
}
